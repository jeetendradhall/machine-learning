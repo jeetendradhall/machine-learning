{
 "cells": [
  {
   "cell_type": "markdown",
   "metadata": {},
   "source": [
    "# <font color = orange><b>Imports, and Data Fetch</b></font>"
   ]
  },
  {
   "cell_type": "markdown",
   "metadata": {},
   "source": [
    "**imports**"
   ]
  },
  {
   "cell_type": "code",
   "execution_count": 130,
   "metadata": {},
   "outputs": [],
   "source": [
    "#imports\n",
    "import pandas as pd\n",
    "import numpy as np"
   ]
  },
  {
   "cell_type": "markdown",
   "metadata": {},
   "source": [
    "**read configuration file**"
   ]
  },
  {
   "cell_type": "code",
   "execution_count": 131,
   "metadata": {},
   "outputs": [],
   "source": [
    "#configuration\n",
    "from read_config import Config\n",
    "config = Config ()"
   ]
  },
  {
   "cell_type": "markdown",
   "metadata": {},
   "source": [
    "**data**"
   ]
  },
  {
   "cell_type": "markdown",
   "metadata": {},
   "source": [
    "NOTE:\n",
    "We make use of the following dataframes\n",
    "- **df_titanic** read from the titanic dataset\n",
    "- **df_raw** - an in-code sample dataframe to demonstrate csv file save, and some dataframe statistics\n",
    "- **df_books** - an in-code sample dataframe - starting from sub-section 5. of section 'DataFrame Playground'. It is used to show most of the features of the dataframe."
   ]
  },
  {
   "cell_type": "markdown",
   "metadata": {},
   "source": [
    "*titanic*"
   ]
  },
  {
   "cell_type": "code",
   "execution_count": 132,
   "metadata": {},
   "outputs": [
    {
     "data": {
      "text/html": [
       "<div>\n",
       "<style scoped>\n",
       "    .dataframe tbody tr th:only-of-type {\n",
       "        vertical-align: middle;\n",
       "    }\n",
       "\n",
       "    .dataframe tbody tr th {\n",
       "        vertical-align: top;\n",
       "    }\n",
       "\n",
       "    .dataframe thead th {\n",
       "        text-align: right;\n",
       "    }\n",
       "</style>\n",
       "<table border=\"1\" class=\"dataframe\">\n",
       "  <thead>\n",
       "    <tr style=\"text-align: right;\">\n",
       "      <th></th>\n",
       "      <th>PassengerId</th>\n",
       "      <th>Survived</th>\n",
       "      <th>Pclass</th>\n",
       "      <th>Name</th>\n",
       "      <th>Sex</th>\n",
       "      <th>Age</th>\n",
       "      <th>SibSp</th>\n",
       "      <th>Parch</th>\n",
       "      <th>Ticket</th>\n",
       "      <th>Fare</th>\n",
       "      <th>Cabin</th>\n",
       "      <th>Embarked</th>\n",
       "    </tr>\n",
       "  </thead>\n",
       "  <tbody>\n",
       "    <tr>\n",
       "      <td>0</td>\n",
       "      <td>1</td>\n",
       "      <td>0</td>\n",
       "      <td>3</td>\n",
       "      <td>Braund, Mr. Owen Harris</td>\n",
       "      <td>male</td>\n",
       "      <td>22.0</td>\n",
       "      <td>1</td>\n",
       "      <td>0</td>\n",
       "      <td>A/5 21171</td>\n",
       "      <td>7.2500</td>\n",
       "      <td>NaN</td>\n",
       "      <td>S</td>\n",
       "    </tr>\n",
       "    <tr>\n",
       "      <td>1</td>\n",
       "      <td>2</td>\n",
       "      <td>1</td>\n",
       "      <td>1</td>\n",
       "      <td>Cumings, Mrs. John Bradley (Florence Briggs Th...</td>\n",
       "      <td>female</td>\n",
       "      <td>38.0</td>\n",
       "      <td>1</td>\n",
       "      <td>0</td>\n",
       "      <td>PC 17599</td>\n",
       "      <td>71.2833</td>\n",
       "      <td>C85</td>\n",
       "      <td>C</td>\n",
       "    </tr>\n",
       "  </tbody>\n",
       "</table>\n",
       "</div>"
      ],
      "text/plain": [
       "   PassengerId  Survived  Pclass  \\\n",
       "0            1         0       3   \n",
       "1            2         1       1   \n",
       "\n",
       "                                                Name     Sex   Age  SibSp  \\\n",
       "0                            Braund, Mr. Owen Harris    male  22.0      1   \n",
       "1  Cumings, Mrs. John Bradley (Florence Briggs Th...  female  38.0      1   \n",
       "\n",
       "   Parch     Ticket     Fare Cabin Embarked  \n",
       "0      0  A/5 21171   7.2500   NaN        S  \n",
       "1      0   PC 17599  71.2833   C85        C  "
      ]
     },
     "execution_count": 132,
     "metadata": {},
     "output_type": "execute_result"
    }
   ],
   "source": [
    "config.set_dataset_id (\"titanic\")\n",
    "df_titanic = config.get_train_df ()\n",
    "df_titanic.head (2)"
   ]
  },
  {
   "cell_type": "markdown",
   "metadata": {},
   "source": [
    "# <font color = orange> DataFrame Playground </font>"
   ]
  },
  {
   "cell_type": "markdown",
   "metadata": {},
   "source": [
    "## <font color = grey><b>1. Read Data from CSV file into a DataFrame</b></font>"
   ]
  },
  {
   "cell_type": "code",
   "execution_count": 10,
   "metadata": {},
   "outputs": [],
   "source": [
    "import os\n",
    "import pandas as pd\n",
    "\n",
    "config.set_dataset_id (\"titanic\") #read titanic data\n",
    "df_titanic = config.get_train_df ()"
   ]
  },
  {
   "cell_type": "markdown",
   "metadata": {},
   "source": [
    "## <font color = grey><b>2. Create DataFrame from Dictionary</b></font>"
   ]
  },
  {
   "cell_type": "markdown",
   "metadata": {},
   "source": [
    "<font color = magenta>\n",
    "    pd.DataFrame <b>(dict, columns = , index = )</b>\n",
    "</font>"
   ]
  },
  {
   "cell_type": "code",
   "execution_count": 11,
   "metadata": {},
   "outputs": [],
   "source": [
    "raw_data = {'first_name': ['Jason', 'Molly', 'Tina', 'Jake', 'Amy'], \n",
    "        'last_name': ['Miller', 'Jacobson', \".\", 'Milner', 'Cooze'], \n",
    "        'age': [42, 52, 36, 24, 73], \n",
    "        'preTestScore': [4, 24, 31, \".\", \".\"],\n",
    "        'postTestScore': [\"25,000\", \"94,000\", 57, 62, 70]}\n",
    "\n",
    "df_raw = pd.DataFrame (raw_data, columns = ['first_name', 'last_name',\\\n",
    "                                           'age', 'preTestScore',\\\n",
    "                                            'postTestScore'])"
   ]
  },
  {
   "cell_type": "markdown",
   "metadata": {},
   "source": [
    "## <font color = grey><b>3. Save DataFrame to CSV file</b></font>"
   ]
  },
  {
   "cell_type": "markdown",
   "metadata": {},
   "source": [
    "<font color = magenta>\n",
    "    <b>df.to_csv</b> (csv_filename)\n",
    "</font>"
   ]
  },
  {
   "cell_type": "code",
   "execution_count": 12,
   "metadata": {},
   "outputs": [],
   "source": [
    "df_raw.to_csv (\"raw.csv\")"
   ]
  },
  {
   "cell_type": "markdown",
   "metadata": {},
   "source": [
    "## <font color = grey><b>4. DataFrame Statistics</b></font>"
   ]
  },
  {
   "cell_type": "markdown",
   "metadata": {},
   "source": [
    "### Information"
   ]
  },
  {
   "cell_type": "markdown",
   "metadata": {},
   "source": [
    "<font color = magenta><b>df.info ()</b><font>"
   ]
  },
  {
   "cell_type": "code",
   "execution_count": 13,
   "metadata": {},
   "outputs": [
    {
     "name": "stdout",
     "output_type": "stream",
     "text": [
      "<class 'pandas.core.frame.DataFrame'>\n",
      "RangeIndex: 5 entries, 0 to 4\n",
      "Data columns (total 5 columns):\n",
      "first_name       5 non-null object\n",
      "last_name        5 non-null object\n",
      "age              5 non-null int64\n",
      "preTestScore     5 non-null object\n",
      "postTestScore    5 non-null object\n",
      "dtypes: int64(1), object(4)\n",
      "memory usage: 328.0+ bytes\n"
     ]
    }
   ],
   "source": [
    "df_raw.info ()"
   ]
  },
  {
   "cell_type": "markdown",
   "metadata": {},
   "source": [
    "### Information that indicates how many nulls in each column"
   ]
  },
  {
   "cell_type": "markdown",
   "metadata": {},
   "source": [
    "E.g. 'Age' value is present only for 714 out of 891 rows.\n",
    "177 rows do not have value. This count can be achieved by using the function <font color = magenta><b>df.isnull().sum()</b></font> as shown further down."
   ]
  },
  {
   "cell_type": "code",
   "execution_count": 14,
   "metadata": {},
   "outputs": [
    {
     "name": "stdout",
     "output_type": "stream",
     "text": [
      "<class 'pandas.core.frame.DataFrame'>\n",
      "RangeIndex: 891 entries, 0 to 890\n",
      "Data columns (total 12 columns):\n",
      "PassengerId    891 non-null int64\n",
      "Survived       891 non-null int64\n",
      "Pclass         891 non-null int64\n",
      "Name           891 non-null object\n",
      "Sex            891 non-null object\n",
      "Age            714 non-null float64\n",
      "SibSp          891 non-null int64\n",
      "Parch          891 non-null int64\n",
      "Ticket         891 non-null object\n",
      "Fare           891 non-null float64\n",
      "Cabin          204 non-null object\n",
      "Embarked       889 non-null object\n",
      "dtypes: float64(2), int64(5), object(5)\n",
      "memory usage: 83.7+ KB\n"
     ]
    }
   ],
   "source": [
    "df_titanic.info ()"
   ]
  },
  {
   "cell_type": "markdown",
   "metadata": {},
   "source": [
    "### Column Names"
   ]
  },
  {
   "cell_type": "markdown",
   "metadata": {},
   "source": [
    "NOTE: <font color = magenta>columns is an <b>attribute</b></font> that returns an index containing the column names. This attribute can also have a **name**."
   ]
  },
  {
   "cell_type": "code",
   "execution_count": 15,
   "metadata": {},
   "outputs": [
    {
     "data": {
      "text/plain": [
       "Index(['PassengerId', 'Survived', 'Pclass', 'Name', 'Sex', 'Age', 'SibSp',\n",
       "       'Parch', 'Ticket', 'Fare', 'Cabin', 'Embarked'],\n",
       "      dtype='object')"
      ]
     },
     "execution_count": 15,
     "metadata": {},
     "output_type": "execute_result"
    }
   ],
   "source": [
    "df_titanic.columns"
   ]
  },
  {
   "cell_type": "markdown",
   "metadata": {},
   "source": [
    "### Shape"
   ]
  },
  {
   "cell_type": "markdown",
   "metadata": {},
   "source": [
    "<font color = magenta><b>df.shape</b></font>"
   ]
  },
  {
   "cell_type": "code",
   "execution_count": 16,
   "metadata": {},
   "outputs": [
    {
     "data": {
      "text/plain": [
       "(5, 5)"
      ]
     },
     "execution_count": 16,
     "metadata": {},
     "output_type": "execute_result"
    }
   ],
   "source": [
    "df_raw.shape"
   ]
  },
  {
   "cell_type": "markdown",
   "metadata": {},
   "source": [
    "### Display first few rows"
   ]
  },
  {
   "cell_type": "markdown",
   "metadata": {},
   "source": [
    "<font color = magenta><b>df.head (n)</b></font>"
   ]
  },
  {
   "cell_type": "code",
   "execution_count": 17,
   "metadata": {},
   "outputs": [
    {
     "data": {
      "text/html": [
       "<div>\n",
       "<style scoped>\n",
       "    .dataframe tbody tr th:only-of-type {\n",
       "        vertical-align: middle;\n",
       "    }\n",
       "\n",
       "    .dataframe tbody tr th {\n",
       "        vertical-align: top;\n",
       "    }\n",
       "\n",
       "    .dataframe thead th {\n",
       "        text-align: right;\n",
       "    }\n",
       "</style>\n",
       "<table border=\"1\" class=\"dataframe\">\n",
       "  <thead>\n",
       "    <tr style=\"text-align: right;\">\n",
       "      <th></th>\n",
       "      <th>first_name</th>\n",
       "      <th>last_name</th>\n",
       "      <th>age</th>\n",
       "      <th>preTestScore</th>\n",
       "      <th>postTestScore</th>\n",
       "    </tr>\n",
       "  </thead>\n",
       "  <tbody>\n",
       "    <tr>\n",
       "      <td>0</td>\n",
       "      <td>Jason</td>\n",
       "      <td>Miller</td>\n",
       "      <td>42</td>\n",
       "      <td>4</td>\n",
       "      <td>25,000</td>\n",
       "    </tr>\n",
       "    <tr>\n",
       "      <td>1</td>\n",
       "      <td>Molly</td>\n",
       "      <td>Jacobson</td>\n",
       "      <td>52</td>\n",
       "      <td>24</td>\n",
       "      <td>94,000</td>\n",
       "    </tr>\n",
       "  </tbody>\n",
       "</table>\n",
       "</div>"
      ],
      "text/plain": [
       "  first_name last_name  age preTestScore postTestScore\n",
       "0      Jason    Miller   42            4        25,000\n",
       "1      Molly  Jacobson   52           24        94,000"
      ]
     },
     "execution_count": 17,
     "metadata": {},
     "output_type": "execute_result"
    }
   ],
   "source": [
    "df_raw.head (2)"
   ]
  },
  {
   "cell_type": "markdown",
   "metadata": {},
   "source": [
    "### Find 'unique' values of a column"
   ]
  },
  {
   "cell_type": "markdown",
   "metadata": {},
   "source": [
    "<font color = magenta><b>df[col].unique ()</b></font>"
   ]
  },
  {
   "cell_type": "code",
   "execution_count": 18,
   "metadata": {},
   "outputs": [
    {
     "data": {
      "text/plain": [
       "array(['S', 'C', 'Q', nan], dtype=object)"
      ]
     },
     "execution_count": 18,
     "metadata": {},
     "output_type": "execute_result"
    }
   ],
   "source": [
    "df_titanic ['Embarked'].unique ()"
   ]
  },
  {
   "cell_type": "markdown",
   "metadata": {},
   "source": [
    "### Subtotals, grouped by values of a column"
   ]
  },
  {
   "cell_type": "markdown",
   "metadata": {},
   "source": [
    "<font color = magenta><b>value_counts ()</b></font> returns a **Series** with <font color = magenta><b>group by values as index values</b></font>."
   ]
  },
  {
   "cell_type": "code",
   "execution_count": 19,
   "metadata": {},
   "outputs": [
    {
     "data": {
      "text/plain": [
       "0    549\n",
       "1    342\n",
       "Name: Survived, dtype: int64"
      ]
     },
     "execution_count": 19,
     "metadata": {},
     "output_type": "execute_result"
    }
   ],
   "source": [
    "df_titanic ['Survived'].value_counts ()"
   ]
  },
  {
   "cell_type": "markdown",
   "metadata": {},
   "source": [
    "NOTE: 'Survived' is used as the field, whose values will be grouped. Hence, the **index is based on the unique values in 'Survived'**."
   ]
  },
  {
   "cell_type": "code",
   "execution_count": 20,
   "metadata": {},
   "outputs": [
    {
     "name": "stdout",
     "output_type": "stream",
     "text": [
      "Int64Index([0, 1], dtype='int64')\n"
     ]
    }
   ],
   "source": [
    "print(df_titanic ['Survived'].value_counts ().index)"
   ]
  },
  {
   "cell_type": "markdown",
   "metadata": {},
   "source": [
    "### Extract rows based on a filter"
   ]
  },
  {
   "cell_type": "markdown",
   "metadata": {},
   "source": [
    "filter = <font color = magenta><b>df [col_filter] == value</b></font> <br>\n",
    "df <font color = magenta><b>[filter]</b></font>"
   ]
  },
  {
   "cell_type": "code",
   "execution_count": 21,
   "metadata": {},
   "outputs": [
    {
     "data": {
      "text/html": [
       "<div>\n",
       "<style scoped>\n",
       "    .dataframe tbody tr th:only-of-type {\n",
       "        vertical-align: middle;\n",
       "    }\n",
       "\n",
       "    .dataframe tbody tr th {\n",
       "        vertical-align: top;\n",
       "    }\n",
       "\n",
       "    .dataframe thead th {\n",
       "        text-align: right;\n",
       "    }\n",
       "</style>\n",
       "<table border=\"1\" class=\"dataframe\">\n",
       "  <thead>\n",
       "    <tr style=\"text-align: right;\">\n",
       "      <th></th>\n",
       "      <th>PassengerId</th>\n",
       "      <th>Survived</th>\n",
       "      <th>Pclass</th>\n",
       "      <th>Name</th>\n",
       "      <th>Sex</th>\n",
       "      <th>Age</th>\n",
       "      <th>SibSp</th>\n",
       "      <th>Parch</th>\n",
       "      <th>Ticket</th>\n",
       "      <th>Fare</th>\n",
       "      <th>Cabin</th>\n",
       "      <th>Embarked</th>\n",
       "    </tr>\n",
       "  </thead>\n",
       "  <tbody>\n",
       "    <tr>\n",
       "      <td>1</td>\n",
       "      <td>2</td>\n",
       "      <td>1</td>\n",
       "      <td>1</td>\n",
       "      <td>Cumings, Mrs. John Bradley (Florence Briggs Th...</td>\n",
       "      <td>female</td>\n",
       "      <td>38.0</td>\n",
       "      <td>1</td>\n",
       "      <td>0</td>\n",
       "      <td>PC 17599</td>\n",
       "      <td>71.2833</td>\n",
       "      <td>C85</td>\n",
       "      <td>C</td>\n",
       "    </tr>\n",
       "    <tr>\n",
       "      <td>2</td>\n",
       "      <td>3</td>\n",
       "      <td>1</td>\n",
       "      <td>3</td>\n",
       "      <td>Heikkinen, Miss. Laina</td>\n",
       "      <td>female</td>\n",
       "      <td>26.0</td>\n",
       "      <td>0</td>\n",
       "      <td>0</td>\n",
       "      <td>STON/O2. 3101282</td>\n",
       "      <td>7.9250</td>\n",
       "      <td>NaN</td>\n",
       "      <td>S</td>\n",
       "    </tr>\n",
       "  </tbody>\n",
       "</table>\n",
       "</div>"
      ],
      "text/plain": [
       "   PassengerId  Survived  Pclass  \\\n",
       "1            2         1       1   \n",
       "2            3         1       3   \n",
       "\n",
       "                                                Name     Sex   Age  SibSp  \\\n",
       "1  Cumings, Mrs. John Bradley (Florence Briggs Th...  female  38.0      1   \n",
       "2                             Heikkinen, Miss. Laina  female  26.0      0   \n",
       "\n",
       "   Parch            Ticket     Fare Cabin Embarked  \n",
       "1      0          PC 17599  71.2833   C85        C  \n",
       "2      0  STON/O2. 3101282   7.9250   NaN        S  "
      ]
     },
     "execution_count": 21,
     "metadata": {},
     "output_type": "execute_result"
    }
   ],
   "source": [
    "df_titanic [df_titanic ['Survived'] == 1].head (2)"
   ]
  },
  {
   "cell_type": "markdown",
   "metadata": {},
   "source": [
    "### Subtotals on extracted rows, grouped by values of a column"
   ]
  },
  {
   "cell_type": "markdown",
   "metadata": {},
   "source": [
    "filter = df [col_filter] == value<br>\n",
    "df [filter]<font color = magenta><b>[col_groupby].value_counts ()</b></font>"
   ]
  },
  {
   "cell_type": "code",
   "execution_count": 22,
   "metadata": {},
   "outputs": [
    {
     "name": "stdout",
     "output_type": "stream",
     "text": [
      "Survived:\n",
      "female    233\n",
      "male      109\n",
      "Name: Sex, dtype: int64\n",
      "\n",
      "Didnt Survive:\n",
      "male      468\n",
      "female     81\n",
      "Name: Sex, dtype: int64\n"
     ]
    }
   ],
   "source": [
    "print ('Survived:')\n",
    "print (df_titanic [df_titanic \\\n",
    "                  ['Survived'] == 1]['Sex'].value_counts ())\n",
    "print ('\\nDidn''t Survive:')\n",
    "print (df_titanic [df_titanic \\\n",
    "                  ['Survived'] == 0]['Sex'].value_counts ())"
   ]
  },
  {
   "cell_type": "markdown",
   "metadata": {},
   "source": [
    "**value_counts ()** returns a **Series** with **group by values as index values**."
   ]
  },
  {
   "cell_type": "markdown",
   "metadata": {},
   "source": [
    "NOTE: 'Survived' is used as a filter, and 'Sex' is used as the field, whose values will be grouped. Hence, the **index is based on the unique values in 'Sex'**."
   ]
  },
  {
   "cell_type": "code",
   "execution_count": 23,
   "metadata": {},
   "outputs": [
    {
     "data": {
      "text/plain": [
       "pandas.core.series.Series"
      ]
     },
     "execution_count": 23,
     "metadata": {},
     "output_type": "execute_result"
    }
   ],
   "source": [
    "type(df_titanic [df_titanic \\\n",
    "                  ['Survived'] == 0]['Sex'].value_counts ())"
   ]
  },
  {
   "cell_type": "markdown",
   "metadata": {},
   "source": [
    "Series has an **index**"
   ]
  },
  {
   "cell_type": "code",
   "execution_count": 24,
   "metadata": {},
   "outputs": [
    {
     "data": {
      "text/plain": [
       "Index(['male', 'female'], dtype='object')"
      ]
     },
     "execution_count": 24,
     "metadata": {},
     "output_type": "execute_result"
    }
   ],
   "source": [
    "df_titanic [df_titanic \\\n",
    "                  ['Survived'] == 0]['Sex'].value_counts ().index"
   ]
  },
  {
   "cell_type": "markdown",
   "metadata": {},
   "source": [
    "### Null count subtotals"
   ]
  },
  {
   "cell_type": "markdown",
   "metadata": {},
   "source": [
    "visualizing null values inside the dataframe.<br>\n",
    "df.<font color = magenta><b>isnull ()</b></font>"
   ]
  },
  {
   "cell_type": "code",
   "execution_count": 25,
   "metadata": {},
   "outputs": [
    {
     "data": {
      "text/html": [
       "<div>\n",
       "<style scoped>\n",
       "    .dataframe tbody tr th:only-of-type {\n",
       "        vertical-align: middle;\n",
       "    }\n",
       "\n",
       "    .dataframe tbody tr th {\n",
       "        vertical-align: top;\n",
       "    }\n",
       "\n",
       "    .dataframe thead th {\n",
       "        text-align: right;\n",
       "    }\n",
       "</style>\n",
       "<table border=\"1\" class=\"dataframe\">\n",
       "  <thead>\n",
       "    <tr style=\"text-align: right;\">\n",
       "      <th></th>\n",
       "      <th>PassengerId</th>\n",
       "      <th>Survived</th>\n",
       "      <th>Pclass</th>\n",
       "      <th>Name</th>\n",
       "      <th>Sex</th>\n",
       "      <th>Age</th>\n",
       "      <th>SibSp</th>\n",
       "      <th>Parch</th>\n",
       "      <th>Ticket</th>\n",
       "      <th>Fare</th>\n",
       "      <th>Cabin</th>\n",
       "      <th>Embarked</th>\n",
       "    </tr>\n",
       "  </thead>\n",
       "  <tbody>\n",
       "    <tr>\n",
       "      <td>0</td>\n",
       "      <td>False</td>\n",
       "      <td>False</td>\n",
       "      <td>False</td>\n",
       "      <td>False</td>\n",
       "      <td>False</td>\n",
       "      <td>False</td>\n",
       "      <td>False</td>\n",
       "      <td>False</td>\n",
       "      <td>False</td>\n",
       "      <td>False</td>\n",
       "      <td>True</td>\n",
       "      <td>False</td>\n",
       "    </tr>\n",
       "    <tr>\n",
       "      <td>1</td>\n",
       "      <td>False</td>\n",
       "      <td>False</td>\n",
       "      <td>False</td>\n",
       "      <td>False</td>\n",
       "      <td>False</td>\n",
       "      <td>False</td>\n",
       "      <td>False</td>\n",
       "      <td>False</td>\n",
       "      <td>False</td>\n",
       "      <td>False</td>\n",
       "      <td>False</td>\n",
       "      <td>False</td>\n",
       "    </tr>\n",
       "    <tr>\n",
       "      <td>2</td>\n",
       "      <td>False</td>\n",
       "      <td>False</td>\n",
       "      <td>False</td>\n",
       "      <td>False</td>\n",
       "      <td>False</td>\n",
       "      <td>False</td>\n",
       "      <td>False</td>\n",
       "      <td>False</td>\n",
       "      <td>False</td>\n",
       "      <td>False</td>\n",
       "      <td>True</td>\n",
       "      <td>False</td>\n",
       "    </tr>\n",
       "    <tr>\n",
       "      <td>3</td>\n",
       "      <td>False</td>\n",
       "      <td>False</td>\n",
       "      <td>False</td>\n",
       "      <td>False</td>\n",
       "      <td>False</td>\n",
       "      <td>False</td>\n",
       "      <td>False</td>\n",
       "      <td>False</td>\n",
       "      <td>False</td>\n",
       "      <td>False</td>\n",
       "      <td>False</td>\n",
       "      <td>False</td>\n",
       "    </tr>\n",
       "    <tr>\n",
       "      <td>4</td>\n",
       "      <td>False</td>\n",
       "      <td>False</td>\n",
       "      <td>False</td>\n",
       "      <td>False</td>\n",
       "      <td>False</td>\n",
       "      <td>False</td>\n",
       "      <td>False</td>\n",
       "      <td>False</td>\n",
       "      <td>False</td>\n",
       "      <td>False</td>\n",
       "      <td>True</td>\n",
       "      <td>False</td>\n",
       "    </tr>\n",
       "    <tr>\n",
       "      <td>...</td>\n",
       "      <td>...</td>\n",
       "      <td>...</td>\n",
       "      <td>...</td>\n",
       "      <td>...</td>\n",
       "      <td>...</td>\n",
       "      <td>...</td>\n",
       "      <td>...</td>\n",
       "      <td>...</td>\n",
       "      <td>...</td>\n",
       "      <td>...</td>\n",
       "      <td>...</td>\n",
       "      <td>...</td>\n",
       "    </tr>\n",
       "    <tr>\n",
       "      <td>886</td>\n",
       "      <td>False</td>\n",
       "      <td>False</td>\n",
       "      <td>False</td>\n",
       "      <td>False</td>\n",
       "      <td>False</td>\n",
       "      <td>False</td>\n",
       "      <td>False</td>\n",
       "      <td>False</td>\n",
       "      <td>False</td>\n",
       "      <td>False</td>\n",
       "      <td>True</td>\n",
       "      <td>False</td>\n",
       "    </tr>\n",
       "    <tr>\n",
       "      <td>887</td>\n",
       "      <td>False</td>\n",
       "      <td>False</td>\n",
       "      <td>False</td>\n",
       "      <td>False</td>\n",
       "      <td>False</td>\n",
       "      <td>False</td>\n",
       "      <td>False</td>\n",
       "      <td>False</td>\n",
       "      <td>False</td>\n",
       "      <td>False</td>\n",
       "      <td>False</td>\n",
       "      <td>False</td>\n",
       "    </tr>\n",
       "    <tr>\n",
       "      <td>888</td>\n",
       "      <td>False</td>\n",
       "      <td>False</td>\n",
       "      <td>False</td>\n",
       "      <td>False</td>\n",
       "      <td>False</td>\n",
       "      <td>True</td>\n",
       "      <td>False</td>\n",
       "      <td>False</td>\n",
       "      <td>False</td>\n",
       "      <td>False</td>\n",
       "      <td>True</td>\n",
       "      <td>False</td>\n",
       "    </tr>\n",
       "    <tr>\n",
       "      <td>889</td>\n",
       "      <td>False</td>\n",
       "      <td>False</td>\n",
       "      <td>False</td>\n",
       "      <td>False</td>\n",
       "      <td>False</td>\n",
       "      <td>False</td>\n",
       "      <td>False</td>\n",
       "      <td>False</td>\n",
       "      <td>False</td>\n",
       "      <td>False</td>\n",
       "      <td>False</td>\n",
       "      <td>False</td>\n",
       "    </tr>\n",
       "    <tr>\n",
       "      <td>890</td>\n",
       "      <td>False</td>\n",
       "      <td>False</td>\n",
       "      <td>False</td>\n",
       "      <td>False</td>\n",
       "      <td>False</td>\n",
       "      <td>False</td>\n",
       "      <td>False</td>\n",
       "      <td>False</td>\n",
       "      <td>False</td>\n",
       "      <td>False</td>\n",
       "      <td>True</td>\n",
       "      <td>False</td>\n",
       "    </tr>\n",
       "  </tbody>\n",
       "</table>\n",
       "<p>891 rows × 12 columns</p>\n",
       "</div>"
      ],
      "text/plain": [
       "     PassengerId  Survived  Pclass   Name    Sex    Age  SibSp  Parch  Ticket  \\\n",
       "0          False     False   False  False  False  False  False  False   False   \n",
       "1          False     False   False  False  False  False  False  False   False   \n",
       "2          False     False   False  False  False  False  False  False   False   \n",
       "3          False     False   False  False  False  False  False  False   False   \n",
       "4          False     False   False  False  False  False  False  False   False   \n",
       "..           ...       ...     ...    ...    ...    ...    ...    ...     ...   \n",
       "886        False     False   False  False  False  False  False  False   False   \n",
       "887        False     False   False  False  False  False  False  False   False   \n",
       "888        False     False   False  False  False   True  False  False   False   \n",
       "889        False     False   False  False  False  False  False  False   False   \n",
       "890        False     False   False  False  False  False  False  False   False   \n",
       "\n",
       "      Fare  Cabin  Embarked  \n",
       "0    False   True     False  \n",
       "1    False  False     False  \n",
       "2    False   True     False  \n",
       "3    False  False     False  \n",
       "4    False   True     False  \n",
       "..     ...    ...       ...  \n",
       "886  False   True     False  \n",
       "887  False  False     False  \n",
       "888  False   True     False  \n",
       "889  False  False     False  \n",
       "890  False   True     False  \n",
       "\n",
       "[891 rows x 12 columns]"
      ]
     },
     "execution_count": 25,
     "metadata": {},
     "output_type": "execute_result"
    }
   ],
   "source": [
    "df_titanic.isnull ()"
   ]
  },
  {
   "cell_type": "markdown",
   "metadata": {},
   "source": [
    "summary of null values\n",
    "df.isnull ()<font color = magenta><b>.sum ()</b></font>"
   ]
  },
  {
   "cell_type": "code",
   "execution_count": 26,
   "metadata": {},
   "outputs": [
    {
     "data": {
      "text/plain": [
       "PassengerId      0\n",
       "Survived         0\n",
       "Pclass           0\n",
       "Name             0\n",
       "Sex              0\n",
       "Age            177\n",
       "SibSp            0\n",
       "Parch            0\n",
       "Ticket           0\n",
       "Fare             0\n",
       "Cabin          687\n",
       "Embarked         2\n",
       "dtype: int64"
      ]
     },
     "execution_count": 26,
     "metadata": {},
     "output_type": "execute_result"
    }
   ],
   "source": [
    "df_titanic.isnull ().sum ()"
   ]
  },
  {
   "cell_type": "markdown",
   "metadata": {},
   "source": [
    "## <font color = grey><b>5. Create DataFrame (revisited)</b></font>"
   ]
  },
  {
   "cell_type": "markdown",
   "metadata": {},
   "source": [
    "### Data creation"
   ]
  },
  {
   "cell_type": "markdown",
   "metadata": {},
   "source": [
    "#### numpy for NaN\n",
    "<font color = magenta><b>np.NaN</b></font>"
   ]
  },
  {
   "cell_type": "code",
   "execution_count": 27,
   "metadata": {},
   "outputs": [],
   "source": [
    "import numpy as np"
   ]
  },
  {
   "cell_type": "markdown",
   "metadata": {},
   "source": [
    "#### Create some lists"
   ]
  },
  {
   "cell_type": "code",
   "execution_count": 28,
   "metadata": {},
   "outputs": [],
   "source": [
    "author = ['Strang', 'Blitzstein', 'Witten', 'Bishop', 'Bengio', 'Sutton']\n",
    "title = ['Introduction to Linear Algebra', 'Introduction to Probability', 'ML Beginner', 'ML Advanced', \\\n",
    "         'Deep Learning', 'Reinforcement Learning - An Introduction']\n",
    "edition = [1, np.NaN, 2, np.NaN, 1, 2]\n",
    "cost = [10, 20, 15, 40, 30, 25]\n",
    "topic = ['Maths', 'Maths', 'Machine Learning', 'Machine Learning', \\\n",
    "         'Machine Learning', 'Machine Learning']\n",
    "sub_topic = ['LA', 'Prob', 'ML', 'ML', 'DL', 'RL']"
   ]
  },
  {
   "cell_type": "markdown",
   "metadata": {},
   "source": [
    "#### Create some Series\n",
    "<font color = magenta><b>pd.Series (list)</b></font>"
   ]
  },
  {
   "cell_type": "code",
   "execution_count": 29,
   "metadata": {},
   "outputs": [],
   "source": [
    "s_author = pd.Series (author)\n",
    "s_title = pd.Series (title)\n",
    "s_edition = pd.Series (edition)\n",
    "s_cost = pd.Series (cost)"
   ]
  },
  {
   "cell_type": "markdown",
   "metadata": {},
   "source": [
    "Series has an index. This series has a **range index** <br>\n",
    "<font color = magenta><b>Series.index</b></font>"
   ]
  },
  {
   "cell_type": "code",
   "execution_count": 30,
   "metadata": {},
   "outputs": [
    {
     "data": {
      "text/plain": [
       "RangeIndex(start=0, stop=6, step=1)"
      ]
     },
     "execution_count": 30,
     "metadata": {},
     "output_type": "execute_result"
    }
   ],
   "source": [
    "s_author.index"
   ]
  },
  {
   "cell_type": "markdown",
   "metadata": {},
   "source": [
    "### DataFrame from multiple lists"
   ]
  },
  {
   "cell_type": "markdown",
   "metadata": {},
   "source": [
    "#### Incorrect way"
   ]
  },
  {
   "cell_type": "code",
   "execution_count": 31,
   "metadata": {},
   "outputs": [
    {
     "data": {
      "text/html": [
       "<div>\n",
       "<style scoped>\n",
       "    .dataframe tbody tr th:only-of-type {\n",
       "        vertical-align: middle;\n",
       "    }\n",
       "\n",
       "    .dataframe tbody tr th {\n",
       "        vertical-align: top;\n",
       "    }\n",
       "\n",
       "    .dataframe thead th {\n",
       "        text-align: right;\n",
       "    }\n",
       "</style>\n",
       "<table border=\"1\" class=\"dataframe\">\n",
       "  <thead>\n",
       "    <tr style=\"text-align: right;\">\n",
       "      <th></th>\n",
       "      <th>0</th>\n",
       "      <th>1</th>\n",
       "      <th>2</th>\n",
       "      <th>3</th>\n",
       "      <th>4</th>\n",
       "      <th>5</th>\n",
       "    </tr>\n",
       "  </thead>\n",
       "  <tbody>\n",
       "    <tr>\n",
       "      <td>0</td>\n",
       "      <td>Strang</td>\n",
       "      <td>Blitzstein</td>\n",
       "      <td>Witten</td>\n",
       "      <td>Bishop</td>\n",
       "      <td>Bengio</td>\n",
       "      <td>Sutton</td>\n",
       "    </tr>\n",
       "    <tr>\n",
       "      <td>1</td>\n",
       "      <td>Introduction to Linear Algebra</td>\n",
       "      <td>Introduction to Probability</td>\n",
       "      <td>ML Beginner</td>\n",
       "      <td>ML Advanced</td>\n",
       "      <td>Deep Learning</td>\n",
       "      <td>Reinforcement Learning - An Introduction</td>\n",
       "    </tr>\n",
       "  </tbody>\n",
       "</table>\n",
       "</div>"
      ],
      "text/plain": [
       "                                0                            1            2  \\\n",
       "0                          Strang                   Blitzstein       Witten   \n",
       "1  Introduction to Linear Algebra  Introduction to Probability  ML Beginner   \n",
       "\n",
       "             3              4                                         5  \n",
       "0       Bishop         Bengio                                    Sutton  \n",
       "1  ML Advanced  Deep Learning  Reinforcement Learning - An Introduction  "
      ]
     },
     "execution_count": 31,
     "metadata": {},
     "output_type": "execute_result"
    }
   ],
   "source": [
    "pd.DataFrame ([author, title])"
   ]
  },
  {
   "cell_type": "markdown",
   "metadata": {},
   "source": [
    "The reason authors and titles appear on different rows is that a **list is treated as a column**, and we provided a **list of lists**. So, the outer list of 2 elements (author_list and title_list) created the 2 rows, and, the inner list of authors and titles expanded column-wise."
   ]
  },
  {
   "cell_type": "markdown",
   "metadata": {},
   "source": [
    "list is treated as a column"
   ]
  },
  {
   "cell_type": "code",
   "execution_count": 32,
   "metadata": {},
   "outputs": [
    {
     "data": {
      "text/html": [
       "<div>\n",
       "<style scoped>\n",
       "    .dataframe tbody tr th:only-of-type {\n",
       "        vertical-align: middle;\n",
       "    }\n",
       "\n",
       "    .dataframe tbody tr th {\n",
       "        vertical-align: top;\n",
       "    }\n",
       "\n",
       "    .dataframe thead th {\n",
       "        text-align: right;\n",
       "    }\n",
       "</style>\n",
       "<table border=\"1\" class=\"dataframe\">\n",
       "  <thead>\n",
       "    <tr style=\"text-align: right;\">\n",
       "      <th></th>\n",
       "      <th>0</th>\n",
       "    </tr>\n",
       "  </thead>\n",
       "  <tbody>\n",
       "    <tr>\n",
       "      <td>0</td>\n",
       "      <td>a</td>\n",
       "    </tr>\n",
       "    <tr>\n",
       "      <td>1</td>\n",
       "      <td>b</td>\n",
       "    </tr>\n",
       "  </tbody>\n",
       "</table>\n",
       "</div>"
      ],
      "text/plain": [
       "   0\n",
       "0  a\n",
       "1  b"
      ]
     },
     "execution_count": 32,
     "metadata": {},
     "output_type": "execute_result"
    }
   ],
   "source": [
    "pd.DataFrame (['a', 'b'])"
   ]
  },
  {
   "cell_type": "markdown",
   "metadata": {},
   "source": [
    "#### Correct way"
   ]
  },
  {
   "cell_type": "markdown",
   "metadata": {},
   "source": [
    "Zip and create a **list of tuples**. The elements of the **list** form the rows, and the elements of the **enclosing tuple** form the columns. <br>\n",
    "pd.DataFrame (<font color = magenta><b>list (zip (lst_1, lst_2)) </b></font>, columns = , index = )"
   ]
  },
  {
   "cell_type": "code",
   "execution_count": 33,
   "metadata": {},
   "outputs": [
    {
     "data": {
      "text/html": [
       "<div>\n",
       "<style scoped>\n",
       "    .dataframe tbody tr th:only-of-type {\n",
       "        vertical-align: middle;\n",
       "    }\n",
       "\n",
       "    .dataframe tbody tr th {\n",
       "        vertical-align: top;\n",
       "    }\n",
       "\n",
       "    .dataframe thead th {\n",
       "        text-align: right;\n",
       "    }\n",
       "</style>\n",
       "<table border=\"1\" class=\"dataframe\">\n",
       "  <thead>\n",
       "    <tr style=\"text-align: right;\">\n",
       "      <th></th>\n",
       "      <th>Author</th>\n",
       "      <th>Title</th>\n",
       "    </tr>\n",
       "  </thead>\n",
       "  <tbody>\n",
       "    <tr>\n",
       "      <td>0</td>\n",
       "      <td>Strang</td>\n",
       "      <td>Introduction to Linear Algebra</td>\n",
       "    </tr>\n",
       "    <tr>\n",
       "      <td>1</td>\n",
       "      <td>Blitzstein</td>\n",
       "      <td>Introduction to Probability</td>\n",
       "    </tr>\n",
       "    <tr>\n",
       "      <td>2</td>\n",
       "      <td>Witten</td>\n",
       "      <td>ML Beginner</td>\n",
       "    </tr>\n",
       "    <tr>\n",
       "      <td>3</td>\n",
       "      <td>Bishop</td>\n",
       "      <td>ML Advanced</td>\n",
       "    </tr>\n",
       "    <tr>\n",
       "      <td>4</td>\n",
       "      <td>Bengio</td>\n",
       "      <td>Deep Learning</td>\n",
       "    </tr>\n",
       "    <tr>\n",
       "      <td>5</td>\n",
       "      <td>Sutton</td>\n",
       "      <td>Reinforcement Learning - An Introduction</td>\n",
       "    </tr>\n",
       "  </tbody>\n",
       "</table>\n",
       "</div>"
      ],
      "text/plain": [
       "       Author                                     Title\n",
       "0      Strang            Introduction to Linear Algebra\n",
       "1  Blitzstein               Introduction to Probability\n",
       "2      Witten                               ML Beginner\n",
       "3      Bishop                               ML Advanced\n",
       "4      Bengio                             Deep Learning\n",
       "5      Sutton  Reinforcement Learning - An Introduction"
      ]
     },
     "execution_count": 33,
     "metadata": {},
     "output_type": "execute_result"
    }
   ],
   "source": [
    "pd.DataFrame (list (zip (author, title)), columns = ['Author', 'Title'])"
   ]
  },
  {
   "cell_type": "markdown",
   "metadata": {},
   "source": [
    "Zip and create a **tuple of tuples**. The elements of the **outer tuple** form the rows, and the elements of the **enclosing tuple** form the columns."
   ]
  },
  {
   "cell_type": "code",
   "execution_count": 34,
   "metadata": {},
   "outputs": [
    {
     "data": {
      "text/html": [
       "<div>\n",
       "<style scoped>\n",
       "    .dataframe tbody tr th:only-of-type {\n",
       "        vertical-align: middle;\n",
       "    }\n",
       "\n",
       "    .dataframe tbody tr th {\n",
       "        vertical-align: top;\n",
       "    }\n",
       "\n",
       "    .dataframe thead th {\n",
       "        text-align: right;\n",
       "    }\n",
       "</style>\n",
       "<table border=\"1\" class=\"dataframe\">\n",
       "  <thead>\n",
       "    <tr style=\"text-align: right;\">\n",
       "      <th></th>\n",
       "      <th>Author</th>\n",
       "      <th>Title</th>\n",
       "    </tr>\n",
       "  </thead>\n",
       "  <tbody>\n",
       "    <tr>\n",
       "      <td>0</td>\n",
       "      <td>Strang</td>\n",
       "      <td>Introduction to Linear Algebra</td>\n",
       "    </tr>\n",
       "    <tr>\n",
       "      <td>1</td>\n",
       "      <td>Blitzstein</td>\n",
       "      <td>Introduction to Probability</td>\n",
       "    </tr>\n",
       "    <tr>\n",
       "      <td>2</td>\n",
       "      <td>Witten</td>\n",
       "      <td>ML Beginner</td>\n",
       "    </tr>\n",
       "    <tr>\n",
       "      <td>3</td>\n",
       "      <td>Bishop</td>\n",
       "      <td>ML Advanced</td>\n",
       "    </tr>\n",
       "    <tr>\n",
       "      <td>4</td>\n",
       "      <td>Bengio</td>\n",
       "      <td>Deep Learning</td>\n",
       "    </tr>\n",
       "    <tr>\n",
       "      <td>5</td>\n",
       "      <td>Sutton</td>\n",
       "      <td>Reinforcement Learning - An Introduction</td>\n",
       "    </tr>\n",
       "  </tbody>\n",
       "</table>\n",
       "</div>"
      ],
      "text/plain": [
       "       Author                                     Title\n",
       "0      Strang            Introduction to Linear Algebra\n",
       "1  Blitzstein               Introduction to Probability\n",
       "2      Witten                               ML Beginner\n",
       "3      Bishop                               ML Advanced\n",
       "4      Bengio                             Deep Learning\n",
       "5      Sutton  Reinforcement Learning - An Introduction"
      ]
     },
     "execution_count": 34,
     "metadata": {},
     "output_type": "execute_result"
    }
   ],
   "source": [
    "pd.DataFrame (tuple (zip (author, title)), columns = ['Author', 'Title'])"
   ]
  },
  {
   "cell_type": "markdown",
   "metadata": {},
   "source": [
    "### DataFrame from a dictionary, using 'lists' as values of keys"
   ]
  },
  {
   "cell_type": "code",
   "execution_count": 35,
   "metadata": {},
   "outputs": [
    {
     "data": {
      "text/html": [
       "<div>\n",
       "<style scoped>\n",
       "    .dataframe tbody tr th:only-of-type {\n",
       "        vertical-align: middle;\n",
       "    }\n",
       "\n",
       "    .dataframe tbody tr th {\n",
       "        vertical-align: top;\n",
       "    }\n",
       "\n",
       "    .dataframe thead th {\n",
       "        text-align: right;\n",
       "    }\n",
       "</style>\n",
       "<table border=\"1\" class=\"dataframe\">\n",
       "  <thead>\n",
       "    <tr style=\"text-align: right;\">\n",
       "      <th></th>\n",
       "      <th>Author</th>\n",
       "      <th>Title</th>\n",
       "    </tr>\n",
       "  </thead>\n",
       "  <tbody>\n",
       "    <tr>\n",
       "      <td>0</td>\n",
       "      <td>Strang</td>\n",
       "      <td>Introduction to Linear Algebra</td>\n",
       "    </tr>\n",
       "    <tr>\n",
       "      <td>1</td>\n",
       "      <td>Blitzstein</td>\n",
       "      <td>Introduction to Probability</td>\n",
       "    </tr>\n",
       "    <tr>\n",
       "      <td>2</td>\n",
       "      <td>Witten</td>\n",
       "      <td>ML Beginner</td>\n",
       "    </tr>\n",
       "    <tr>\n",
       "      <td>3</td>\n",
       "      <td>Bishop</td>\n",
       "      <td>ML Advanced</td>\n",
       "    </tr>\n",
       "    <tr>\n",
       "      <td>4</td>\n",
       "      <td>Bengio</td>\n",
       "      <td>Deep Learning</td>\n",
       "    </tr>\n",
       "  </tbody>\n",
       "</table>\n",
       "</div>"
      ],
      "text/plain": [
       "       Author                           Title\n",
       "0      Strang  Introduction to Linear Algebra\n",
       "1  Blitzstein     Introduction to Probability\n",
       "2      Witten                     ML Beginner\n",
       "3      Bishop                     ML Advanced\n",
       "4      Bengio                   Deep Learning"
      ]
     },
     "execution_count": 35,
     "metadata": {},
     "output_type": "execute_result"
    }
   ],
   "source": [
    "frame = {'Author': author, 'Title': title}\n",
    "df_temp = pd.DataFrame (frame)\n",
    "df_temp.head ()"
   ]
  },
  {
   "cell_type": "markdown",
   "metadata": {},
   "source": [
    "### DataFrame from a dictionary, using 'Series' as values of keys"
   ]
  },
  {
   "cell_type": "code",
   "execution_count": 36,
   "metadata": {},
   "outputs": [
    {
     "data": {
      "text/html": [
       "<div>\n",
       "<style scoped>\n",
       "    .dataframe tbody tr th:only-of-type {\n",
       "        vertical-align: middle;\n",
       "    }\n",
       "\n",
       "    .dataframe tbody tr th {\n",
       "        vertical-align: top;\n",
       "    }\n",
       "\n",
       "    .dataframe thead th {\n",
       "        text-align: right;\n",
       "    }\n",
       "</style>\n",
       "<table border=\"1\" class=\"dataframe\">\n",
       "  <thead>\n",
       "    <tr style=\"text-align: right;\">\n",
       "      <th></th>\n",
       "      <th>Author</th>\n",
       "      <th>Title</th>\n",
       "    </tr>\n",
       "  </thead>\n",
       "  <tbody>\n",
       "    <tr>\n",
       "      <td>0</td>\n",
       "      <td>Strang</td>\n",
       "      <td>Introduction to Linear Algebra</td>\n",
       "    </tr>\n",
       "    <tr>\n",
       "      <td>1</td>\n",
       "      <td>Blitzstein</td>\n",
       "      <td>Introduction to Probability</td>\n",
       "    </tr>\n",
       "    <tr>\n",
       "      <td>2</td>\n",
       "      <td>Witten</td>\n",
       "      <td>ML Beginner</td>\n",
       "    </tr>\n",
       "    <tr>\n",
       "      <td>3</td>\n",
       "      <td>Bishop</td>\n",
       "      <td>ML Advanced</td>\n",
       "    </tr>\n",
       "    <tr>\n",
       "      <td>4</td>\n",
       "      <td>Bengio</td>\n",
       "      <td>Deep Learning</td>\n",
       "    </tr>\n",
       "  </tbody>\n",
       "</table>\n",
       "</div>"
      ],
      "text/plain": [
       "       Author                           Title\n",
       "0      Strang  Introduction to Linear Algebra\n",
       "1  Blitzstein     Introduction to Probability\n",
       "2      Witten                     ML Beginner\n",
       "3      Bishop                     ML Advanced\n",
       "4      Bengio                   Deep Learning"
      ]
     },
     "execution_count": 36,
     "metadata": {},
     "output_type": "execute_result"
    }
   ],
   "source": [
    "frame = {'Author': s_author, 'Title': s_title}\n",
    "df_books = pd.DataFrame (frame)\n",
    "df_books.head ()"
   ]
  },
  {
   "cell_type": "markdown",
   "metadata": {},
   "source": [
    "#### Add a 'Series' externally"
   ]
  },
  {
   "cell_type": "markdown",
   "metadata": {},
   "source": [
    "NOTE:\n",
    "- A series can be added externally only if the <font color = magenta><b>index</b></font> of the series <font color = magenta><b>matches</b></font> that of the data frame"
   ]
  },
  {
   "cell_type": "code",
   "execution_count": 37,
   "metadata": {},
   "outputs": [
    {
     "data": {
      "text/html": [
       "<div>\n",
       "<style scoped>\n",
       "    .dataframe tbody tr th:only-of-type {\n",
       "        vertical-align: middle;\n",
       "    }\n",
       "\n",
       "    .dataframe tbody tr th {\n",
       "        vertical-align: top;\n",
       "    }\n",
       "\n",
       "    .dataframe thead th {\n",
       "        text-align: right;\n",
       "    }\n",
       "</style>\n",
       "<table border=\"1\" class=\"dataframe\">\n",
       "  <thead>\n",
       "    <tr style=\"text-align: right;\">\n",
       "      <th></th>\n",
       "      <th>Author</th>\n",
       "      <th>Title</th>\n",
       "      <th>Edition</th>\n",
       "    </tr>\n",
       "  </thead>\n",
       "  <tbody>\n",
       "    <tr>\n",
       "      <td>0</td>\n",
       "      <td>Strang</td>\n",
       "      <td>Introduction to Linear Algebra</td>\n",
       "      <td>1.0</td>\n",
       "    </tr>\n",
       "    <tr>\n",
       "      <td>1</td>\n",
       "      <td>Blitzstein</td>\n",
       "      <td>Introduction to Probability</td>\n",
       "      <td>NaN</td>\n",
       "    </tr>\n",
       "    <tr>\n",
       "      <td>2</td>\n",
       "      <td>Witten</td>\n",
       "      <td>ML Beginner</td>\n",
       "      <td>2.0</td>\n",
       "    </tr>\n",
       "    <tr>\n",
       "      <td>3</td>\n",
       "      <td>Bishop</td>\n",
       "      <td>ML Advanced</td>\n",
       "      <td>NaN</td>\n",
       "    </tr>\n",
       "    <tr>\n",
       "      <td>4</td>\n",
       "      <td>Bengio</td>\n",
       "      <td>Deep Learning</td>\n",
       "      <td>1.0</td>\n",
       "    </tr>\n",
       "  </tbody>\n",
       "</table>\n",
       "</div>"
      ],
      "text/plain": [
       "       Author                           Title  Edition\n",
       "0      Strang  Introduction to Linear Algebra      1.0\n",
       "1  Blitzstein     Introduction to Probability      NaN\n",
       "2      Witten                     ML Beginner      2.0\n",
       "3      Bishop                     ML Advanced      NaN\n",
       "4      Bengio                   Deep Learning      1.0"
      ]
     },
     "execution_count": 37,
     "metadata": {},
     "output_type": "execute_result"
    }
   ],
   "source": [
    "df_books ['Edition'] = s_edition\n",
    "df_books.head ()"
   ]
  },
  {
   "cell_type": "markdown",
   "metadata": {},
   "source": [
    "## <font color = grey><b>6. Index</b></font>"
   ]
  },
  {
   "cell_type": "markdown",
   "metadata": {},
   "source": [
    "### Provide 'index'"
   ]
  },
  {
   "cell_type": "markdown",
   "metadata": {},
   "source": [
    "#### Create a custom index"
   ]
  },
  {
   "cell_type": "code",
   "execution_count": 38,
   "metadata": {},
   "outputs": [],
   "source": [
    "idx = ['a', 'b', 'c', 'd', 'e', 'f']"
   ]
  },
  {
   "cell_type": "markdown",
   "metadata": {},
   "source": [
    "#### Pass nameless indices as a parameter"
   ]
  },
  {
   "cell_type": "markdown",
   "metadata": {},
   "source": [
    "NOTE:\n",
    "- '<font color = magenta><b>index</b></font>' is the **row index**\n",
    "- '<font color = magenta><b>columns</b></font>' is the **column index**"
   ]
  },
  {
   "cell_type": "code",
   "execution_count": 39,
   "metadata": {},
   "outputs": [
    {
     "data": {
      "text/html": [
       "<div>\n",
       "<style scoped>\n",
       "    .dataframe tbody tr th:only-of-type {\n",
       "        vertical-align: middle;\n",
       "    }\n",
       "\n",
       "    .dataframe tbody tr th {\n",
       "        vertical-align: top;\n",
       "    }\n",
       "\n",
       "    .dataframe thead th {\n",
       "        text-align: right;\n",
       "    }\n",
       "</style>\n",
       "<table border=\"1\" class=\"dataframe\">\n",
       "  <thead>\n",
       "    <tr style=\"text-align: right;\">\n",
       "      <th></th>\n",
       "      <th>Author</th>\n",
       "      <th>Title</th>\n",
       "    </tr>\n",
       "  </thead>\n",
       "  <tbody>\n",
       "    <tr>\n",
       "      <td>a</td>\n",
       "      <td>Strang</td>\n",
       "      <td>Introduction to Linear Algebra</td>\n",
       "    </tr>\n",
       "    <tr>\n",
       "      <td>b</td>\n",
       "      <td>Blitzstein</td>\n",
       "      <td>Introduction to Probability</td>\n",
       "    </tr>\n",
       "    <tr>\n",
       "      <td>c</td>\n",
       "      <td>Witten</td>\n",
       "      <td>ML Beginner</td>\n",
       "    </tr>\n",
       "    <tr>\n",
       "      <td>d</td>\n",
       "      <td>Bishop</td>\n",
       "      <td>ML Advanced</td>\n",
       "    </tr>\n",
       "    <tr>\n",
       "      <td>e</td>\n",
       "      <td>Bengio</td>\n",
       "      <td>Deep Learning</td>\n",
       "    </tr>\n",
       "    <tr>\n",
       "      <td>f</td>\n",
       "      <td>Sutton</td>\n",
       "      <td>Reinforcement Learning - An Introduction</td>\n",
       "    </tr>\n",
       "  </tbody>\n",
       "</table>\n",
       "</div>"
      ],
      "text/plain": [
       "       Author                                     Title\n",
       "a      Strang            Introduction to Linear Algebra\n",
       "b  Blitzstein               Introduction to Probability\n",
       "c      Witten                               ML Beginner\n",
       "d      Bishop                               ML Advanced\n",
       "e      Bengio                             Deep Learning\n",
       "f      Sutton  Reinforcement Learning - An Introduction"
      ]
     },
     "execution_count": 39,
     "metadata": {},
     "output_type": "execute_result"
    }
   ],
   "source": [
    "df = pd.DataFrame (tuple (zip (author, title)), \\\n",
    "              columns = ['Author', 'Title'], \\\n",
    "             index = idx)\n",
    "df"
   ]
  },
  {
   "cell_type": "markdown",
   "metadata": {},
   "source": [
    "#### Provide names for indices"
   ]
  },
  {
   "cell_type": "markdown",
   "metadata": {},
   "source": [
    "use <font color = magenta><b>rename_axis ()</b></font> to rename index names"
   ]
  },
  {
   "cell_type": "markdown",
   "metadata": {},
   "source": [
    "A **single parameter implies row index**. <br>\n",
    "rename_axis (<font color = magenta><b>row_index_name</b></font>)"
   ]
  },
  {
   "cell_type": "code",
   "execution_count": 40,
   "metadata": {},
   "outputs": [
    {
     "name": "stdout",
     "output_type": "stream",
     "text": [
      "Row Index Name:  Sr. No.\n",
      "Column Index Name:  None\n"
     ]
    },
    {
     "data": {
      "text/html": [
       "<div>\n",
       "<style scoped>\n",
       "    .dataframe tbody tr th:only-of-type {\n",
       "        vertical-align: middle;\n",
       "    }\n",
       "\n",
       "    .dataframe tbody tr th {\n",
       "        vertical-align: top;\n",
       "    }\n",
       "\n",
       "    .dataframe thead th {\n",
       "        text-align: right;\n",
       "    }\n",
       "</style>\n",
       "<table border=\"1\" class=\"dataframe\">\n",
       "  <thead>\n",
       "    <tr style=\"text-align: right;\">\n",
       "      <th></th>\n",
       "      <th>Author</th>\n",
       "      <th>Title</th>\n",
       "    </tr>\n",
       "    <tr>\n",
       "      <th>Sr. No.</th>\n",
       "      <th></th>\n",
       "      <th></th>\n",
       "    </tr>\n",
       "  </thead>\n",
       "  <tbody>\n",
       "    <tr>\n",
       "      <td>a</td>\n",
       "      <td>Strang</td>\n",
       "      <td>Introduction to Linear Algebra</td>\n",
       "    </tr>\n",
       "    <tr>\n",
       "      <td>b</td>\n",
       "      <td>Blitzstein</td>\n",
       "      <td>Introduction to Probability</td>\n",
       "    </tr>\n",
       "    <tr>\n",
       "      <td>c</td>\n",
       "      <td>Witten</td>\n",
       "      <td>ML Beginner</td>\n",
       "    </tr>\n",
       "    <tr>\n",
       "      <td>d</td>\n",
       "      <td>Bishop</td>\n",
       "      <td>ML Advanced</td>\n",
       "    </tr>\n",
       "    <tr>\n",
       "      <td>e</td>\n",
       "      <td>Bengio</td>\n",
       "      <td>Deep Learning</td>\n",
       "    </tr>\n",
       "    <tr>\n",
       "      <td>f</td>\n",
       "      <td>Sutton</td>\n",
       "      <td>Reinforcement Learning - An Introduction</td>\n",
       "    </tr>\n",
       "  </tbody>\n",
       "</table>\n",
       "</div>"
      ],
      "text/plain": [
       "             Author                                     Title\n",
       "Sr. No.                                                      \n",
       "a            Strang            Introduction to Linear Algebra\n",
       "b        Blitzstein               Introduction to Probability\n",
       "c            Witten                               ML Beginner\n",
       "d            Bishop                               ML Advanced\n",
       "e            Bengio                             Deep Learning\n",
       "f            Sutton  Reinforcement Learning - An Introduction"
      ]
     },
     "execution_count": 40,
     "metadata": {},
     "output_type": "execute_result"
    }
   ],
   "source": [
    "df2 = df.rename_axis ('Sr. No.')\n",
    "print ('Row Index Name: ', df2.index.name)\n",
    "print ('Column Index Name: ', df2.columns.name)\n",
    "df2"
   ]
  },
  {
   "cell_type": "markdown",
   "metadata": {},
   "source": [
    "Use **axis** to indicate row (= 0) or column (= 1) axis <br>\n",
    "rename_axis (<font color = magenta><b>col_axis_name, axis = 1</b></font>)"
   ]
  },
  {
   "cell_type": "code",
   "execution_count": 41,
   "metadata": {},
   "outputs": [
    {
     "name": "stdout",
     "output_type": "stream",
     "text": [
      "Row Index Name:  None\n",
      "Column Index Name:  Attributes->\n"
     ]
    },
    {
     "data": {
      "text/html": [
       "<div>\n",
       "<style scoped>\n",
       "    .dataframe tbody tr th:only-of-type {\n",
       "        vertical-align: middle;\n",
       "    }\n",
       "\n",
       "    .dataframe tbody tr th {\n",
       "        vertical-align: top;\n",
       "    }\n",
       "\n",
       "    .dataframe thead th {\n",
       "        text-align: right;\n",
       "    }\n",
       "</style>\n",
       "<table border=\"1\" class=\"dataframe\">\n",
       "  <thead>\n",
       "    <tr style=\"text-align: right;\">\n",
       "      <th>Attributes-&gt;</th>\n",
       "      <th>Author</th>\n",
       "      <th>Title</th>\n",
       "    </tr>\n",
       "  </thead>\n",
       "  <tbody>\n",
       "    <tr>\n",
       "      <td>a</td>\n",
       "      <td>Strang</td>\n",
       "      <td>Introduction to Linear Algebra</td>\n",
       "    </tr>\n",
       "    <tr>\n",
       "      <td>b</td>\n",
       "      <td>Blitzstein</td>\n",
       "      <td>Introduction to Probability</td>\n",
       "    </tr>\n",
       "    <tr>\n",
       "      <td>c</td>\n",
       "      <td>Witten</td>\n",
       "      <td>ML Beginner</td>\n",
       "    </tr>\n",
       "    <tr>\n",
       "      <td>d</td>\n",
       "      <td>Bishop</td>\n",
       "      <td>ML Advanced</td>\n",
       "    </tr>\n",
       "    <tr>\n",
       "      <td>e</td>\n",
       "      <td>Bengio</td>\n",
       "      <td>Deep Learning</td>\n",
       "    </tr>\n",
       "    <tr>\n",
       "      <td>f</td>\n",
       "      <td>Sutton</td>\n",
       "      <td>Reinforcement Learning - An Introduction</td>\n",
       "    </tr>\n",
       "  </tbody>\n",
       "</table>\n",
       "</div>"
      ],
      "text/plain": [
       "Attributes->      Author                                     Title\n",
       "a                 Strang            Introduction to Linear Algebra\n",
       "b             Blitzstein               Introduction to Probability\n",
       "c                 Witten                               ML Beginner\n",
       "d                 Bishop                               ML Advanced\n",
       "e                 Bengio                             Deep Learning\n",
       "f                 Sutton  Reinforcement Learning - An Introduction"
      ]
     },
     "execution_count": 41,
     "metadata": {},
     "output_type": "execute_result"
    }
   ],
   "source": [
    "df2 = df.rename_axis ('Attributes->', axis = 1)\n",
    "print ('Row Index Name: ', df2.index.name)\n",
    "print ('Column Index Name: ', df2.columns.name)\n",
    "df2"
   ]
  },
  {
   "cell_type": "markdown",
   "metadata": {},
   "source": [
    "'axis' values <font color = magenta><b>0 and 1</b></font> also carry names \"rows\" and \"columns\" respectively."
   ]
  },
  {
   "cell_type": "code",
   "execution_count": 42,
   "metadata": {},
   "outputs": [
    {
     "name": "stdout",
     "output_type": "stream",
     "text": [
      "Row Index Name:  None\n",
      "Column Index Name:  Attributes->\n"
     ]
    },
    {
     "data": {
      "text/html": [
       "<div>\n",
       "<style scoped>\n",
       "    .dataframe tbody tr th:only-of-type {\n",
       "        vertical-align: middle;\n",
       "    }\n",
       "\n",
       "    .dataframe tbody tr th {\n",
       "        vertical-align: top;\n",
       "    }\n",
       "\n",
       "    .dataframe thead th {\n",
       "        text-align: right;\n",
       "    }\n",
       "</style>\n",
       "<table border=\"1\" class=\"dataframe\">\n",
       "  <thead>\n",
       "    <tr style=\"text-align: right;\">\n",
       "      <th>Attributes-&gt;</th>\n",
       "      <th>Author</th>\n",
       "      <th>Title</th>\n",
       "    </tr>\n",
       "  </thead>\n",
       "  <tbody>\n",
       "    <tr>\n",
       "      <td>a</td>\n",
       "      <td>Strang</td>\n",
       "      <td>Introduction to Linear Algebra</td>\n",
       "    </tr>\n",
       "    <tr>\n",
       "      <td>b</td>\n",
       "      <td>Blitzstein</td>\n",
       "      <td>Introduction to Probability</td>\n",
       "    </tr>\n",
       "    <tr>\n",
       "      <td>c</td>\n",
       "      <td>Witten</td>\n",
       "      <td>ML Beginner</td>\n",
       "    </tr>\n",
       "    <tr>\n",
       "      <td>d</td>\n",
       "      <td>Bishop</td>\n",
       "      <td>ML Advanced</td>\n",
       "    </tr>\n",
       "    <tr>\n",
       "      <td>e</td>\n",
       "      <td>Bengio</td>\n",
       "      <td>Deep Learning</td>\n",
       "    </tr>\n",
       "    <tr>\n",
       "      <td>f</td>\n",
       "      <td>Sutton</td>\n",
       "      <td>Reinforcement Learning - An Introduction</td>\n",
       "    </tr>\n",
       "  </tbody>\n",
       "</table>\n",
       "</div>"
      ],
      "text/plain": [
       "Attributes->      Author                                     Title\n",
       "a                 Strang            Introduction to Linear Algebra\n",
       "b             Blitzstein               Introduction to Probability\n",
       "c                 Witten                               ML Beginner\n",
       "d                 Bishop                               ML Advanced\n",
       "e                 Bengio                             Deep Learning\n",
       "f                 Sutton  Reinforcement Learning - An Introduction"
      ]
     },
     "execution_count": 42,
     "metadata": {},
     "output_type": "execute_result"
    }
   ],
   "source": [
    "df2 = df.rename_axis ('Attributes->', axis = \"columns\")\n",
    "print ('Row Index Name: ', df2.index.name)\n",
    "print ('Column Index Name: ', df2.columns.name)\n",
    "df2"
   ]
  },
  {
   "cell_type": "markdown",
   "metadata": {},
   "source": [
    "Rename both row and column axes denoted by **'index' for row index**, and **'columns' for column attribute that returns an index**. <br>\n",
    "rename_axis (<font color = magenta><b>index</b></font> = row_axis_name, <font color = magenta><b>columns</b></font> = col_axis_name)"
   ]
  },
  {
   "cell_type": "code",
   "execution_count": 43,
   "metadata": {},
   "outputs": [
    {
     "name": "stdout",
     "output_type": "stream",
     "text": [
      "Row Index Name:  Sr. No.\n",
      "Column Index Name:  Attributes->\n"
     ]
    },
    {
     "data": {
      "text/html": [
       "<div>\n",
       "<style scoped>\n",
       "    .dataframe tbody tr th:only-of-type {\n",
       "        vertical-align: middle;\n",
       "    }\n",
       "\n",
       "    .dataframe tbody tr th {\n",
       "        vertical-align: top;\n",
       "    }\n",
       "\n",
       "    .dataframe thead th {\n",
       "        text-align: right;\n",
       "    }\n",
       "</style>\n",
       "<table border=\"1\" class=\"dataframe\">\n",
       "  <thead>\n",
       "    <tr style=\"text-align: right;\">\n",
       "      <th>Attributes-&gt;</th>\n",
       "      <th>Author</th>\n",
       "      <th>Title</th>\n",
       "    </tr>\n",
       "    <tr>\n",
       "      <th>Sr. No.</th>\n",
       "      <th></th>\n",
       "      <th></th>\n",
       "    </tr>\n",
       "  </thead>\n",
       "  <tbody>\n",
       "    <tr>\n",
       "      <td>a</td>\n",
       "      <td>Strang</td>\n",
       "      <td>Introduction to Linear Algebra</td>\n",
       "    </tr>\n",
       "    <tr>\n",
       "      <td>b</td>\n",
       "      <td>Blitzstein</td>\n",
       "      <td>Introduction to Probability</td>\n",
       "    </tr>\n",
       "    <tr>\n",
       "      <td>c</td>\n",
       "      <td>Witten</td>\n",
       "      <td>ML Beginner</td>\n",
       "    </tr>\n",
       "    <tr>\n",
       "      <td>d</td>\n",
       "      <td>Bishop</td>\n",
       "      <td>ML Advanced</td>\n",
       "    </tr>\n",
       "    <tr>\n",
       "      <td>e</td>\n",
       "      <td>Bengio</td>\n",
       "      <td>Deep Learning</td>\n",
       "    </tr>\n",
       "    <tr>\n",
       "      <td>f</td>\n",
       "      <td>Sutton</td>\n",
       "      <td>Reinforcement Learning - An Introduction</td>\n",
       "    </tr>\n",
       "  </tbody>\n",
       "</table>\n",
       "</div>"
      ],
      "text/plain": [
       "Attributes->      Author                                     Title\n",
       "Sr. No.                                                           \n",
       "a                 Strang            Introduction to Linear Algebra\n",
       "b             Blitzstein               Introduction to Probability\n",
       "c                 Witten                               ML Beginner\n",
       "d                 Bishop                               ML Advanced\n",
       "e                 Bengio                             Deep Learning\n",
       "f                 Sutton  Reinforcement Learning - An Introduction"
      ]
     },
     "execution_count": 43,
     "metadata": {},
     "output_type": "execute_result"
    }
   ],
   "source": [
    "df2 = df.rename_axis (index = 'Sr. No.', columns = 'Attributes->')\n",
    "print ('Row Index Name: ', df2.index.name)\n",
    "print ('Column Index Name: ', df2.columns.name)\n",
    "df2"
   ]
  },
  {
   "cell_type": "markdown",
   "metadata": {},
   "source": [
    "### Hierarchical Indices"
   ]
  },
  {
   "cell_type": "markdown",
   "metadata": {},
   "source": [
    "#### Create the multi-index"
   ]
  },
  {
   "cell_type": "markdown",
   "metadata": {},
   "source": [
    "<font color = magenta><b>pd.MultiIndex</b></font>.from_product ()\n",
    "- list of list of indices\n",
    "- list of <font color = magenta><b>names</b></font> of indices\n",
    "\n",
    "NOTE: The list of indices are of different size: There are 3 topics, and 2 sub-topics. So, we have to use <font color = magenta><b>from_product ()</b></font> to perform the cross product of the two indices. This creates a **hierarchy**. If we just wanted two row indices without them being hierarchical, the indices list should be of the same size, and we need to use <font color = magenta><b>from_arrays ()</b></font> instead."
   ]
  },
  {
   "cell_type": "code",
   "execution_count": 44,
   "metadata": {},
   "outputs": [
    {
     "data": {
      "text/plain": [
       "MultiIndex([(     'Mathematics', 1),\n",
       "            (     'Mathematics', 2),\n",
       "            ('Machine Learning', 1),\n",
       "            ('Machine Learning', 2),\n",
       "            (           'DL/RL', 1),\n",
       "            (           'DL/RL', 2)],\n",
       "           names=['Topic', 'Sub-Topic'])"
      ]
     },
     "execution_count": 44,
     "metadata": {},
     "output_type": "execute_result"
    }
   ],
   "source": [
    "i_topic = ['Mathematics', 'Machine Learning', 'DL/RL']\n",
    "i_subtopic = [1, 2]\n",
    "i_names = ['Topic', 'Sub-Topic']\n",
    "\n",
    "mux = pd.MultiIndex.from_product ([i_topic, i_subtopic], names = i_names)\n",
    "mux"
   ]
  },
  {
   "cell_type": "markdown",
   "metadata": {},
   "source": [
    "#### Create the dataframe with multi-index <br>\n",
    "pd.DataFrame (list, columns = , index = <font color = magenta><b>pd.MultiIndex ().from_#</b></font>)"
   ]
  },
  {
   "cell_type": "code",
   "execution_count": 45,
   "metadata": {},
   "outputs": [
    {
     "data": {
      "text/html": [
       "<div>\n",
       "<style scoped>\n",
       "    .dataframe tbody tr th:only-of-type {\n",
       "        vertical-align: middle;\n",
       "    }\n",
       "\n",
       "    .dataframe tbody tr th {\n",
       "        vertical-align: top;\n",
       "    }\n",
       "\n",
       "    .dataframe thead th {\n",
       "        text-align: right;\n",
       "    }\n",
       "</style>\n",
       "<table border=\"1\" class=\"dataframe\">\n",
       "  <thead>\n",
       "    <tr style=\"text-align: right;\">\n",
       "      <th></th>\n",
       "      <th></th>\n",
       "      <th>Author</th>\n",
       "      <th>Title</th>\n",
       "    </tr>\n",
       "    <tr>\n",
       "      <th>Topic</th>\n",
       "      <th>Sub-Topic</th>\n",
       "      <th></th>\n",
       "      <th></th>\n",
       "    </tr>\n",
       "  </thead>\n",
       "  <tbody>\n",
       "    <tr>\n",
       "      <td rowspan=\"2\" valign=\"top\">Mathematics</td>\n",
       "      <td>1</td>\n",
       "      <td>Strang</td>\n",
       "      <td>Introduction to Linear Algebra</td>\n",
       "    </tr>\n",
       "    <tr>\n",
       "      <td>2</td>\n",
       "      <td>Blitzstein</td>\n",
       "      <td>Introduction to Probability</td>\n",
       "    </tr>\n",
       "    <tr>\n",
       "      <td rowspan=\"2\" valign=\"top\">Machine Learning</td>\n",
       "      <td>1</td>\n",
       "      <td>Witten</td>\n",
       "      <td>ML Beginner</td>\n",
       "    </tr>\n",
       "    <tr>\n",
       "      <td>2</td>\n",
       "      <td>Bishop</td>\n",
       "      <td>ML Advanced</td>\n",
       "    </tr>\n",
       "    <tr>\n",
       "      <td rowspan=\"2\" valign=\"top\">DL/RL</td>\n",
       "      <td>1</td>\n",
       "      <td>Bengio</td>\n",
       "      <td>Deep Learning</td>\n",
       "    </tr>\n",
       "    <tr>\n",
       "      <td>2</td>\n",
       "      <td>Sutton</td>\n",
       "      <td>Reinforcement Learning - An Introduction</td>\n",
       "    </tr>\n",
       "  </tbody>\n",
       "</table>\n",
       "</div>"
      ],
      "text/plain": [
       "                                Author  \\\n",
       "Topic            Sub-Topic               \n",
       "Mathematics      1              Strang   \n",
       "                 2          Blitzstein   \n",
       "Machine Learning 1              Witten   \n",
       "                 2              Bishop   \n",
       "DL/RL            1              Bengio   \n",
       "                 2              Sutton   \n",
       "\n",
       "                                                               Title  \n",
       "Topic            Sub-Topic                                            \n",
       "Mathematics      1                    Introduction to Linear Algebra  \n",
       "                 2                       Introduction to Probability  \n",
       "Machine Learning 1                                       ML Beginner  \n",
       "                 2                                       ML Advanced  \n",
       "DL/RL            1                                     Deep Learning  \n",
       "                 2          Reinforcement Learning - An Introduction  "
      ]
     },
     "execution_count": 45,
     "metadata": {},
     "output_type": "execute_result"
    }
   ],
   "source": [
    "pd.DataFrame (list (zip (author, title)), \\\n",
    "             columns = ['Author', 'Title'], \\\n",
    "             index = mux)"
   ]
  },
  {
   "cell_type": "markdown",
   "metadata": {},
   "source": [
    "#### Create a multi-index using <font color = magenta><b>from_arrays ()</b></font>"
   ]
  },
  {
   "cell_type": "code",
   "execution_count": 46,
   "metadata": {},
   "outputs": [
    {
     "data": {
      "text/plain": [
       "MultiIndex([(           'Maths',   'LA'),\n",
       "            (           'Maths', 'Prob'),\n",
       "            ('Machine Learning',   'ML'),\n",
       "            ('Machine Learning',   'ML'),\n",
       "            ('Machine Learning',   'DL'),\n",
       "            ('Machine Learning',   'RL')],\n",
       "           names=['Topic', 'Sub-Topic'])"
      ]
     },
     "execution_count": 46,
     "metadata": {},
     "output_type": "execute_result"
    }
   ],
   "source": [
    "mux = pd.MultiIndex.from_arrays ([topic, sub_topic], names = i_names)\n",
    "mux"
   ]
  },
  {
   "cell_type": "markdown",
   "metadata": {},
   "source": [
    "#### Create a data frame with multi-index (created using from_arrays ())"
   ]
  },
  {
   "cell_type": "code",
   "execution_count": 47,
   "metadata": {},
   "outputs": [
    {
     "data": {
      "text/html": [
       "<div>\n",
       "<style scoped>\n",
       "    .dataframe tbody tr th:only-of-type {\n",
       "        vertical-align: middle;\n",
       "    }\n",
       "\n",
       "    .dataframe tbody tr th {\n",
       "        vertical-align: top;\n",
       "    }\n",
       "\n",
       "    .dataframe thead th {\n",
       "        text-align: right;\n",
       "    }\n",
       "</style>\n",
       "<table border=\"1\" class=\"dataframe\">\n",
       "  <thead>\n",
       "    <tr style=\"text-align: right;\">\n",
       "      <th></th>\n",
       "      <th></th>\n",
       "      <th>Author</th>\n",
       "      <th>Title</th>\n",
       "    </tr>\n",
       "    <tr>\n",
       "      <th>Topic</th>\n",
       "      <th>Sub-Topic</th>\n",
       "      <th></th>\n",
       "      <th></th>\n",
       "    </tr>\n",
       "  </thead>\n",
       "  <tbody>\n",
       "    <tr>\n",
       "      <td rowspan=\"2\" valign=\"top\">Maths</td>\n",
       "      <td>LA</td>\n",
       "      <td>Strang</td>\n",
       "      <td>Introduction to Linear Algebra</td>\n",
       "    </tr>\n",
       "    <tr>\n",
       "      <td>Prob</td>\n",
       "      <td>Blitzstein</td>\n",
       "      <td>Introduction to Probability</td>\n",
       "    </tr>\n",
       "    <tr>\n",
       "      <td rowspan=\"4\" valign=\"top\">Machine Learning</td>\n",
       "      <td>ML</td>\n",
       "      <td>Witten</td>\n",
       "      <td>ML Beginner</td>\n",
       "    </tr>\n",
       "    <tr>\n",
       "      <td>ML</td>\n",
       "      <td>Bishop</td>\n",
       "      <td>ML Advanced</td>\n",
       "    </tr>\n",
       "    <tr>\n",
       "      <td>DL</td>\n",
       "      <td>Bengio</td>\n",
       "      <td>Deep Learning</td>\n",
       "    </tr>\n",
       "    <tr>\n",
       "      <td>RL</td>\n",
       "      <td>Sutton</td>\n",
       "      <td>Reinforcement Learning - An Introduction</td>\n",
       "    </tr>\n",
       "  </tbody>\n",
       "</table>\n",
       "</div>"
      ],
      "text/plain": [
       "                                Author  \\\n",
       "Topic            Sub-Topic               \n",
       "Maths            LA             Strang   \n",
       "                 Prob       Blitzstein   \n",
       "Machine Learning ML             Witten   \n",
       "                 ML             Bishop   \n",
       "                 DL             Bengio   \n",
       "                 RL             Sutton   \n",
       "\n",
       "                                                               Title  \n",
       "Topic            Sub-Topic                                            \n",
       "Maths            LA                   Introduction to Linear Algebra  \n",
       "                 Prob                    Introduction to Probability  \n",
       "Machine Learning ML                                      ML Beginner  \n",
       "                 ML                                      ML Advanced  \n",
       "                 DL                                    Deep Learning  \n",
       "                 RL         Reinforcement Learning - An Introduction  "
      ]
     },
     "execution_count": 47,
     "metadata": {},
     "output_type": "execute_result"
    }
   ],
   "source": [
    "pd.DataFrame (list (zip (author, title)), \\\n",
    "             columns = ['Author', 'Title'], \\\n",
    "             index = mux)"
   ]
  },
  {
   "cell_type": "markdown",
   "metadata": {},
   "source": [
    "### Navigating using indices"
   ]
  },
  {
   "cell_type": "markdown",
   "metadata": {},
   "source": [
    "#### Create a dataframe with multi-index"
   ]
  },
  {
   "cell_type": "code",
   "execution_count": 48,
   "metadata": {},
   "outputs": [
    {
     "data": {
      "text/html": [
       "<div>\n",
       "<style scoped>\n",
       "    .dataframe tbody tr th:only-of-type {\n",
       "        vertical-align: middle;\n",
       "    }\n",
       "\n",
       "    .dataframe tbody tr th {\n",
       "        vertical-align: top;\n",
       "    }\n",
       "\n",
       "    .dataframe thead th {\n",
       "        text-align: right;\n",
       "    }\n",
       "</style>\n",
       "<table border=\"1\" class=\"dataframe\">\n",
       "  <thead>\n",
       "    <tr style=\"text-align: right;\">\n",
       "      <th></th>\n",
       "      <th></th>\n",
       "      <th>Author</th>\n",
       "      <th>Title</th>\n",
       "    </tr>\n",
       "    <tr>\n",
       "      <th>Topic</th>\n",
       "      <th>Sub-Topic</th>\n",
       "      <th></th>\n",
       "      <th></th>\n",
       "    </tr>\n",
       "  </thead>\n",
       "  <tbody>\n",
       "    <tr>\n",
       "      <td rowspan=\"2\" valign=\"top\">Maths</td>\n",
       "      <td>LA</td>\n",
       "      <td>Strang</td>\n",
       "      <td>Introduction to Linear Algebra</td>\n",
       "    </tr>\n",
       "    <tr>\n",
       "      <td>Prob</td>\n",
       "      <td>Blitzstein</td>\n",
       "      <td>Introduction to Probability</td>\n",
       "    </tr>\n",
       "    <tr>\n",
       "      <td rowspan=\"4\" valign=\"top\">Machine Learning</td>\n",
       "      <td>ML</td>\n",
       "      <td>Witten</td>\n",
       "      <td>ML Beginner</td>\n",
       "    </tr>\n",
       "    <tr>\n",
       "      <td>ML</td>\n",
       "      <td>Bishop</td>\n",
       "      <td>ML Advanced</td>\n",
       "    </tr>\n",
       "    <tr>\n",
       "      <td>DL</td>\n",
       "      <td>Bengio</td>\n",
       "      <td>Deep Learning</td>\n",
       "    </tr>\n",
       "    <tr>\n",
       "      <td>RL</td>\n",
       "      <td>Sutton</td>\n",
       "      <td>Reinforcement Learning - An Introduction</td>\n",
       "    </tr>\n",
       "  </tbody>\n",
       "</table>\n",
       "</div>"
      ],
      "text/plain": [
       "                                Author  \\\n",
       "Topic            Sub-Topic               \n",
       "Maths            LA             Strang   \n",
       "                 Prob       Blitzstein   \n",
       "Machine Learning ML             Witten   \n",
       "                 ML             Bishop   \n",
       "                 DL             Bengio   \n",
       "                 RL             Sutton   \n",
       "\n",
       "                                                               Title  \n",
       "Topic            Sub-Topic                                            \n",
       "Maths            LA                   Introduction to Linear Algebra  \n",
       "                 Prob                    Introduction to Probability  \n",
       "Machine Learning ML                                      ML Beginner  \n",
       "                 ML                                      ML Advanced  \n",
       "                 DL                                    Deep Learning  \n",
       "                 RL         Reinforcement Learning - An Introduction  "
      ]
     },
     "execution_count": 48,
     "metadata": {},
     "output_type": "execute_result"
    }
   ],
   "source": [
    "mux = pd.MultiIndex.from_arrays ([topic, sub_topic], names = i_names)\n",
    "df = pd.DataFrame (list (zip (author, title)), \\\n",
    "             columns = ['Author', 'Title'], \\\n",
    "             index = mux)\n",
    "df"
   ]
  },
  {
   "cell_type": "markdown",
   "metadata": {},
   "source": [
    "#### Filter based on index values"
   ]
  },
  {
   "cell_type": "markdown",
   "metadata": {},
   "source": [
    "df.<font color = magenta><b>loc [index_val]</b></font> <br>\n",
    "df.loc [<font color = magenta><b>(index1_val, index2_val)</b></font>]"
   ]
  },
  {
   "cell_type": "markdown",
   "metadata": {},
   "source": [
    "NOTE: A **data frame is returned**."
   ]
  },
  {
   "cell_type": "markdown",
   "metadata": {},
   "source": [
    "df.<font color = magenta><b>sort_index ()</b></font>\n",
    "- to prevent \"PerformanceWarning: **indexing past lexsort depth** may impact performance.\""
   ]
  },
  {
   "cell_type": "code",
   "execution_count": 49,
   "metadata": {},
   "outputs": [
    {
     "name": "stdout",
     "output_type": "stream",
     "text": [
      "Books in Mathematics:\n",
      "               Author                           Title\n",
      "Sub-Topic                                            \n",
      "LA             Strang  Introduction to Linear Algebra\n",
      "Prob       Blitzstein     Introduction to Probability \n",
      "\n",
      "\n",
      "Books in Machine Learning:\n",
      "           Author                                     Title\n",
      "Sub-Topic                                                  \n",
      "DL         Bengio                             Deep Learning\n",
      "ML         Witten                               ML Beginner\n",
      "ML         Bishop                               ML Advanced\n",
      "RL         Sutton  Reinforcement Learning - An Introduction \n",
      "\n",
      "\n",
      "Books in Deep Learning:\n",
      "                            Author          Title\n",
      "Topic            Sub-Topic                       \n",
      "Machine Learning DL         Bengio  Deep Learning\n"
     ]
    }
   ],
   "source": [
    "#To prevent \n",
    "#\"PerformanceWarning: indexing past lexsort depth may impact performance.\"\n",
    "df.sort_index (inplace = True)\n",
    "print ('Books in Mathematics:')\n",
    "print (df.loc ['Maths'], '\\n\\n')\n",
    "print ('Books in Machine Learning:')\n",
    "print (df.loc ['Machine Learning'], '\\n\\n')\n",
    "print ('Books in Deep Learning:')\n",
    "print (df.loc [('Machine Learning', 'DL')])"
   ]
  },
  {
   "cell_type": "markdown",
   "metadata": {},
   "source": [
    "### Set existing columns as indexes"
   ]
  },
  {
   "cell_type": "markdown",
   "metadata": {},
   "source": [
    "#### Create a dataframe WITHOUT  passing any index"
   ]
  },
  {
   "cell_type": "markdown",
   "metadata": {},
   "source": [
    "Instead, **pass index as regular columns** - topic, and sub_topic"
   ]
  },
  {
   "cell_type": "code",
   "execution_count": 50,
   "metadata": {},
   "outputs": [
    {
     "data": {
      "text/html": [
       "<div>\n",
       "<style scoped>\n",
       "    .dataframe tbody tr th:only-of-type {\n",
       "        vertical-align: middle;\n",
       "    }\n",
       "\n",
       "    .dataframe tbody tr th {\n",
       "        vertical-align: top;\n",
       "    }\n",
       "\n",
       "    .dataframe thead th {\n",
       "        text-align: right;\n",
       "    }\n",
       "</style>\n",
       "<table border=\"1\" class=\"dataframe\">\n",
       "  <thead>\n",
       "    <tr style=\"text-align: right;\">\n",
       "      <th></th>\n",
       "      <th>Author</th>\n",
       "      <th>Title</th>\n",
       "      <th>Topic</th>\n",
       "      <th>Sub-Topic</th>\n",
       "    </tr>\n",
       "  </thead>\n",
       "  <tbody>\n",
       "    <tr>\n",
       "      <td>0</td>\n",
       "      <td>Strang</td>\n",
       "      <td>Introduction to Linear Algebra</td>\n",
       "      <td>Maths</td>\n",
       "      <td>LA</td>\n",
       "    </tr>\n",
       "    <tr>\n",
       "      <td>1</td>\n",
       "      <td>Blitzstein</td>\n",
       "      <td>Introduction to Probability</td>\n",
       "      <td>Maths</td>\n",
       "      <td>Prob</td>\n",
       "    </tr>\n",
       "    <tr>\n",
       "      <td>2</td>\n",
       "      <td>Witten</td>\n",
       "      <td>ML Beginner</td>\n",
       "      <td>Machine Learning</td>\n",
       "      <td>ML</td>\n",
       "    </tr>\n",
       "    <tr>\n",
       "      <td>3</td>\n",
       "      <td>Bishop</td>\n",
       "      <td>ML Advanced</td>\n",
       "      <td>Machine Learning</td>\n",
       "      <td>ML</td>\n",
       "    </tr>\n",
       "    <tr>\n",
       "      <td>4</td>\n",
       "      <td>Bengio</td>\n",
       "      <td>Deep Learning</td>\n",
       "      <td>Machine Learning</td>\n",
       "      <td>DL</td>\n",
       "    </tr>\n",
       "    <tr>\n",
       "      <td>5</td>\n",
       "      <td>Sutton</td>\n",
       "      <td>Reinforcement Learning - An Introduction</td>\n",
       "      <td>Machine Learning</td>\n",
       "      <td>RL</td>\n",
       "    </tr>\n",
       "  </tbody>\n",
       "</table>\n",
       "</div>"
      ],
      "text/plain": [
       "       Author                                     Title             Topic  \\\n",
       "0      Strang            Introduction to Linear Algebra             Maths   \n",
       "1  Blitzstein               Introduction to Probability             Maths   \n",
       "2      Witten                               ML Beginner  Machine Learning   \n",
       "3      Bishop                               ML Advanced  Machine Learning   \n",
       "4      Bengio                             Deep Learning  Machine Learning   \n",
       "5      Sutton  Reinforcement Learning - An Introduction  Machine Learning   \n",
       "\n",
       "  Sub-Topic  \n",
       "0        LA  \n",
       "1      Prob  \n",
       "2        ML  \n",
       "3        ML  \n",
       "4        DL  \n",
       "5        RL  "
      ]
     },
     "execution_count": 50,
     "metadata": {},
     "output_type": "execute_result"
    }
   ],
   "source": [
    "#mux = pd.MultiIndex.from_arrays ([topic, sub_topic], names = i_names)\n",
    "df = pd.DataFrame (list (zip (author, title, topic, sub_topic)), \\\n",
    "             columns = ['Author', 'Title', 'Topic', 'Sub-Topic'], \\\n",
    "             #index = mux\n",
    "                  )\n",
    "df"
   ]
  },
  {
   "cell_type": "markdown",
   "metadata": {},
   "source": [
    "#### Create index from columns"
   ]
  },
  {
   "cell_type": "markdown",
   "metadata": {},
   "source": [
    "df.<font color = magenta><b>set_index ([cols], inplace = True)</b></font>"
   ]
  },
  {
   "cell_type": "code",
   "execution_count": 51,
   "metadata": {},
   "outputs": [
    {
     "data": {
      "text/html": [
       "<div>\n",
       "<style scoped>\n",
       "    .dataframe tbody tr th:only-of-type {\n",
       "        vertical-align: middle;\n",
       "    }\n",
       "\n",
       "    .dataframe tbody tr th {\n",
       "        vertical-align: top;\n",
       "    }\n",
       "\n",
       "    .dataframe thead th {\n",
       "        text-align: right;\n",
       "    }\n",
       "</style>\n",
       "<table border=\"1\" class=\"dataframe\">\n",
       "  <thead>\n",
       "    <tr style=\"text-align: right;\">\n",
       "      <th></th>\n",
       "      <th></th>\n",
       "      <th>Author</th>\n",
       "      <th>Title</th>\n",
       "    </tr>\n",
       "    <tr>\n",
       "      <th>Topic</th>\n",
       "      <th>Sub-Topic</th>\n",
       "      <th></th>\n",
       "      <th></th>\n",
       "    </tr>\n",
       "  </thead>\n",
       "  <tbody>\n",
       "    <tr>\n",
       "      <td rowspan=\"2\" valign=\"top\">Maths</td>\n",
       "      <td>LA</td>\n",
       "      <td>Strang</td>\n",
       "      <td>Introduction to Linear Algebra</td>\n",
       "    </tr>\n",
       "    <tr>\n",
       "      <td>Prob</td>\n",
       "      <td>Blitzstein</td>\n",
       "      <td>Introduction to Probability</td>\n",
       "    </tr>\n",
       "    <tr>\n",
       "      <td rowspan=\"4\" valign=\"top\">Machine Learning</td>\n",
       "      <td>ML</td>\n",
       "      <td>Witten</td>\n",
       "      <td>ML Beginner</td>\n",
       "    </tr>\n",
       "    <tr>\n",
       "      <td>ML</td>\n",
       "      <td>Bishop</td>\n",
       "      <td>ML Advanced</td>\n",
       "    </tr>\n",
       "    <tr>\n",
       "      <td>DL</td>\n",
       "      <td>Bengio</td>\n",
       "      <td>Deep Learning</td>\n",
       "    </tr>\n",
       "    <tr>\n",
       "      <td>RL</td>\n",
       "      <td>Sutton</td>\n",
       "      <td>Reinforcement Learning - An Introduction</td>\n",
       "    </tr>\n",
       "  </tbody>\n",
       "</table>\n",
       "</div>"
      ],
      "text/plain": [
       "                                Author  \\\n",
       "Topic            Sub-Topic               \n",
       "Maths            LA             Strang   \n",
       "                 Prob       Blitzstein   \n",
       "Machine Learning ML             Witten   \n",
       "                 ML             Bishop   \n",
       "                 DL             Bengio   \n",
       "                 RL             Sutton   \n",
       "\n",
       "                                                               Title  \n",
       "Topic            Sub-Topic                                            \n",
       "Maths            LA                   Introduction to Linear Algebra  \n",
       "                 Prob                    Introduction to Probability  \n",
       "Machine Learning ML                                      ML Beginner  \n",
       "                 ML                                      ML Advanced  \n",
       "                 DL                                    Deep Learning  \n",
       "                 RL         Reinforcement Learning - An Introduction  "
      ]
     },
     "execution_count": 51,
     "metadata": {},
     "output_type": "execute_result"
    }
   ],
   "source": [
    "df.set_index (['Topic', 'Sub-Topic'], inplace = True)\n",
    "df"
   ]
  },
  {
   "cell_type": "markdown",
   "metadata": {},
   "source": [
    "### Instantiate an index and set it"
   ]
  },
  {
   "cell_type": "markdown",
   "metadata": {},
   "source": [
    "df.set_index (<font color = magenta><b>pd.RangeIndex (start, stop, step)</b></font>, inplace = True"
   ]
  },
  {
   "cell_type": "code",
   "execution_count": 52,
   "metadata": {},
   "outputs": [
    {
     "data": {
      "text/html": [
       "<div>\n",
       "<style scoped>\n",
       "    .dataframe tbody tr th:only-of-type {\n",
       "        vertical-align: middle;\n",
       "    }\n",
       "\n",
       "    .dataframe tbody tr th {\n",
       "        vertical-align: top;\n",
       "    }\n",
       "\n",
       "    .dataframe thead th {\n",
       "        text-align: right;\n",
       "    }\n",
       "</style>\n",
       "<table border=\"1\" class=\"dataframe\">\n",
       "  <thead>\n",
       "    <tr style=\"text-align: right;\">\n",
       "      <th></th>\n",
       "      <th>Author</th>\n",
       "      <th>Title</th>\n",
       "    </tr>\n",
       "  </thead>\n",
       "  <tbody>\n",
       "    <tr>\n",
       "      <td>5</td>\n",
       "      <td>Strang</td>\n",
       "      <td>Introduction to Linear Algebra</td>\n",
       "    </tr>\n",
       "    <tr>\n",
       "      <td>6</td>\n",
       "      <td>Blitzstein</td>\n",
       "      <td>Introduction to Probability</td>\n",
       "    </tr>\n",
       "    <tr>\n",
       "      <td>7</td>\n",
       "      <td>Witten</td>\n",
       "      <td>ML Beginner</td>\n",
       "    </tr>\n",
       "    <tr>\n",
       "      <td>8</td>\n",
       "      <td>Bishop</td>\n",
       "      <td>ML Advanced</td>\n",
       "    </tr>\n",
       "    <tr>\n",
       "      <td>9</td>\n",
       "      <td>Bengio</td>\n",
       "      <td>Deep Learning</td>\n",
       "    </tr>\n",
       "    <tr>\n",
       "      <td>10</td>\n",
       "      <td>Sutton</td>\n",
       "      <td>Reinforcement Learning - An Introduction</td>\n",
       "    </tr>\n",
       "  </tbody>\n",
       "</table>\n",
       "</div>"
      ],
      "text/plain": [
       "        Author                                     Title\n",
       "5       Strang            Introduction to Linear Algebra\n",
       "6   Blitzstein               Introduction to Probability\n",
       "7       Witten                               ML Beginner\n",
       "8       Bishop                               ML Advanced\n",
       "9       Bengio                             Deep Learning\n",
       "10      Sutton  Reinforcement Learning - An Introduction"
      ]
     },
     "execution_count": 52,
     "metadata": {},
     "output_type": "execute_result"
    }
   ],
   "source": [
    "df.set_index (\\\n",
    "              pd.RangeIndex (start = 5, stop = 11, step = 1),\\\n",
    "              inplace = True)\n",
    "df"
   ]
  },
  {
   "cell_type": "markdown",
   "metadata": {},
   "source": [
    "### df.groupby (col)"
   ]
  },
  {
   "cell_type": "markdown",
   "metadata": {},
   "source": [
    "#### 1. DataFrameGroupBy"
   ]
  },
  {
   "cell_type": "markdown",
   "metadata": {},
   "source": [
    "df.groupby (<font color = magenta><b>col</b></font>) <br>\n",
    "df.groupby (<font color = magenta><b>[cols]</b></font>)\n",
    " - returns an instance of **DataFrameGroupBy**"
   ]
  },
  {
   "cell_type": "code",
   "execution_count": 53,
   "metadata": {},
   "outputs": [
    {
     "data": {
      "text/plain": [
       "<pandas.core.groupby.generic.DataFrameGroupBy object at 0x1a25cf6410>"
      ]
     },
     "execution_count": 53,
     "metadata": {},
     "output_type": "execute_result"
    }
   ],
   "source": [
    "df = df_titanic\n",
    "df.groupby (['Survived', 'Sex'])"
   ]
  },
  {
   "cell_type": "markdown",
   "metadata": {},
   "source": [
    "#### 2. Summary Statistics"
   ]
  },
  {
   "cell_type": "markdown",
   "metadata": {},
   "source": [
    "Perform a **summary statistic** on DataFrameGroupBy\n",
    "- mean () - for numerical columns\n",
    "- count () - for all columns\n",
    "- <font color = magenta><b>size ()</b></font> - for numerical columns"
   ]
  },
  {
   "cell_type": "markdown",
   "metadata": {},
   "source": [
    "NOTE:\n",
    "- stats are obviously not performed on groupby columns, since those column values are used to form groups\n",
    "- **count** returns **individual column count of rows having some value**\n",
    "> count of columns like 'Age' and 'Cabin' indicate missing values\n",
    "- **sum** returns **count of rows**. some column having missing value does not impact, unless all columns have missing values."
   ]
  },
  {
   "cell_type": "code",
   "execution_count": 54,
   "metadata": {},
   "outputs": [
    {
     "name": "stdout",
     "output_type": "stream",
     "text": [
      "Information of the data frame:\n",
      "<class 'pandas.core.frame.DataFrame'>\n",
      "RangeIndex: 891 entries, 0 to 890\n",
      "Data columns (total 12 columns):\n",
      "PassengerId    891 non-null int64\n",
      "Survived       891 non-null int64\n",
      "Pclass         891 non-null int64\n",
      "Name           891 non-null object\n",
      "Sex            891 non-null object\n",
      "Age            714 non-null float64\n",
      "SibSp          891 non-null int64\n",
      "Parch          891 non-null int64\n",
      "Ticket         891 non-null object\n",
      "Fare           891 non-null float64\n",
      "Cabin          204 non-null object\n",
      "Embarked       889 non-null object\n",
      "dtypes: float64(2), int64(5), object(5)\n",
      "memory usage: 83.7+ KB\n",
      "None \n",
      "\n",
      "\n",
      "Mean Statistics:\n",
      "                 PassengerId    Pclass        Age     SibSp     Parch  \\\n",
      "Survived Sex                                                            \n",
      "0        female   434.851852  2.851852  25.046875  1.209877  1.037037   \n",
      "         male     449.121795  2.476496  31.618056  0.440171  0.207265   \n",
      "1        female   429.699571  1.918455  28.847716  0.515021  0.515021   \n",
      "         male     475.724771  2.018349  27.276022  0.385321  0.357798   \n",
      "\n",
      "                      Fare  \n",
      "Survived Sex                \n",
      "0        female  23.024385  \n",
      "         male    21.960993  \n",
      "1        female  51.938573  \n",
      "         male    40.821484   \n",
      "\n",
      "\n",
      "Count Statistics:\n",
      "                 PassengerId  Pclass  Name  Age  SibSp  Parch  Ticket  Fare  \\\n",
      "Survived Sex                                                                  \n",
      "0        female           81      81    81   64     81     81      81    81   \n",
      "         male            468     468   468  360    468    468     468   468   \n",
      "1        female          233     233   233  197    233    233     233   233   \n",
      "         male            109     109   109   93    109    109     109   109   \n",
      "\n",
      "                 Cabin  Embarked  \n",
      "Survived Sex                      \n",
      "0        female      6        81  \n",
      "         male       62       468  \n",
      "1        female     91       231  \n",
      "         male       45       109   \n",
      "\n",
      "\n",
      "Size Statistics:\n",
      "Survived  Sex   \n",
      "0         female     81\n",
      "          male      468\n",
      "1         female    233\n",
      "          male      109\n",
      "dtype: int64\n"
     ]
    }
   ],
   "source": [
    "print ('Information of the data frame:')\n",
    "print (df.info (), '\\n\\n')\n",
    "print ('Mean Statistics:')\n",
    "print (df.groupby (['Survived', 'Sex']).mean (), '\\n\\n')\n",
    "print ('Count Statistics:')\n",
    "print (df.groupby (['Survived', 'Sex']).count (), '\\n\\n')\n",
    "print ('Size Statistics:')\n",
    "print (df.groupby (['Survived', 'Sex']).size ())"
   ]
  },
  {
   "cell_type": "markdown",
   "metadata": {},
   "source": [
    "#### > Series (with indexes) returned by groupby.summary_stat"
   ]
  },
  {
   "cell_type": "markdown",
   "metadata": {},
   "source": [
    "NOTE:\n",
    "- df.groupby (col).size () <font color = magenta>returns a <b>series</b></font>, with an **index**\n",
    "- df.groupby (**[cols]**).size () returns a series with a <font color = magenta><b>multi-index</b></font>"
   ]
  },
  {
   "cell_type": "markdown",
   "metadata": {},
   "source": [
    "#### >> groupby (**col**)"
   ]
  },
  {
   "cell_type": "markdown",
   "metadata": {},
   "source": [
    "**series**"
   ]
  },
  {
   "cell_type": "code",
   "execution_count": 55,
   "metadata": {},
   "outputs": [
    {
     "data": {
      "text/plain": [
       "Survived\n",
       "0    549\n",
       "1    342\n",
       "dtype: int64"
      ]
     },
     "execution_count": 55,
     "metadata": {},
     "output_type": "execute_result"
    }
   ],
   "source": [
    "df.groupby ('Survived').size ()"
   ]
  },
  {
   "cell_type": "markdown",
   "metadata": {},
   "source": [
    "type = <font color = magenta><b>Series</b></font>"
   ]
  },
  {
   "cell_type": "code",
   "execution_count": 56,
   "metadata": {},
   "outputs": [
    {
     "data": {
      "text/plain": [
       "pandas.core.series.Series"
      ]
     },
     "execution_count": 56,
     "metadata": {},
     "output_type": "execute_result"
    }
   ],
   "source": [
    "type(df.groupby ('Survived').size ())"
   ]
  },
  {
   "cell_type": "markdown",
   "metadata": {},
   "source": [
    "<font color = magenta><b>index</b></font> of the series"
   ]
  },
  {
   "cell_type": "code",
   "execution_count": 57,
   "metadata": {},
   "outputs": [
    {
     "data": {
      "text/plain": [
       "Int64Index([0, 1], dtype='int64', name='Survived')"
      ]
     },
     "execution_count": 57,
     "metadata": {},
     "output_type": "execute_result"
    }
   ],
   "source": [
    "df.groupby ('Survived').size ().index"
   ]
  },
  {
   "cell_type": "markdown",
   "metadata": {},
   "source": [
    "#### >> groupby (**[cols]**)"
   ]
  },
  {
   "cell_type": "markdown",
   "metadata": {},
   "source": [
    "NOTE:\n",
    "- didn't survive 549 = 81 + 468\n",
    "- survived       342 = 233 + 109"
   ]
  },
  {
   "cell_type": "markdown",
   "metadata": {},
   "source": [
    "**series**"
   ]
  },
  {
   "cell_type": "code",
   "execution_count": 58,
   "metadata": {},
   "outputs": [
    {
     "data": {
      "text/plain": [
       "Survived  Sex   \n",
       "0         female     81\n",
       "          male      468\n",
       "1         female    233\n",
       "          male      109\n",
       "dtype: int64"
      ]
     },
     "execution_count": 58,
     "metadata": {},
     "output_type": "execute_result"
    }
   ],
   "source": [
    "df.groupby (['Survived', 'Sex']).size ()"
   ]
  },
  {
   "cell_type": "markdown",
   "metadata": {},
   "source": [
    "type = **series**"
   ]
  },
  {
   "cell_type": "code",
   "execution_count": 59,
   "metadata": {},
   "outputs": [
    {
     "data": {
      "text/plain": [
       "pandas.core.series.Series"
      ]
     },
     "execution_count": 59,
     "metadata": {},
     "output_type": "execute_result"
    }
   ],
   "source": [
    "type (df.groupby (['Survived', 'Sex']).size ())"
   ]
  },
  {
   "cell_type": "markdown",
   "metadata": {},
   "source": [
    "<font color = magenta><b>multi-index</b></font> of the series"
   ]
  },
  {
   "cell_type": "code",
   "execution_count": 60,
   "metadata": {},
   "outputs": [
    {
     "data": {
      "text/plain": [
       "MultiIndex([(0, 'female'),\n",
       "            (0,   'male'),\n",
       "            (1, 'female'),\n",
       "            (1,   'male')],\n",
       "           names=['Survived', 'Sex'])"
      ]
     },
     "execution_count": 60,
     "metadata": {},
     "output_type": "execute_result"
    }
   ],
   "source": [
    "df.groupby (['Survived', 'Sex']).size ().index"
   ]
  },
  {
   "cell_type": "markdown",
   "metadata": {},
   "source": [
    "#### 3. Unstack the multi-index series into a data frame"
   ]
  },
  {
   "cell_type": "markdown",
   "metadata": {},
   "source": [
    "You may wish to **remove** one of the features **from the hierarchical index** and <font color = magenta><b>form different columns with respect to that feature</b></font>. You can do so using the <font color = magenta><b>unstack</b></font> method."
   ]
  },
  {
   "cell_type": "markdown",
   "metadata": {},
   "source": [
    "NOTE:\n",
    "unstack () requires the feature to have <font color = magenta><b>unique values</b></font>.\n",
    "This is because the values of the feature form column names.\n",
    "An index created using <font color = magenta><b>groupby () ensures</b></font> that the index has <font color = magenta><b>unique values</b></font>."
   ]
  },
  {
   "cell_type": "code",
   "execution_count": 61,
   "metadata": {},
   "outputs": [
    {
     "data": {
      "text/html": [
       "<div>\n",
       "<style scoped>\n",
       "    .dataframe tbody tr th:only-of-type {\n",
       "        vertical-align: middle;\n",
       "    }\n",
       "\n",
       "    .dataframe tbody tr th {\n",
       "        vertical-align: top;\n",
       "    }\n",
       "\n",
       "    .dataframe thead th {\n",
       "        text-align: right;\n",
       "    }\n",
       "</style>\n",
       "<table border=\"1\" class=\"dataframe\">\n",
       "  <thead>\n",
       "    <tr style=\"text-align: right;\">\n",
       "      <th>Sex</th>\n",
       "      <th>female</th>\n",
       "      <th>male</th>\n",
       "    </tr>\n",
       "    <tr>\n",
       "      <th>Survived</th>\n",
       "      <th></th>\n",
       "      <th></th>\n",
       "    </tr>\n",
       "  </thead>\n",
       "  <tbody>\n",
       "    <tr>\n",
       "      <td>0</td>\n",
       "      <td>81</td>\n",
       "      <td>468</td>\n",
       "    </tr>\n",
       "    <tr>\n",
       "      <td>1</td>\n",
       "      <td>233</td>\n",
       "      <td>109</td>\n",
       "    </tr>\n",
       "  </tbody>\n",
       "</table>\n",
       "</div>"
      ],
      "text/plain": [
       "Sex       female  male\n",
       "Survived              \n",
       "0             81   468\n",
       "1            233   109"
      ]
     },
     "execution_count": 61,
     "metadata": {},
     "output_type": "execute_result"
    }
   ],
   "source": [
    "df.groupby (['Survived', 'Sex']).size ().unstack ()"
   ]
  },
  {
   "cell_type": "markdown",
   "metadata": {},
   "source": [
    "NOTE:\n",
    "- didn't survive 549 = 81 + 468\n",
    "- survived       342 = 233 + 109"
   ]
  },
  {
   "cell_type": "markdown",
   "metadata": {},
   "source": [
    "The **index column to unstack**, is passed as parameter, can be given by name, or by position, 0 is the default."
   ]
  },
  {
   "cell_type": "code",
   "execution_count": 62,
   "metadata": {},
   "outputs": [
    {
     "data": {
      "text/html": [
       "<div>\n",
       "<style scoped>\n",
       "    .dataframe tbody tr th:only-of-type {\n",
       "        vertical-align: middle;\n",
       "    }\n",
       "\n",
       "    .dataframe tbody tr th {\n",
       "        vertical-align: top;\n",
       "    }\n",
       "\n",
       "    .dataframe thead th {\n",
       "        text-align: right;\n",
       "    }\n",
       "</style>\n",
       "<table border=\"1\" class=\"dataframe\">\n",
       "  <thead>\n",
       "    <tr style=\"text-align: right;\">\n",
       "      <th>Sex</th>\n",
       "      <th>female</th>\n",
       "      <th>male</th>\n",
       "    </tr>\n",
       "    <tr>\n",
       "      <th>Survived</th>\n",
       "      <th></th>\n",
       "      <th></th>\n",
       "    </tr>\n",
       "  </thead>\n",
       "  <tbody>\n",
       "    <tr>\n",
       "      <td>0</td>\n",
       "      <td>81</td>\n",
       "      <td>468</td>\n",
       "    </tr>\n",
       "    <tr>\n",
       "      <td>1</td>\n",
       "      <td>233</td>\n",
       "      <td>109</td>\n",
       "    </tr>\n",
       "  </tbody>\n",
       "</table>\n",
       "</div>"
      ],
      "text/plain": [
       "Sex       female  male\n",
       "Survived              \n",
       "0             81   468\n",
       "1            233   109"
      ]
     },
     "execution_count": 62,
     "metadata": {},
     "output_type": "execute_result"
    }
   ],
   "source": [
    "df.groupby (['Survived', 'Sex']).size ().unstack ('Sex')"
   ]
  },
  {
   "cell_type": "markdown",
   "metadata": {},
   "source": [
    "by default, the <font color = magenta><b>leaf of the hierarchical (multi) index is unstacked</b></font>, leaving the rest of the index tree as the index of the returned dataframe"
   ]
  },
  {
   "cell_type": "code",
   "execution_count": 63,
   "metadata": {},
   "outputs": [
    {
     "data": {
      "text/plain": [
       "Int64Index([0, 1], dtype='int64', name='Survived')"
      ]
     },
     "execution_count": 63,
     "metadata": {},
     "output_type": "execute_result"
    }
   ],
   "source": [
    "df.groupby (['Survived', 'Sex']).size ().unstack ().index"
   ]
  },
  {
   "cell_type": "markdown",
   "metadata": {},
   "source": [
    "the unstacked leaf of the index forms the columns of the returned dataframe"
   ]
  },
  {
   "cell_type": "code",
   "execution_count": 64,
   "metadata": {},
   "outputs": [
    {
     "data": {
      "text/plain": [
       "Index(['female', 'male'], dtype='object', name='Sex')"
      ]
     },
     "execution_count": 64,
     "metadata": {},
     "output_type": "execute_result"
    }
   ],
   "source": [
    "df.groupby (['Survived', 'Sex']).size ().unstack ().columns"
   ]
  },
  {
   "cell_type": "markdown",
   "metadata": {},
   "source": [
    "**mention the index column to unstack**"
   ]
  },
  {
   "cell_type": "markdown",
   "metadata": {},
   "source": [
    "NOTE\n",
    "- this time we have <font color = magenta><b>unstacked 'Survived' instead of 'Sex'</b></font>"
   ]
  },
  {
   "cell_type": "code",
   "execution_count": 65,
   "metadata": {},
   "outputs": [
    {
     "data": {
      "text/html": [
       "<div>\n",
       "<style scoped>\n",
       "    .dataframe tbody tr th:only-of-type {\n",
       "        vertical-align: middle;\n",
       "    }\n",
       "\n",
       "    .dataframe tbody tr th {\n",
       "        vertical-align: top;\n",
       "    }\n",
       "\n",
       "    .dataframe thead th {\n",
       "        text-align: right;\n",
       "    }\n",
       "</style>\n",
       "<table border=\"1\" class=\"dataframe\">\n",
       "  <thead>\n",
       "    <tr style=\"text-align: right;\">\n",
       "      <th>Survived</th>\n",
       "      <th>0</th>\n",
       "      <th>1</th>\n",
       "    </tr>\n",
       "    <tr>\n",
       "      <th>Sex</th>\n",
       "      <th></th>\n",
       "      <th></th>\n",
       "    </tr>\n",
       "  </thead>\n",
       "  <tbody>\n",
       "    <tr>\n",
       "      <td>female</td>\n",
       "      <td>81</td>\n",
       "      <td>233</td>\n",
       "    </tr>\n",
       "    <tr>\n",
       "      <td>male</td>\n",
       "      <td>468</td>\n",
       "      <td>109</td>\n",
       "    </tr>\n",
       "  </tbody>\n",
       "</table>\n",
       "</div>"
      ],
      "text/plain": [
       "Survived    0    1\n",
       "Sex               \n",
       "female     81  233\n",
       "male      468  109"
      ]
     },
     "execution_count": 65,
     "metadata": {},
     "output_type": "execute_result"
    }
   ],
   "source": [
    "df.groupby (['Survived', 'Sex']).size ().unstack ('Survived')"
   ]
  },
  {
   "cell_type": "markdown",
   "metadata": {},
   "source": [
    "## <font color = grey><b>7. Filter</b></font>"
   ]
  },
  {
   "cell_type": "markdown",
   "metadata": {},
   "source": [
    "### Data creation"
   ]
  },
  {
   "cell_type": "code",
   "execution_count": 66,
   "metadata": {},
   "outputs": [
    {
     "data": {
      "text/html": [
       "<div>\n",
       "<style scoped>\n",
       "    .dataframe tbody tr th:only-of-type {\n",
       "        vertical-align: middle;\n",
       "    }\n",
       "\n",
       "    .dataframe tbody tr th {\n",
       "        vertical-align: top;\n",
       "    }\n",
       "\n",
       "    .dataframe thead th {\n",
       "        text-align: right;\n",
       "    }\n",
       "</style>\n",
       "<table border=\"1\" class=\"dataframe\">\n",
       "  <thead>\n",
       "    <tr style=\"text-align: right;\">\n",
       "      <th></th>\n",
       "      <th>Author</th>\n",
       "      <th>Title</th>\n",
       "      <th>Edition</th>\n",
       "    </tr>\n",
       "  </thead>\n",
       "  <tbody>\n",
       "    <tr>\n",
       "      <td>0</td>\n",
       "      <td>Strang</td>\n",
       "      <td>Introduction to Linear Algebra</td>\n",
       "      <td>1.0</td>\n",
       "    </tr>\n",
       "    <tr>\n",
       "      <td>1</td>\n",
       "      <td>Blitzstein</td>\n",
       "      <td>Introduction to Probability</td>\n",
       "      <td>NaN</td>\n",
       "    </tr>\n",
       "    <tr>\n",
       "      <td>2</td>\n",
       "      <td>Witten</td>\n",
       "      <td>ML Beginner</td>\n",
       "      <td>2.0</td>\n",
       "    </tr>\n",
       "    <tr>\n",
       "      <td>3</td>\n",
       "      <td>Bishop</td>\n",
       "      <td>ML Advanced</td>\n",
       "      <td>NaN</td>\n",
       "    </tr>\n",
       "    <tr>\n",
       "      <td>4</td>\n",
       "      <td>Bengio</td>\n",
       "      <td>Deep Learning</td>\n",
       "      <td>1.0</td>\n",
       "    </tr>\n",
       "  </tbody>\n",
       "</table>\n",
       "</div>"
      ],
      "text/plain": [
       "       Author                           Title  Edition\n",
       "0      Strang  Introduction to Linear Algebra      1.0\n",
       "1  Blitzstein     Introduction to Probability      NaN\n",
       "2      Witten                     ML Beginner      2.0\n",
       "3      Bishop                     ML Advanced      NaN\n",
       "4      Bengio                   Deep Learning      1.0"
      ]
     },
     "execution_count": 66,
     "metadata": {},
     "output_type": "execute_result"
    }
   ],
   "source": [
    "frame = {'Author': s_author, 'Title': s_title, 'Edition': s_edition}\n",
    "df_books = pd.DataFrame (frame)\n",
    "df_books.head ()"
   ]
  },
  {
   "cell_type": "markdown",
   "metadata": {},
   "source": [
    "### An example 'filter'"
   ]
  },
  {
   "cell_type": "code",
   "execution_count": 67,
   "metadata": {},
   "outputs": [
    {
     "data": {
      "text/plain": [
       "0     True\n",
       "1    False\n",
       "2    False\n",
       "3    False\n",
       "4     True\n",
       "5    False\n",
       "Name: Edition, dtype: bool"
      ]
     },
     "execution_count": 67,
     "metadata": {},
     "output_type": "execute_result"
    }
   ],
   "source": [
    "df_books ['Edition'] == 1"
   ]
  },
  {
   "cell_type": "markdown",
   "metadata": {},
   "source": [
    "#### <font color = magenta><b>Chaining</b></font> format"
   ]
  },
  {
   "cell_type": "code",
   "execution_count": 68,
   "metadata": {},
   "outputs": [
    {
     "data": {
      "text/plain": [
       "0    False\n",
       "1    False\n",
       "2     True\n",
       "3    False\n",
       "4    False\n",
       "5     True\n",
       "Name: Edition, dtype: bool"
      ]
     },
     "execution_count": 68,
     "metadata": {},
     "output_type": "execute_result"
    }
   ],
   "source": [
    "df_books.Edition.eq (2)"
   ]
  },
  {
   "cell_type": "markdown",
   "metadata": {},
   "source": [
    "### Apply filter to a dataframe"
   ]
  },
  {
   "cell_type": "markdown",
   "metadata": {},
   "source": [
    "#### Filter rows whose column value equals a specific value"
   ]
  },
  {
   "cell_type": "code",
   "execution_count": 69,
   "metadata": {},
   "outputs": [
    {
     "data": {
      "text/html": [
       "<div>\n",
       "<style scoped>\n",
       "    .dataframe tbody tr th:only-of-type {\n",
       "        vertical-align: middle;\n",
       "    }\n",
       "\n",
       "    .dataframe tbody tr th {\n",
       "        vertical-align: top;\n",
       "    }\n",
       "\n",
       "    .dataframe thead th {\n",
       "        text-align: right;\n",
       "    }\n",
       "</style>\n",
       "<table border=\"1\" class=\"dataframe\">\n",
       "  <thead>\n",
       "    <tr style=\"text-align: right;\">\n",
       "      <th></th>\n",
       "      <th>Author</th>\n",
       "      <th>Title</th>\n",
       "      <th>Edition</th>\n",
       "    </tr>\n",
       "  </thead>\n",
       "  <tbody>\n",
       "    <tr>\n",
       "      <td>2</td>\n",
       "      <td>Witten</td>\n",
       "      <td>ML Beginner</td>\n",
       "      <td>2.0</td>\n",
       "    </tr>\n",
       "    <tr>\n",
       "      <td>5</td>\n",
       "      <td>Sutton</td>\n",
       "      <td>Reinforcement Learning - An Introduction</td>\n",
       "      <td>2.0</td>\n",
       "    </tr>\n",
       "  </tbody>\n",
       "</table>\n",
       "</div>"
      ],
      "text/plain": [
       "   Author                                     Title  Edition\n",
       "2  Witten                               ML Beginner      2.0\n",
       "5  Sutton  Reinforcement Learning - An Introduction      2.0"
      ]
     },
     "execution_count": 69,
     "metadata": {},
     "output_type": "execute_result"
    }
   ],
   "source": [
    "filter = df_books ['Edition'] == 2\n",
    "df_books [filter]"
   ]
  },
  {
   "cell_type": "markdown",
   "metadata": {},
   "source": [
    "##### Filter rows whose column value does NOT equal a specific value - <font color = magenta><b>!=</b></font>"
   ]
  },
  {
   "cell_type": "code",
   "execution_count": 70,
   "metadata": {},
   "outputs": [
    {
     "data": {
      "text/html": [
       "<div>\n",
       "<style scoped>\n",
       "    .dataframe tbody tr th:only-of-type {\n",
       "        vertical-align: middle;\n",
       "    }\n",
       "\n",
       "    .dataframe tbody tr th {\n",
       "        vertical-align: top;\n",
       "    }\n",
       "\n",
       "    .dataframe thead th {\n",
       "        text-align: right;\n",
       "    }\n",
       "</style>\n",
       "<table border=\"1\" class=\"dataframe\">\n",
       "  <thead>\n",
       "    <tr style=\"text-align: right;\">\n",
       "      <th></th>\n",
       "      <th>Author</th>\n",
       "      <th>Title</th>\n",
       "      <th>Edition</th>\n",
       "    </tr>\n",
       "  </thead>\n",
       "  <tbody>\n",
       "    <tr>\n",
       "      <td>0</td>\n",
       "      <td>Strang</td>\n",
       "      <td>Introduction to Linear Algebra</td>\n",
       "      <td>1.0</td>\n",
       "    </tr>\n",
       "    <tr>\n",
       "      <td>1</td>\n",
       "      <td>Blitzstein</td>\n",
       "      <td>Introduction to Probability</td>\n",
       "      <td>NaN</td>\n",
       "    </tr>\n",
       "    <tr>\n",
       "      <td>3</td>\n",
       "      <td>Bishop</td>\n",
       "      <td>ML Advanced</td>\n",
       "      <td>NaN</td>\n",
       "    </tr>\n",
       "    <tr>\n",
       "      <td>4</td>\n",
       "      <td>Bengio</td>\n",
       "      <td>Deep Learning</td>\n",
       "      <td>1.0</td>\n",
       "    </tr>\n",
       "  </tbody>\n",
       "</table>\n",
       "</div>"
      ],
      "text/plain": [
       "       Author                           Title  Edition\n",
       "0      Strang  Introduction to Linear Algebra      1.0\n",
       "1  Blitzstein     Introduction to Probability      NaN\n",
       "3      Bishop                     ML Advanced      NaN\n",
       "4      Bengio                   Deep Learning      1.0"
      ]
     },
     "execution_count": 70,
     "metadata": {},
     "output_type": "execute_result"
    }
   ],
   "source": [
    "filter = df_books.Edition != 2\n",
    "df_books [filter]"
   ]
  },
  {
   "cell_type": "markdown",
   "metadata": {},
   "source": [
    "#### Filter rows whose column value is not NaN - df.col.<font color = magenta><b>notnull ()</b></font>"
   ]
  },
  {
   "cell_type": "code",
   "execution_count": 71,
   "metadata": {},
   "outputs": [
    {
     "data": {
      "text/html": [
       "<div>\n",
       "<style scoped>\n",
       "    .dataframe tbody tr th:only-of-type {\n",
       "        vertical-align: middle;\n",
       "    }\n",
       "\n",
       "    .dataframe tbody tr th {\n",
       "        vertical-align: top;\n",
       "    }\n",
       "\n",
       "    .dataframe thead th {\n",
       "        text-align: right;\n",
       "    }\n",
       "</style>\n",
       "<table border=\"1\" class=\"dataframe\">\n",
       "  <thead>\n",
       "    <tr style=\"text-align: right;\">\n",
       "      <th></th>\n",
       "      <th>Author</th>\n",
       "      <th>Title</th>\n",
       "      <th>Edition</th>\n",
       "    </tr>\n",
       "  </thead>\n",
       "  <tbody>\n",
       "    <tr>\n",
       "      <td>0</td>\n",
       "      <td>Strang</td>\n",
       "      <td>Introduction to Linear Algebra</td>\n",
       "      <td>1.0</td>\n",
       "    </tr>\n",
       "    <tr>\n",
       "      <td>2</td>\n",
       "      <td>Witten</td>\n",
       "      <td>ML Beginner</td>\n",
       "      <td>2.0</td>\n",
       "    </tr>\n",
       "    <tr>\n",
       "      <td>4</td>\n",
       "      <td>Bengio</td>\n",
       "      <td>Deep Learning</td>\n",
       "      <td>1.0</td>\n",
       "    </tr>\n",
       "    <tr>\n",
       "      <td>5</td>\n",
       "      <td>Sutton</td>\n",
       "      <td>Reinforcement Learning - An Introduction</td>\n",
       "      <td>2.0</td>\n",
       "    </tr>\n",
       "  </tbody>\n",
       "</table>\n",
       "</div>"
      ],
      "text/plain": [
       "   Author                                     Title  Edition\n",
       "0  Strang            Introduction to Linear Algebra      1.0\n",
       "2  Witten                               ML Beginner      2.0\n",
       "4  Bengio                             Deep Learning      1.0\n",
       "5  Sutton  Reinforcement Learning - An Introduction      2.0"
      ]
     },
     "execution_count": 71,
     "metadata": {},
     "output_type": "execute_result"
    }
   ],
   "source": [
    "filter = df_books.Edition.notnull ()\n",
    "df_books [filter]"
   ]
  },
  {
   "cell_type": "markdown",
   "metadata": {},
   "source": [
    "#### Filter rows with column values among a set of values"
   ]
  },
  {
   "cell_type": "markdown",
   "metadata": {},
   "source": [
    "df.colname.<font color = magenta><b>isin</b></font>"
   ]
  },
  {
   "cell_type": "code",
   "execution_count": 72,
   "metadata": {},
   "outputs": [
    {
     "data": {
      "text/html": [
       "<div>\n",
       "<style scoped>\n",
       "    .dataframe tbody tr th:only-of-type {\n",
       "        vertical-align: middle;\n",
       "    }\n",
       "\n",
       "    .dataframe tbody tr th {\n",
       "        vertical-align: top;\n",
       "    }\n",
       "\n",
       "    .dataframe thead th {\n",
       "        text-align: right;\n",
       "    }\n",
       "</style>\n",
       "<table border=\"1\" class=\"dataframe\">\n",
       "  <thead>\n",
       "    <tr style=\"text-align: right;\">\n",
       "      <th></th>\n",
       "      <th>Author</th>\n",
       "      <th>Title</th>\n",
       "      <th>Edition</th>\n",
       "    </tr>\n",
       "  </thead>\n",
       "  <tbody>\n",
       "    <tr>\n",
       "      <td>0</td>\n",
       "      <td>Strang</td>\n",
       "      <td>Introduction to Linear Algebra</td>\n",
       "      <td>1.0</td>\n",
       "    </tr>\n",
       "    <tr>\n",
       "      <td>1</td>\n",
       "      <td>Blitzstein</td>\n",
       "      <td>Introduction to Probability</td>\n",
       "      <td>NaN</td>\n",
       "    </tr>\n",
       "  </tbody>\n",
       "</table>\n",
       "</div>"
      ],
      "text/plain": [
       "       Author                           Title  Edition\n",
       "0      Strang  Introduction to Linear Algebra      1.0\n",
       "1  Blitzstein     Introduction to Probability      NaN"
      ]
     },
     "execution_count": 72,
     "metadata": {},
     "output_type": "execute_result"
    }
   ],
   "source": [
    "authors_maths = ['Apostol', 'Strang', 'Blitzstein']\n",
    "filter = df_books.Author.isin (authors_maths)\n",
    "df_books [filter]"
   ]
  },
  {
   "cell_type": "markdown",
   "metadata": {},
   "source": [
    "##### Filter rows with column values NOT among a set of values"
   ]
  },
  {
   "cell_type": "markdown",
   "metadata": {},
   "source": [
    "<font color = magenta><b>~df</b></font>.colname.isin"
   ]
  },
  {
   "cell_type": "code",
   "execution_count": 73,
   "metadata": {},
   "outputs": [
    {
     "data": {
      "text/html": [
       "<div>\n",
       "<style scoped>\n",
       "    .dataframe tbody tr th:only-of-type {\n",
       "        vertical-align: middle;\n",
       "    }\n",
       "\n",
       "    .dataframe tbody tr th {\n",
       "        vertical-align: top;\n",
       "    }\n",
       "\n",
       "    .dataframe thead th {\n",
       "        text-align: right;\n",
       "    }\n",
       "</style>\n",
       "<table border=\"1\" class=\"dataframe\">\n",
       "  <thead>\n",
       "    <tr style=\"text-align: right;\">\n",
       "      <th></th>\n",
       "      <th>Author</th>\n",
       "      <th>Title</th>\n",
       "      <th>Edition</th>\n",
       "    </tr>\n",
       "  </thead>\n",
       "  <tbody>\n",
       "    <tr>\n",
       "      <td>2</td>\n",
       "      <td>Witten</td>\n",
       "      <td>ML Beginner</td>\n",
       "      <td>2.0</td>\n",
       "    </tr>\n",
       "    <tr>\n",
       "      <td>3</td>\n",
       "      <td>Bishop</td>\n",
       "      <td>ML Advanced</td>\n",
       "      <td>NaN</td>\n",
       "    </tr>\n",
       "    <tr>\n",
       "      <td>4</td>\n",
       "      <td>Bengio</td>\n",
       "      <td>Deep Learning</td>\n",
       "      <td>1.0</td>\n",
       "    </tr>\n",
       "    <tr>\n",
       "      <td>5</td>\n",
       "      <td>Sutton</td>\n",
       "      <td>Reinforcement Learning - An Introduction</td>\n",
       "      <td>2.0</td>\n",
       "    </tr>\n",
       "  </tbody>\n",
       "</table>\n",
       "</div>"
      ],
      "text/plain": [
       "   Author                                     Title  Edition\n",
       "2  Witten                               ML Beginner      2.0\n",
       "3  Bishop                               ML Advanced      NaN\n",
       "4  Bengio                             Deep Learning      1.0\n",
       "5  Sutton  Reinforcement Learning - An Introduction      2.0"
      ]
     },
     "execution_count": 73,
     "metadata": {},
     "output_type": "execute_result"
    }
   ],
   "source": [
    "filter = ~df_books.Author.isin (authors_maths)\n",
    "df_books [filter]"
   ]
  },
  {
   "cell_type": "markdown",
   "metadata": {},
   "source": [
    "#### Filter rows based on <font color = magenta><b>multiple conditions</b></font>"
   ]
  },
  {
   "cell_type": "markdown",
   "metadata": {},
   "source": [
    "condition1 <font color = magenta><b>&</b></font> condition2"
   ]
  },
  {
   "cell_type": "code",
   "execution_count": 74,
   "metadata": {},
   "outputs": [
    {
     "data": {
      "text/html": [
       "<div>\n",
       "<style scoped>\n",
       "    .dataframe tbody tr th:only-of-type {\n",
       "        vertical-align: middle;\n",
       "    }\n",
       "\n",
       "    .dataframe tbody tr th {\n",
       "        vertical-align: top;\n",
       "    }\n",
       "\n",
       "    .dataframe thead th {\n",
       "        text-align: right;\n",
       "    }\n",
       "</style>\n",
       "<table border=\"1\" class=\"dataframe\">\n",
       "  <thead>\n",
       "    <tr style=\"text-align: right;\">\n",
       "      <th></th>\n",
       "      <th>Author</th>\n",
       "      <th>Title</th>\n",
       "      <th>Edition</th>\n",
       "    </tr>\n",
       "  </thead>\n",
       "  <tbody>\n",
       "    <tr>\n",
       "      <td>2</td>\n",
       "      <td>Witten</td>\n",
       "      <td>ML Beginner</td>\n",
       "      <td>2.0</td>\n",
       "    </tr>\n",
       "    <tr>\n",
       "      <td>4</td>\n",
       "      <td>Bengio</td>\n",
       "      <td>Deep Learning</td>\n",
       "      <td>1.0</td>\n",
       "    </tr>\n",
       "    <tr>\n",
       "      <td>5</td>\n",
       "      <td>Sutton</td>\n",
       "      <td>Reinforcement Learning - An Introduction</td>\n",
       "      <td>2.0</td>\n",
       "    </tr>\n",
       "  </tbody>\n",
       "</table>\n",
       "</div>"
      ],
      "text/plain": [
       "   Author                                     Title  Edition\n",
       "2  Witten                               ML Beginner      2.0\n",
       "4  Bengio                             Deep Learning      1.0\n",
       "5  Sutton  Reinforcement Learning - An Introduction      2.0"
      ]
     },
     "execution_count": 74,
     "metadata": {},
     "output_type": "execute_result"
    }
   ],
   "source": [
    "filter = ~df_books.Author.isin (authors_maths)\\\n",
    "        & df_books.Edition.notnull ()\n",
    "df_books [filter]"
   ]
  },
  {
   "cell_type": "markdown",
   "metadata": {},
   "source": [
    "#### Filter rows based on a <font color = magenta><b>series</b></font>"
   ]
  },
  {
   "cell_type": "code",
   "execution_count": 75,
   "metadata": {},
   "outputs": [
    {
     "data": {
      "text/html": [
       "<div>\n",
       "<style scoped>\n",
       "    .dataframe tbody tr th:only-of-type {\n",
       "        vertical-align: middle;\n",
       "    }\n",
       "\n",
       "    .dataframe tbody tr th {\n",
       "        vertical-align: top;\n",
       "    }\n",
       "\n",
       "    .dataframe thead th {\n",
       "        text-align: right;\n",
       "    }\n",
       "</style>\n",
       "<table border=\"1\" class=\"dataframe\">\n",
       "  <thead>\n",
       "    <tr style=\"text-align: right;\">\n",
       "      <th></th>\n",
       "      <th>Author</th>\n",
       "      <th>Title</th>\n",
       "      <th>Edition</th>\n",
       "    </tr>\n",
       "  </thead>\n",
       "  <tbody>\n",
       "    <tr>\n",
       "      <td>4</td>\n",
       "      <td>Bengio</td>\n",
       "      <td>Deep Learning</td>\n",
       "      <td>1.0</td>\n",
       "    </tr>\n",
       "  </tbody>\n",
       "</table>\n",
       "</div>"
      ],
      "text/plain": [
       "   Author          Title  Edition\n",
       "4  Bengio  Deep Learning      1.0"
      ]
     },
     "execution_count": 75,
     "metadata": {},
     "output_type": "execute_result"
    }
   ],
   "source": [
    "s_title_learning = df_books ['Title'\\\n",
    "                            ].apply (lambda x: x.endswith ('Learning'))\n",
    "df_books [s_title_learning]"
   ]
  },
  {
   "cell_type": "markdown",
   "metadata": {},
   "source": [
    "## <font color = grey><b>8. Selection</b></font>"
   ]
  },
  {
   "cell_type": "markdown",
   "metadata": {},
   "source": [
    "### using <font color = magenta><b>.loc</b></font>\n",
    "- selection using <font color = magenta><b>label-based location</b></font>\n",
    "- selection using <font color = magenta><b>filter</b></font>"
   ]
  },
  {
   "cell_type": "markdown",
   "metadata": {},
   "source": [
    "df.loc [(<font color = magenta><b>index1_label, ...</b></font>), [selected_cols]]"
   ]
  },
  {
   "cell_type": "markdown",
   "metadata": {},
   "source": [
    "df.loc [<font color = magenta><b>[index_label1, index_label2, ...]</b></font>, [selected_cols]]"
   ]
  },
  {
   "cell_type": "markdown",
   "metadata": {},
   "source": [
    "df.loc [<font color = magenta><b>filter</b></font>, [selected_cols]]"
   ]
  },
  {
   "cell_type": "markdown",
   "metadata": {},
   "source": [
    "NOTE: For the first parameter of .loc (), <font color = magenta><b>we pass index values</b></font>. These values are the **labels of the rows**. Hence, .loc is label-based."
   ]
  },
  {
   "cell_type": "markdown",
   "metadata": {},
   "source": [
    "#### data creation - add index"
   ]
  },
  {
   "cell_type": "code",
   "execution_count": 76,
   "metadata": {},
   "outputs": [
    {
     "data": {
      "text/html": [
       "<div>\n",
       "<style scoped>\n",
       "    .dataframe tbody tr th:only-of-type {\n",
       "        vertical-align: middle;\n",
       "    }\n",
       "\n",
       "    .dataframe tbody tr th {\n",
       "        vertical-align: top;\n",
       "    }\n",
       "\n",
       "    .dataframe thead th {\n",
       "        text-align: right;\n",
       "    }\n",
       "</style>\n",
       "<table border=\"1\" class=\"dataframe\">\n",
       "  <thead>\n",
       "    <tr style=\"text-align: right;\">\n",
       "      <th></th>\n",
       "      <th></th>\n",
       "      <th>Author</th>\n",
       "      <th>Title</th>\n",
       "      <th>Edition</th>\n",
       "    </tr>\n",
       "    <tr>\n",
       "      <th>Topic</th>\n",
       "      <th>Sub-Topic</th>\n",
       "      <th></th>\n",
       "      <th></th>\n",
       "      <th></th>\n",
       "    </tr>\n",
       "  </thead>\n",
       "  <tbody>\n",
       "    <tr>\n",
       "      <td rowspan=\"4\" valign=\"top\">Machine Learning</td>\n",
       "      <td>DL</td>\n",
       "      <td>Bengio</td>\n",
       "      <td>Deep Learning</td>\n",
       "      <td>1.0</td>\n",
       "    </tr>\n",
       "    <tr>\n",
       "      <td>ML</td>\n",
       "      <td>Witten</td>\n",
       "      <td>ML Beginner</td>\n",
       "      <td>2.0</td>\n",
       "    </tr>\n",
       "    <tr>\n",
       "      <td>ML</td>\n",
       "      <td>Bishop</td>\n",
       "      <td>ML Advanced</td>\n",
       "      <td>NaN</td>\n",
       "    </tr>\n",
       "    <tr>\n",
       "      <td>RL</td>\n",
       "      <td>Sutton</td>\n",
       "      <td>Reinforcement Learning - An Introduction</td>\n",
       "      <td>2.0</td>\n",
       "    </tr>\n",
       "    <tr>\n",
       "      <td rowspan=\"2\" valign=\"top\">Maths</td>\n",
       "      <td>LA</td>\n",
       "      <td>Strang</td>\n",
       "      <td>Introduction to Linear Algebra</td>\n",
       "      <td>1.0</td>\n",
       "    </tr>\n",
       "    <tr>\n",
       "      <td>Prob</td>\n",
       "      <td>Blitzstein</td>\n",
       "      <td>Introduction to Probability</td>\n",
       "      <td>NaN</td>\n",
       "    </tr>\n",
       "  </tbody>\n",
       "</table>\n",
       "</div>"
      ],
      "text/plain": [
       "                                Author  \\\n",
       "Topic            Sub-Topic               \n",
       "Machine Learning DL             Bengio   \n",
       "                 ML             Witten   \n",
       "                 ML             Bishop   \n",
       "                 RL             Sutton   \n",
       "Maths            LA             Strang   \n",
       "                 Prob       Blitzstein   \n",
       "\n",
       "                                                               Title  Edition  \n",
       "Topic            Sub-Topic                                                     \n",
       "Machine Learning DL                                    Deep Learning      1.0  \n",
       "                 ML                                      ML Beginner      2.0  \n",
       "                 ML                                      ML Advanced      NaN  \n",
       "                 RL         Reinforcement Learning - An Introduction      2.0  \n",
       "Maths            LA                   Introduction to Linear Algebra      1.0  \n",
       "                 Prob                    Introduction to Probability      NaN  "
      ]
     },
     "execution_count": 76,
     "metadata": {},
     "output_type": "execute_result"
    }
   ],
   "source": [
    "frame = {'Author': s_author, 'Title': s_title, 'Edition': s_edition}\n",
    "df_books = pd.DataFrame (frame)\n",
    "mux = pd.MultiIndex.from_arrays ([topic, sub_topic],\\\n",
    "                                 names = ['Topic', 'Sub-Topic'])\n",
    "df_books = df_books.set_index (mux)\n",
    "#to prevent\n",
    "#\"PerformanceWarning: indexing past lexsort depth may impact performance.\"\n",
    "df_books.sort_index (inplace = True)\n",
    "df_books"
   ]
  },
  {
   "cell_type": "markdown",
   "metadata": {},
   "source": [
    "#### df.loc [<font color = magenta><b>index</b></font>] - returns rows belonging to the index label"
   ]
  },
  {
   "cell_type": "code",
   "execution_count": 77,
   "metadata": {},
   "outputs": [
    {
     "data": {
      "text/html": [
       "<div>\n",
       "<style scoped>\n",
       "    .dataframe tbody tr th:only-of-type {\n",
       "        vertical-align: middle;\n",
       "    }\n",
       "\n",
       "    .dataframe tbody tr th {\n",
       "        vertical-align: top;\n",
       "    }\n",
       "\n",
       "    .dataframe thead th {\n",
       "        text-align: right;\n",
       "    }\n",
       "</style>\n",
       "<table border=\"1\" class=\"dataframe\">\n",
       "  <thead>\n",
       "    <tr style=\"text-align: right;\">\n",
       "      <th></th>\n",
       "      <th>Author</th>\n",
       "      <th>Title</th>\n",
       "      <th>Edition</th>\n",
       "    </tr>\n",
       "    <tr>\n",
       "      <th>Sub-Topic</th>\n",
       "      <th></th>\n",
       "      <th></th>\n",
       "      <th></th>\n",
       "    </tr>\n",
       "  </thead>\n",
       "  <tbody>\n",
       "    <tr>\n",
       "      <td>DL</td>\n",
       "      <td>Bengio</td>\n",
       "      <td>Deep Learning</td>\n",
       "      <td>1.0</td>\n",
       "    </tr>\n",
       "    <tr>\n",
       "      <td>ML</td>\n",
       "      <td>Witten</td>\n",
       "      <td>ML Beginner</td>\n",
       "      <td>2.0</td>\n",
       "    </tr>\n",
       "    <tr>\n",
       "      <td>ML</td>\n",
       "      <td>Bishop</td>\n",
       "      <td>ML Advanced</td>\n",
       "      <td>NaN</td>\n",
       "    </tr>\n",
       "    <tr>\n",
       "      <td>RL</td>\n",
       "      <td>Sutton</td>\n",
       "      <td>Reinforcement Learning - An Introduction</td>\n",
       "      <td>2.0</td>\n",
       "    </tr>\n",
       "  </tbody>\n",
       "</table>\n",
       "</div>"
      ],
      "text/plain": [
       "           Author                                     Title  Edition\n",
       "Sub-Topic                                                           \n",
       "DL         Bengio                             Deep Learning      1.0\n",
       "ML         Witten                               ML Beginner      2.0\n",
       "ML         Bishop                               ML Advanced      NaN\n",
       "RL         Sutton  Reinforcement Learning - An Introduction      2.0"
      ]
     },
     "execution_count": 77,
     "metadata": {},
     "output_type": "execute_result"
    }
   ],
   "source": [
    "df_books.loc ['Machine Learning']"
   ]
  },
  {
   "cell_type": "markdown",
   "metadata": {},
   "source": [
    "#### df.loc [<font color = magenta><b>(index1, index2)</b></font>] - returns rows belonging to the <font color = magenta><b>hierarchical index labels</b></font>"
   ]
  },
  {
   "cell_type": "code",
   "execution_count": 78,
   "metadata": {},
   "outputs": [
    {
     "data": {
      "text/html": [
       "<div>\n",
       "<style scoped>\n",
       "    .dataframe tbody tr th:only-of-type {\n",
       "        vertical-align: middle;\n",
       "    }\n",
       "\n",
       "    .dataframe tbody tr th {\n",
       "        vertical-align: top;\n",
       "    }\n",
       "\n",
       "    .dataframe thead th {\n",
       "        text-align: right;\n",
       "    }\n",
       "</style>\n",
       "<table border=\"1\" class=\"dataframe\">\n",
       "  <thead>\n",
       "    <tr style=\"text-align: right;\">\n",
       "      <th></th>\n",
       "      <th></th>\n",
       "      <th>Author</th>\n",
       "      <th>Title</th>\n",
       "      <th>Edition</th>\n",
       "    </tr>\n",
       "    <tr>\n",
       "      <th>Topic</th>\n",
       "      <th>Sub-Topic</th>\n",
       "      <th></th>\n",
       "      <th></th>\n",
       "      <th></th>\n",
       "    </tr>\n",
       "  </thead>\n",
       "  <tbody>\n",
       "    <tr>\n",
       "      <td rowspan=\"2\" valign=\"top\">Machine Learning</td>\n",
       "      <td>ML</td>\n",
       "      <td>Witten</td>\n",
       "      <td>ML Beginner</td>\n",
       "      <td>2.0</td>\n",
       "    </tr>\n",
       "    <tr>\n",
       "      <td>ML</td>\n",
       "      <td>Bishop</td>\n",
       "      <td>ML Advanced</td>\n",
       "      <td>NaN</td>\n",
       "    </tr>\n",
       "  </tbody>\n",
       "</table>\n",
       "</div>"
      ],
      "text/plain": [
       "                            Author        Title  Edition\n",
       "Topic            Sub-Topic                              \n",
       "Machine Learning ML         Witten  ML Beginner      2.0\n",
       "                 ML         Bishop  ML Advanced      NaN"
      ]
     },
     "execution_count": 78,
     "metadata": {},
     "output_type": "execute_result"
    }
   ],
   "source": [
    "df_books.loc [('Machine Learning', 'ML')]"
   ]
  },
  {
   "cell_type": "markdown",
   "metadata": {},
   "source": [
    "df.loc [<font color = magenta><b>[idx1_labl1, idx1_lab2]</b></font>] - returns rows belonging to the multiple labels of the <font color = magenta><b>index root</b></font>"
   ]
  },
  {
   "cell_type": "code",
   "execution_count": 79,
   "metadata": {},
   "outputs": [
    {
     "data": {
      "text/html": [
       "<div>\n",
       "<style scoped>\n",
       "    .dataframe tbody tr th:only-of-type {\n",
       "        vertical-align: middle;\n",
       "    }\n",
       "\n",
       "    .dataframe tbody tr th {\n",
       "        vertical-align: top;\n",
       "    }\n",
       "\n",
       "    .dataframe thead th {\n",
       "        text-align: right;\n",
       "    }\n",
       "</style>\n",
       "<table border=\"1\" class=\"dataframe\">\n",
       "  <thead>\n",
       "    <tr style=\"text-align: right;\">\n",
       "      <th></th>\n",
       "      <th></th>\n",
       "      <th>Author</th>\n",
       "      <th>Title</th>\n",
       "      <th>Edition</th>\n",
       "    </tr>\n",
       "    <tr>\n",
       "      <th>Topic</th>\n",
       "      <th>Sub-Topic</th>\n",
       "      <th></th>\n",
       "      <th></th>\n",
       "      <th></th>\n",
       "    </tr>\n",
       "  </thead>\n",
       "  <tbody>\n",
       "    <tr>\n",
       "      <td rowspan=\"4\" valign=\"top\">Machine Learning</td>\n",
       "      <td>DL</td>\n",
       "      <td>Bengio</td>\n",
       "      <td>Deep Learning</td>\n",
       "      <td>1.0</td>\n",
       "    </tr>\n",
       "    <tr>\n",
       "      <td>ML</td>\n",
       "      <td>Witten</td>\n",
       "      <td>ML Beginner</td>\n",
       "      <td>2.0</td>\n",
       "    </tr>\n",
       "    <tr>\n",
       "      <td>ML</td>\n",
       "      <td>Bishop</td>\n",
       "      <td>ML Advanced</td>\n",
       "      <td>NaN</td>\n",
       "    </tr>\n",
       "    <tr>\n",
       "      <td>RL</td>\n",
       "      <td>Sutton</td>\n",
       "      <td>Reinforcement Learning - An Introduction</td>\n",
       "      <td>2.0</td>\n",
       "    </tr>\n",
       "    <tr>\n",
       "      <td rowspan=\"2\" valign=\"top\">Maths</td>\n",
       "      <td>LA</td>\n",
       "      <td>Strang</td>\n",
       "      <td>Introduction to Linear Algebra</td>\n",
       "      <td>1.0</td>\n",
       "    </tr>\n",
       "    <tr>\n",
       "      <td>Prob</td>\n",
       "      <td>Blitzstein</td>\n",
       "      <td>Introduction to Probability</td>\n",
       "      <td>NaN</td>\n",
       "    </tr>\n",
       "  </tbody>\n",
       "</table>\n",
       "</div>"
      ],
      "text/plain": [
       "                                Author  \\\n",
       "Topic            Sub-Topic               \n",
       "Machine Learning DL             Bengio   \n",
       "                 ML             Witten   \n",
       "                 ML             Bishop   \n",
       "                 RL             Sutton   \n",
       "Maths            LA             Strang   \n",
       "                 Prob       Blitzstein   \n",
       "\n",
       "                                                               Title  Edition  \n",
       "Topic            Sub-Topic                                                     \n",
       "Machine Learning DL                                    Deep Learning      1.0  \n",
       "                 ML                                      ML Beginner      2.0  \n",
       "                 ML                                      ML Advanced      NaN  \n",
       "                 RL         Reinforcement Learning - An Introduction      2.0  \n",
       "Maths            LA                   Introduction to Linear Algebra      1.0  \n",
       "                 Prob                    Introduction to Probability      NaN  "
      ]
     },
     "execution_count": 79,
     "metadata": {},
     "output_type": "execute_result"
    }
   ],
   "source": [
    "df_books.loc [['Machine Learning', 'Maths']]"
   ]
  },
  {
   "cell_type": "markdown",
   "metadata": {},
   "source": [
    "df.loc [([idx1_lab1, idx1_lab2]<font color = magenta><b>, [idx2_lab1]</b></font>), [selected_cols]] - returns rows belonging to the <font color = magenta><b>cross-product labels</b></font> of the nodes of the hierarchical index"
   ]
  },
  {
   "cell_type": "code",
   "execution_count": 80,
   "metadata": {},
   "outputs": [
    {
     "data": {
      "text/html": [
       "<div>\n",
       "<style scoped>\n",
       "    .dataframe tbody tr th:only-of-type {\n",
       "        vertical-align: middle;\n",
       "    }\n",
       "\n",
       "    .dataframe tbody tr th {\n",
       "        vertical-align: top;\n",
       "    }\n",
       "\n",
       "    .dataframe thead th {\n",
       "        text-align: right;\n",
       "    }\n",
       "</style>\n",
       "<table border=\"1\" class=\"dataframe\">\n",
       "  <thead>\n",
       "    <tr style=\"text-align: right;\">\n",
       "      <th></th>\n",
       "      <th></th>\n",
       "      <th>Title</th>\n",
       "    </tr>\n",
       "    <tr>\n",
       "      <th>Topic</th>\n",
       "      <th>Sub-Topic</th>\n",
       "      <th></th>\n",
       "    </tr>\n",
       "  </thead>\n",
       "  <tbody>\n",
       "    <tr>\n",
       "      <td rowspan=\"2\" valign=\"top\">Machine Learning</td>\n",
       "      <td>DL</td>\n",
       "      <td>Deep Learning</td>\n",
       "    </tr>\n",
       "    <tr>\n",
       "      <td>RL</td>\n",
       "      <td>Reinforcement Learning - An Introduction</td>\n",
       "    </tr>\n",
       "    <tr>\n",
       "      <td>Maths</td>\n",
       "      <td>LA</td>\n",
       "      <td>Introduction to Linear Algebra</td>\n",
       "    </tr>\n",
       "  </tbody>\n",
       "</table>\n",
       "</div>"
      ],
      "text/plain": [
       "                                                               Title\n",
       "Topic            Sub-Topic                                          \n",
       "Machine Learning DL                                    Deep Learning\n",
       "                 RL         Reinforcement Learning - An Introduction\n",
       "Maths            LA                   Introduction to Linear Algebra"
      ]
     },
     "execution_count": 80,
     "metadata": {},
     "output_type": "execute_result"
    }
   ],
   "source": [
    "df_books.loc [(['Machine Learning', 'Maths'],\\\n",
    "               ['LA', 'DL', 'RL']), ['Title']]"
   ]
  },
  {
   "cell_type": "markdown",
   "metadata": {},
   "source": [
    "#### df.loc [(index1, index2)<font color = magenta><b>, col_name</b></font>] - returns rows belonging to the label, and their <font color = magenta><b>single column</b></font>"
   ]
  },
  {
   "cell_type": "markdown",
   "metadata": {},
   "source": [
    "returns a <font color = magenta><b>series</b></font>"
   ]
  },
  {
   "cell_type": "code",
   "execution_count": 81,
   "metadata": {},
   "outputs": [
    {
     "data": {
      "text/plain": [
       "Topic             Sub-Topic\n",
       "Machine Learning  ML           ML Beginner\n",
       "                  ML           ML Advanced\n",
       "Name: Title, dtype: object"
      ]
     },
     "execution_count": 81,
     "metadata": {},
     "output_type": "execute_result"
    }
   ],
   "source": [
    "df_books.loc [('Machine Learning', 'ML'), 'Title']"
   ]
  },
  {
   "cell_type": "markdown",
   "metadata": {},
   "source": [
    "#### df.loc [(index1, index2), <font color = magenta><b>[</b></font>col_name<font color = magenta><b>]</b></font> - returns rows belonging to the label, and their <font color = magenta><b>one or more columns</b></font>"
   ]
  },
  {
   "cell_type": "markdown",
   "metadata": {},
   "source": [
    "returns a <font color = magenta><b>data frame</b></font>"
   ]
  },
  {
   "cell_type": "code",
   "execution_count": 82,
   "metadata": {},
   "outputs": [
    {
     "data": {
      "text/html": [
       "<div>\n",
       "<style scoped>\n",
       "    .dataframe tbody tr th:only-of-type {\n",
       "        vertical-align: middle;\n",
       "    }\n",
       "\n",
       "    .dataframe tbody tr th {\n",
       "        vertical-align: top;\n",
       "    }\n",
       "\n",
       "    .dataframe thead th {\n",
       "        text-align: right;\n",
       "    }\n",
       "</style>\n",
       "<table border=\"1\" class=\"dataframe\">\n",
       "  <thead>\n",
       "    <tr style=\"text-align: right;\">\n",
       "      <th></th>\n",
       "      <th></th>\n",
       "      <th>Title</th>\n",
       "    </tr>\n",
       "    <tr>\n",
       "      <th>Topic</th>\n",
       "      <th>Sub-Topic</th>\n",
       "      <th></th>\n",
       "    </tr>\n",
       "  </thead>\n",
       "  <tbody>\n",
       "    <tr>\n",
       "      <td rowspan=\"2\" valign=\"top\">Machine Learning</td>\n",
       "      <td>ML</td>\n",
       "      <td>ML Beginner</td>\n",
       "    </tr>\n",
       "    <tr>\n",
       "      <td>ML</td>\n",
       "      <td>ML Advanced</td>\n",
       "    </tr>\n",
       "  </tbody>\n",
       "</table>\n",
       "</div>"
      ],
      "text/plain": [
       "                                  Title\n",
       "Topic            Sub-Topic             \n",
       "Machine Learning ML         ML Beginner\n",
       "                 ML         ML Advanced"
      ]
     },
     "execution_count": 82,
     "metadata": {},
     "output_type": "execute_result"
    }
   ],
   "source": [
    "df_books.loc [('Machine Learning', 'ML'), ['Title']]"
   ]
  },
  {
   "cell_type": "markdown",
   "metadata": {},
   "source": [
    "#### df.loc [(index1, index2), <font color = magenta><b>[cols]</b></font>] - returns rows belonging to the label, and their <font color = magenta><b>one or more columns</b></font>"
   ]
  },
  {
   "cell_type": "code",
   "execution_count": 83,
   "metadata": {},
   "outputs": [
    {
     "data": {
      "text/html": [
       "<div>\n",
       "<style scoped>\n",
       "    .dataframe tbody tr th:only-of-type {\n",
       "        vertical-align: middle;\n",
       "    }\n",
       "\n",
       "    .dataframe tbody tr th {\n",
       "        vertical-align: top;\n",
       "    }\n",
       "\n",
       "    .dataframe thead th {\n",
       "        text-align: right;\n",
       "    }\n",
       "</style>\n",
       "<table border=\"1\" class=\"dataframe\">\n",
       "  <thead>\n",
       "    <tr style=\"text-align: right;\">\n",
       "      <th></th>\n",
       "      <th></th>\n",
       "      <th>Title</th>\n",
       "      <th>Edition</th>\n",
       "    </tr>\n",
       "    <tr>\n",
       "      <th>Topic</th>\n",
       "      <th>Sub-Topic</th>\n",
       "      <th></th>\n",
       "      <th></th>\n",
       "    </tr>\n",
       "  </thead>\n",
       "  <tbody>\n",
       "    <tr>\n",
       "      <td rowspan=\"2\" valign=\"top\">Machine Learning</td>\n",
       "      <td>ML</td>\n",
       "      <td>ML Beginner</td>\n",
       "      <td>2.0</td>\n",
       "    </tr>\n",
       "    <tr>\n",
       "      <td>ML</td>\n",
       "      <td>ML Advanced</td>\n",
       "      <td>NaN</td>\n",
       "    </tr>\n",
       "  </tbody>\n",
       "</table>\n",
       "</div>"
      ],
      "text/plain": [
       "                                  Title  Edition\n",
       "Topic            Sub-Topic                      \n",
       "Machine Learning ML         ML Beginner      2.0\n",
       "                 ML         ML Advanced      NaN"
      ]
     },
     "execution_count": 83,
     "metadata": {},
     "output_type": "execute_result"
    }
   ],
   "source": [
    "df_books.loc [('Machine Learning', 'ML'), ['Title', 'Edition']]"
   ]
  },
  {
   "cell_type": "markdown",
   "metadata": {},
   "source": [
    "#### df.loc [<font color = magenta><b>filter</b></font>] - returns rows <font color = magenta><b>satisfying the filter</b></font>"
   ]
  },
  {
   "cell_type": "code",
   "execution_count": 84,
   "metadata": {},
   "outputs": [
    {
     "data": {
      "text/html": [
       "<div>\n",
       "<style scoped>\n",
       "    .dataframe tbody tr th:only-of-type {\n",
       "        vertical-align: middle;\n",
       "    }\n",
       "\n",
       "    .dataframe tbody tr th {\n",
       "        vertical-align: top;\n",
       "    }\n",
       "\n",
       "    .dataframe thead th {\n",
       "        text-align: right;\n",
       "    }\n",
       "</style>\n",
       "<table border=\"1\" class=\"dataframe\">\n",
       "  <thead>\n",
       "    <tr style=\"text-align: right;\">\n",
       "      <th></th>\n",
       "      <th></th>\n",
       "      <th>Author</th>\n",
       "      <th>Title</th>\n",
       "      <th>Edition</th>\n",
       "    </tr>\n",
       "    <tr>\n",
       "      <th>Topic</th>\n",
       "      <th>Sub-Topic</th>\n",
       "      <th></th>\n",
       "      <th></th>\n",
       "      <th></th>\n",
       "    </tr>\n",
       "  </thead>\n",
       "  <tbody>\n",
       "    <tr>\n",
       "      <td>Machine Learning</td>\n",
       "      <td>RL</td>\n",
       "      <td>Sutton</td>\n",
       "      <td>Reinforcement Learning - An Introduction</td>\n",
       "      <td>2.0</td>\n",
       "    </tr>\n",
       "  </tbody>\n",
       "</table>\n",
       "</div>"
      ],
      "text/plain": [
       "                            Author                                     Title  \\\n",
       "Topic            Sub-Topic                                                     \n",
       "Machine Learning RL         Sutton  Reinforcement Learning - An Introduction   \n",
       "\n",
       "                            Edition  \n",
       "Topic            Sub-Topic           \n",
       "Machine Learning RL             2.0  "
      ]
     },
     "execution_count": 84,
     "metadata": {},
     "output_type": "execute_result"
    }
   ],
   "source": [
    "filter = df_books ['Author'] == 'Sutton'\n",
    "df_books.loc [filter]"
   ]
  },
  {
   "cell_type": "markdown",
   "metadata": {},
   "source": [
    "NOTE:\n",
    "- <font color = magenta><b>df [filter]</b></font> and <font color = magenta><b>df.loc [filter]</b></font> both return the <font color = red><b>same result</b></font>.\n",
    "- But, **df.loc** provides <font color = magenta><b>selection of columns</b></font>"
   ]
  },
  {
   "cell_type": "code",
   "execution_count": 85,
   "metadata": {},
   "outputs": [
    {
     "data": {
      "text/html": [
       "<div>\n",
       "<style scoped>\n",
       "    .dataframe tbody tr th:only-of-type {\n",
       "        vertical-align: middle;\n",
       "    }\n",
       "\n",
       "    .dataframe tbody tr th {\n",
       "        vertical-align: top;\n",
       "    }\n",
       "\n",
       "    .dataframe thead th {\n",
       "        text-align: right;\n",
       "    }\n",
       "</style>\n",
       "<table border=\"1\" class=\"dataframe\">\n",
       "  <thead>\n",
       "    <tr style=\"text-align: right;\">\n",
       "      <th></th>\n",
       "      <th></th>\n",
       "      <th>Author</th>\n",
       "      <th>Title</th>\n",
       "      <th>Edition</th>\n",
       "    </tr>\n",
       "    <tr>\n",
       "      <th>Topic</th>\n",
       "      <th>Sub-Topic</th>\n",
       "      <th></th>\n",
       "      <th></th>\n",
       "      <th></th>\n",
       "    </tr>\n",
       "  </thead>\n",
       "  <tbody>\n",
       "    <tr>\n",
       "      <td>Machine Learning</td>\n",
       "      <td>RL</td>\n",
       "      <td>Sutton</td>\n",
       "      <td>Reinforcement Learning - An Introduction</td>\n",
       "      <td>2.0</td>\n",
       "    </tr>\n",
       "  </tbody>\n",
       "</table>\n",
       "</div>"
      ],
      "text/plain": [
       "                            Author                                     Title  \\\n",
       "Topic            Sub-Topic                                                     \n",
       "Machine Learning RL         Sutton  Reinforcement Learning - An Introduction   \n",
       "\n",
       "                            Edition  \n",
       "Topic            Sub-Topic           \n",
       "Machine Learning RL             2.0  "
      ]
     },
     "execution_count": 85,
     "metadata": {},
     "output_type": "execute_result"
    }
   ],
   "source": [
    "df_books [filter]"
   ]
  },
  {
   "cell_type": "code",
   "execution_count": 86,
   "metadata": {},
   "outputs": [
    {
     "data": {
      "text/html": [
       "<div>\n",
       "<style scoped>\n",
       "    .dataframe tbody tr th:only-of-type {\n",
       "        vertical-align: middle;\n",
       "    }\n",
       "\n",
       "    .dataframe tbody tr th {\n",
       "        vertical-align: top;\n",
       "    }\n",
       "\n",
       "    .dataframe thead th {\n",
       "        text-align: right;\n",
       "    }\n",
       "</style>\n",
       "<table border=\"1\" class=\"dataframe\">\n",
       "  <thead>\n",
       "    <tr style=\"text-align: right;\">\n",
       "      <th></th>\n",
       "      <th></th>\n",
       "      <th>Edition</th>\n",
       "      <th>Author</th>\n",
       "    </tr>\n",
       "    <tr>\n",
       "      <th>Topic</th>\n",
       "      <th>Sub-Topic</th>\n",
       "      <th></th>\n",
       "      <th></th>\n",
       "    </tr>\n",
       "  </thead>\n",
       "  <tbody>\n",
       "    <tr>\n",
       "      <td>Machine Learning</td>\n",
       "      <td>RL</td>\n",
       "      <td>2.0</td>\n",
       "      <td>Sutton</td>\n",
       "    </tr>\n",
       "  </tbody>\n",
       "</table>\n",
       "</div>"
      ],
      "text/plain": [
       "                            Edition  Author\n",
       "Topic            Sub-Topic                 \n",
       "Machine Learning RL             2.0  Sutton"
      ]
     },
     "execution_count": 86,
     "metadata": {},
     "output_type": "execute_result"
    }
   ],
   "source": [
    "df_books.loc [filter, ['Edition', 'Author']]"
   ]
  },
  {
   "cell_type": "markdown",
   "metadata": {},
   "source": [
    "#### df.loc [<font color = magenta><b>series</b></font>] - return rows based on a <font color = magenta><b>series</b></font>"
   ]
  },
  {
   "cell_type": "markdown",
   "metadata": {},
   "source": [
    "Create a series by applying a <font color = magenta><b>lambda on a column</b></font>"
   ]
  },
  {
   "cell_type": "code",
   "execution_count": 87,
   "metadata": {},
   "outputs": [
    {
     "data": {
      "text/html": [
       "<div>\n",
       "<style scoped>\n",
       "    .dataframe tbody tr th:only-of-type {\n",
       "        vertical-align: middle;\n",
       "    }\n",
       "\n",
       "    .dataframe tbody tr th {\n",
       "        vertical-align: top;\n",
       "    }\n",
       "\n",
       "    .dataframe thead th {\n",
       "        text-align: right;\n",
       "    }\n",
       "</style>\n",
       "<table border=\"1\" class=\"dataframe\">\n",
       "  <thead>\n",
       "    <tr style=\"text-align: right;\">\n",
       "      <th></th>\n",
       "      <th></th>\n",
       "      <th>Edition</th>\n",
       "      <th>Title</th>\n",
       "    </tr>\n",
       "    <tr>\n",
       "      <th>Topic</th>\n",
       "      <th>Sub-Topic</th>\n",
       "      <th></th>\n",
       "      <th></th>\n",
       "    </tr>\n",
       "  </thead>\n",
       "  <tbody>\n",
       "    <tr>\n",
       "      <td>Machine Learning</td>\n",
       "      <td>DL</td>\n",
       "      <td>1.0</td>\n",
       "      <td>Deep Learning</td>\n",
       "    </tr>\n",
       "  </tbody>\n",
       "</table>\n",
       "</div>"
      ],
      "text/plain": [
       "                            Edition          Title\n",
       "Topic            Sub-Topic                        \n",
       "Machine Learning DL             1.0  Deep Learning"
      ]
     },
     "execution_count": 87,
     "metadata": {},
     "output_type": "execute_result"
    }
   ],
   "source": [
    "s_title_learning = df_books ['Title'\\\n",
    "                            ].apply (lambda x: x.endswith ('Learning'))\n",
    "df_books.loc [s_title_learning, ['Edition', 'Title']]"
   ]
  },
  {
   "cell_type": "markdown",
   "metadata": {},
   "source": [
    "### using <font color = magenta><b>.iloc</b></font> - integer-location-based location"
   ]
  },
  {
   "cell_type": "markdown",
   "metadata": {},
   "source": [
    "df.iloc [row_range, col_range]"
   ]
  },
  {
   "cell_type": "markdown",
   "metadata": {},
   "source": [
    "NOTE: For both the parameters of .iloc (), <font color = magenta><b>we pass location indices</b></font>. Hence, .iloc is integer-location-based."
   ]
  },
  {
   "cell_type": "markdown",
   "metadata": {},
   "source": [
    "NOTE:\n",
    "- a **single** row or column is returned as a <font color = magenta><b>series</b></font>\n",
    "> have returned a dataframe by <font color = magenta>enclosing the index inside a <b>[]</b></font>\n",
    "- **multiple** rows or columns are returned as a <font color = magenta><b>dataframe</b></font>"
   ]
  },
  {
   "cell_type": "markdown",
   "metadata": {},
   "source": [
    "#### df.iloc [<font color = magenta><b>int_location</b></font>] returns a row as <font color = magenta><b>series</b></font>"
   ]
  },
  {
   "cell_type": "code",
   "execution_count": 88,
   "metadata": {},
   "outputs": [
    {
     "data": {
      "text/plain": [
       "Author            Bengio\n",
       "Title      Deep Learning\n",
       "Edition                1\n",
       "Name: (Machine Learning, DL), dtype: object"
      ]
     },
     "execution_count": 88,
     "metadata": {},
     "output_type": "execute_result"
    }
   ],
   "source": [
    "df_books.iloc [0]"
   ]
  },
  {
   "cell_type": "markdown",
   "metadata": {},
   "source": [
    "#### df.iloc [<font color = magenta><b>[int_location]</b></font>] returns a row as <font color = magenta><b>data frame</b></font>"
   ]
  },
  {
   "cell_type": "code",
   "execution_count": 89,
   "metadata": {},
   "outputs": [
    {
     "data": {
      "text/html": [
       "<div>\n",
       "<style scoped>\n",
       "    .dataframe tbody tr th:only-of-type {\n",
       "        vertical-align: middle;\n",
       "    }\n",
       "\n",
       "    .dataframe tbody tr th {\n",
       "        vertical-align: top;\n",
       "    }\n",
       "\n",
       "    .dataframe thead th {\n",
       "        text-align: right;\n",
       "    }\n",
       "</style>\n",
       "<table border=\"1\" class=\"dataframe\">\n",
       "  <thead>\n",
       "    <tr style=\"text-align: right;\">\n",
       "      <th></th>\n",
       "      <th></th>\n",
       "      <th>Author</th>\n",
       "      <th>Title</th>\n",
       "      <th>Edition</th>\n",
       "    </tr>\n",
       "    <tr>\n",
       "      <th>Topic</th>\n",
       "      <th>Sub-Topic</th>\n",
       "      <th></th>\n",
       "      <th></th>\n",
       "      <th></th>\n",
       "    </tr>\n",
       "  </thead>\n",
       "  <tbody>\n",
       "    <tr>\n",
       "      <td>Machine Learning</td>\n",
       "      <td>DL</td>\n",
       "      <td>Bengio</td>\n",
       "      <td>Deep Learning</td>\n",
       "      <td>1.0</td>\n",
       "    </tr>\n",
       "  </tbody>\n",
       "</table>\n",
       "</div>"
      ],
      "text/plain": [
       "                            Author          Title  Edition\n",
       "Topic            Sub-Topic                                \n",
       "Machine Learning DL         Bengio  Deep Learning      1.0"
      ]
     },
     "execution_count": 89,
     "metadata": {},
     "output_type": "execute_result"
    }
   ],
   "source": [
    "df_books.iloc [[0]]"
   ]
  },
  {
   "cell_type": "markdown",
   "metadata": {},
   "source": [
    "#### df.iloc [<font color = magenta><b>row_range</b></font>] - returns multiple rows from the range"
   ]
  },
  {
   "cell_type": "code",
   "execution_count": 90,
   "metadata": {},
   "outputs": [
    {
     "data": {
      "text/html": [
       "<div>\n",
       "<style scoped>\n",
       "    .dataframe tbody tr th:only-of-type {\n",
       "        vertical-align: middle;\n",
       "    }\n",
       "\n",
       "    .dataframe tbody tr th {\n",
       "        vertical-align: top;\n",
       "    }\n",
       "\n",
       "    .dataframe thead th {\n",
       "        text-align: right;\n",
       "    }\n",
       "</style>\n",
       "<table border=\"1\" class=\"dataframe\">\n",
       "  <thead>\n",
       "    <tr style=\"text-align: right;\">\n",
       "      <th></th>\n",
       "      <th></th>\n",
       "      <th>Author</th>\n",
       "      <th>Title</th>\n",
       "      <th>Edition</th>\n",
       "    </tr>\n",
       "    <tr>\n",
       "      <th>Topic</th>\n",
       "      <th>Sub-Topic</th>\n",
       "      <th></th>\n",
       "      <th></th>\n",
       "      <th></th>\n",
       "    </tr>\n",
       "  </thead>\n",
       "  <tbody>\n",
       "    <tr>\n",
       "      <td rowspan=\"2\" valign=\"top\">Machine Learning</td>\n",
       "      <td>ML</td>\n",
       "      <td>Bishop</td>\n",
       "      <td>ML Advanced</td>\n",
       "      <td>NaN</td>\n",
       "    </tr>\n",
       "    <tr>\n",
       "      <td>RL</td>\n",
       "      <td>Sutton</td>\n",
       "      <td>Reinforcement Learning - An Introduction</td>\n",
       "      <td>2.0</td>\n",
       "    </tr>\n",
       "    <tr>\n",
       "      <td>Maths</td>\n",
       "      <td>LA</td>\n",
       "      <td>Strang</td>\n",
       "      <td>Introduction to Linear Algebra</td>\n",
       "      <td>1.0</td>\n",
       "    </tr>\n",
       "  </tbody>\n",
       "</table>\n",
       "</div>"
      ],
      "text/plain": [
       "                            Author                                     Title  \\\n",
       "Topic            Sub-Topic                                                     \n",
       "Machine Learning ML         Bishop                               ML Advanced   \n",
       "                 RL         Sutton  Reinforcement Learning - An Introduction   \n",
       "Maths            LA         Strang            Introduction to Linear Algebra   \n",
       "\n",
       "                            Edition  \n",
       "Topic            Sub-Topic           \n",
       "Machine Learning ML             NaN  \n",
       "                 RL             2.0  \n",
       "Maths            LA             1.0  "
      ]
     },
     "execution_count": 90,
     "metadata": {},
     "output_type": "execute_result"
    }
   ],
   "source": [
    "df_books.iloc [2:5]"
   ]
  },
  {
   "cell_type": "markdown",
   "metadata": {},
   "source": [
    "#### df.iloc [row_range<font color = magenta><b>, col_range</b></font>] - returns multiple rows and columns from the range"
   ]
  },
  {
   "cell_type": "code",
   "execution_count": 91,
   "metadata": {},
   "outputs": [
    {
     "data": {
      "text/html": [
       "<div>\n",
       "<style scoped>\n",
       "    .dataframe tbody tr th:only-of-type {\n",
       "        vertical-align: middle;\n",
       "    }\n",
       "\n",
       "    .dataframe tbody tr th {\n",
       "        vertical-align: top;\n",
       "    }\n",
       "\n",
       "    .dataframe thead th {\n",
       "        text-align: right;\n",
       "    }\n",
       "</style>\n",
       "<table border=\"1\" class=\"dataframe\">\n",
       "  <thead>\n",
       "    <tr style=\"text-align: right;\">\n",
       "      <th></th>\n",
       "      <th></th>\n",
       "      <th>Title</th>\n",
       "      <th>Edition</th>\n",
       "    </tr>\n",
       "    <tr>\n",
       "      <th>Topic</th>\n",
       "      <th>Sub-Topic</th>\n",
       "      <th></th>\n",
       "      <th></th>\n",
       "    </tr>\n",
       "  </thead>\n",
       "  <tbody>\n",
       "    <tr>\n",
       "      <td rowspan=\"2\" valign=\"top\">Machine Learning</td>\n",
       "      <td>ML</td>\n",
       "      <td>ML Advanced</td>\n",
       "      <td>NaN</td>\n",
       "    </tr>\n",
       "    <tr>\n",
       "      <td>RL</td>\n",
       "      <td>Reinforcement Learning - An Introduction</td>\n",
       "      <td>2.0</td>\n",
       "    </tr>\n",
       "    <tr>\n",
       "      <td>Maths</td>\n",
       "      <td>LA</td>\n",
       "      <td>Introduction to Linear Algebra</td>\n",
       "      <td>1.0</td>\n",
       "    </tr>\n",
       "  </tbody>\n",
       "</table>\n",
       "</div>"
      ],
      "text/plain": [
       "                                                               Title  Edition\n",
       "Topic            Sub-Topic                                                   \n",
       "Machine Learning ML                                      ML Advanced      NaN\n",
       "                 RL         Reinforcement Learning - An Introduction      2.0\n",
       "Maths            LA                   Introduction to Linear Algebra      1.0"
      ]
     },
     "execution_count": 91,
     "metadata": {},
     "output_type": "execute_result"
    }
   ],
   "source": [
    "df_books.iloc [2:5, 1:3]"
   ]
  },
  {
   "cell_type": "markdown",
   "metadata": {},
   "source": [
    "#### df.iloc [row_range<font color = magenta><b>, [-1]</b></font>] - returns multiple rows from the range, and the <font color = magenta><b>last column</b></font>"
   ]
  },
  {
   "cell_type": "code",
   "execution_count": 92,
   "metadata": {},
   "outputs": [
    {
     "data": {
      "text/html": [
       "<div>\n",
       "<style scoped>\n",
       "    .dataframe tbody tr th:only-of-type {\n",
       "        vertical-align: middle;\n",
       "    }\n",
       "\n",
       "    .dataframe tbody tr th {\n",
       "        vertical-align: top;\n",
       "    }\n",
       "\n",
       "    .dataframe thead th {\n",
       "        text-align: right;\n",
       "    }\n",
       "</style>\n",
       "<table border=\"1\" class=\"dataframe\">\n",
       "  <thead>\n",
       "    <tr style=\"text-align: right;\">\n",
       "      <th></th>\n",
       "      <th></th>\n",
       "      <th>Edition</th>\n",
       "    </tr>\n",
       "    <tr>\n",
       "      <th>Topic</th>\n",
       "      <th>Sub-Topic</th>\n",
       "      <th></th>\n",
       "    </tr>\n",
       "  </thead>\n",
       "  <tbody>\n",
       "    <tr>\n",
       "      <td rowspan=\"2\" valign=\"top\">Machine Learning</td>\n",
       "      <td>ML</td>\n",
       "      <td>NaN</td>\n",
       "    </tr>\n",
       "    <tr>\n",
       "      <td>RL</td>\n",
       "      <td>2.0</td>\n",
       "    </tr>\n",
       "    <tr>\n",
       "      <td>Maths</td>\n",
       "      <td>LA</td>\n",
       "      <td>1.0</td>\n",
       "    </tr>\n",
       "  </tbody>\n",
       "</table>\n",
       "</div>"
      ],
      "text/plain": [
       "                            Edition\n",
       "Topic            Sub-Topic         \n",
       "Machine Learning ML             NaN\n",
       "                 RL             2.0\n",
       "Maths            LA             1.0"
      ]
     },
     "execution_count": 92,
     "metadata": {},
     "output_type": "execute_result"
    }
   ],
   "source": [
    "df_books.iloc [2:5, [-1]]"
   ]
  },
  {
   "cell_type": "markdown",
   "metadata": {},
   "source": [
    "#### get the <font color = magenta><b>first row</b></font>"
   ]
  },
  {
   "cell_type": "code",
   "execution_count": 93,
   "metadata": {},
   "outputs": [
    {
     "data": {
      "text/html": [
       "<div>\n",
       "<style scoped>\n",
       "    .dataframe tbody tr th:only-of-type {\n",
       "        vertical-align: middle;\n",
       "    }\n",
       "\n",
       "    .dataframe tbody tr th {\n",
       "        vertical-align: top;\n",
       "    }\n",
       "\n",
       "    .dataframe thead th {\n",
       "        text-align: right;\n",
       "    }\n",
       "</style>\n",
       "<table border=\"1\" class=\"dataframe\">\n",
       "  <thead>\n",
       "    <tr style=\"text-align: right;\">\n",
       "      <th></th>\n",
       "      <th></th>\n",
       "      <th>Author</th>\n",
       "      <th>Title</th>\n",
       "      <th>Edition</th>\n",
       "    </tr>\n",
       "    <tr>\n",
       "      <th>Topic</th>\n",
       "      <th>Sub-Topic</th>\n",
       "      <th></th>\n",
       "      <th></th>\n",
       "      <th></th>\n",
       "    </tr>\n",
       "  </thead>\n",
       "  <tbody>\n",
       "    <tr>\n",
       "      <td>Machine Learning</td>\n",
       "      <td>DL</td>\n",
       "      <td>Bengio</td>\n",
       "      <td>Deep Learning</td>\n",
       "      <td>1.0</td>\n",
       "    </tr>\n",
       "  </tbody>\n",
       "</table>\n",
       "</div>"
      ],
      "text/plain": [
       "                            Author          Title  Edition\n",
       "Topic            Sub-Topic                                \n",
       "Machine Learning DL         Bengio  Deep Learning      1.0"
      ]
     },
     "execution_count": 93,
     "metadata": {},
     "output_type": "execute_result"
    }
   ],
   "source": [
    "df_books.iloc [[0]]"
   ]
  },
  {
   "cell_type": "markdown",
   "metadata": {},
   "source": [
    "#### get the <font color = magenta><b>last row</b></font>"
   ]
  },
  {
   "cell_type": "code",
   "execution_count": 94,
   "metadata": {},
   "outputs": [
    {
     "data": {
      "text/html": [
       "<div>\n",
       "<style scoped>\n",
       "    .dataframe tbody tr th:only-of-type {\n",
       "        vertical-align: middle;\n",
       "    }\n",
       "\n",
       "    .dataframe tbody tr th {\n",
       "        vertical-align: top;\n",
       "    }\n",
       "\n",
       "    .dataframe thead th {\n",
       "        text-align: right;\n",
       "    }\n",
       "</style>\n",
       "<table border=\"1\" class=\"dataframe\">\n",
       "  <thead>\n",
       "    <tr style=\"text-align: right;\">\n",
       "      <th></th>\n",
       "      <th></th>\n",
       "      <th>Author</th>\n",
       "      <th>Title</th>\n",
       "      <th>Edition</th>\n",
       "    </tr>\n",
       "    <tr>\n",
       "      <th>Topic</th>\n",
       "      <th>Sub-Topic</th>\n",
       "      <th></th>\n",
       "      <th></th>\n",
       "      <th></th>\n",
       "    </tr>\n",
       "  </thead>\n",
       "  <tbody>\n",
       "    <tr>\n",
       "      <td>Maths</td>\n",
       "      <td>Prob</td>\n",
       "      <td>Blitzstein</td>\n",
       "      <td>Introduction to Probability</td>\n",
       "      <td>NaN</td>\n",
       "    </tr>\n",
       "  </tbody>\n",
       "</table>\n",
       "</div>"
      ],
      "text/plain": [
       "                     Author                        Title  Edition\n",
       "Topic Sub-Topic                                                  \n",
       "Maths Prob       Blitzstein  Introduction to Probability      NaN"
      ]
     },
     "execution_count": 94,
     "metadata": {},
     "output_type": "execute_result"
    }
   ],
   "source": [
    "df_books.iloc [[-1]]"
   ]
  },
  {
   "cell_type": "markdown",
   "metadata": {},
   "source": [
    "## <font color = grey><b>9. Update</b></font>"
   ]
  },
  {
   "cell_type": "markdown",
   "metadata": {},
   "source": [
    "### Data Creation"
   ]
  },
  {
   "cell_type": "code",
   "execution_count": 95,
   "metadata": {},
   "outputs": [
    {
     "data": {
      "text/html": [
       "<div>\n",
       "<style scoped>\n",
       "    .dataframe tbody tr th:only-of-type {\n",
       "        vertical-align: middle;\n",
       "    }\n",
       "\n",
       "    .dataframe tbody tr th {\n",
       "        vertical-align: top;\n",
       "    }\n",
       "\n",
       "    .dataframe thead th {\n",
       "        text-align: right;\n",
       "    }\n",
       "</style>\n",
       "<table border=\"1\" class=\"dataframe\">\n",
       "  <thead>\n",
       "    <tr style=\"text-align: right;\">\n",
       "      <th></th>\n",
       "      <th></th>\n",
       "      <th>Author</th>\n",
       "      <th>Title</th>\n",
       "      <th>Edition</th>\n",
       "    </tr>\n",
       "    <tr>\n",
       "      <th>Topic</th>\n",
       "      <th>Sub-Topic</th>\n",
       "      <th></th>\n",
       "      <th></th>\n",
       "      <th></th>\n",
       "    </tr>\n",
       "  </thead>\n",
       "  <tbody>\n",
       "    <tr>\n",
       "      <td rowspan=\"4\" valign=\"top\">Machine Learning</td>\n",
       "      <td>DL</td>\n",
       "      <td>Bengio</td>\n",
       "      <td>Deep Learning</td>\n",
       "      <td>1.0</td>\n",
       "    </tr>\n",
       "    <tr>\n",
       "      <td>ML</td>\n",
       "      <td>Witten</td>\n",
       "      <td>ML Beginner</td>\n",
       "      <td>2.0</td>\n",
       "    </tr>\n",
       "    <tr>\n",
       "      <td>ML</td>\n",
       "      <td>Bishop</td>\n",
       "      <td>ML Advanced</td>\n",
       "      <td>NaN</td>\n",
       "    </tr>\n",
       "    <tr>\n",
       "      <td>RL</td>\n",
       "      <td>Sutton</td>\n",
       "      <td>Reinforcement Learning - An Introduction</td>\n",
       "      <td>2.0</td>\n",
       "    </tr>\n",
       "    <tr>\n",
       "      <td rowspan=\"2\" valign=\"top\">Maths</td>\n",
       "      <td>LA</td>\n",
       "      <td>Strang</td>\n",
       "      <td>Introduction to Linear Algebra</td>\n",
       "      <td>1.0</td>\n",
       "    </tr>\n",
       "    <tr>\n",
       "      <td>Prob</td>\n",
       "      <td>Blitzstein</td>\n",
       "      <td>Introduction to Probability</td>\n",
       "      <td>NaN</td>\n",
       "    </tr>\n",
       "  </tbody>\n",
       "</table>\n",
       "</div>"
      ],
      "text/plain": [
       "                                Author  \\\n",
       "Topic            Sub-Topic               \n",
       "Machine Learning DL             Bengio   \n",
       "                 ML             Witten   \n",
       "                 ML             Bishop   \n",
       "                 RL             Sutton   \n",
       "Maths            LA             Strang   \n",
       "                 Prob       Blitzstein   \n",
       "\n",
       "                                                               Title  Edition  \n",
       "Topic            Sub-Topic                                                     \n",
       "Machine Learning DL                                    Deep Learning      1.0  \n",
       "                 ML                                      ML Beginner      2.0  \n",
       "                 ML                                      ML Advanced      NaN  \n",
       "                 RL         Reinforcement Learning - An Introduction      2.0  \n",
       "Maths            LA                   Introduction to Linear Algebra      1.0  \n",
       "                 Prob                    Introduction to Probability      NaN  "
      ]
     },
     "execution_count": 95,
     "metadata": {},
     "output_type": "execute_result"
    }
   ],
   "source": [
    "frame = {'Author': s_author, 'Title': s_title,\\\n",
    "         'Edition': s_edition}\n",
    "df_books = pd.DataFrame (frame)\n",
    "mux = pd.MultiIndex.from_arrays ([topic, sub_topic],\\\n",
    "                                 names = ['Topic', 'Sub-Topic'])\n",
    "df_books = df_books.set_index (mux)\n",
    "#to prevent\n",
    "#\"PerformanceWarning: indexing past lexsort depth may impact performance.\"\n",
    "df_books.sort_index (inplace = True)\n",
    "df_books"
   ]
  },
  {
   "cell_type": "markdown",
   "metadata": {},
   "source": [
    "#### Add a 'cost column"
   ]
  },
  {
   "cell_type": "markdown",
   "metadata": {},
   "source": [
    "NOTE:\n",
    "- A series can be added externally only if the <font color = magenta><b>index</b></font> of the series <font color = magenta><b>matches</b></font> that of the data frame\n",
    "- This can be achieved by pd.Series (lst, <font color = magenta><b>index = </b></font>)"
   ]
  },
  {
   "cell_type": "code",
   "execution_count": 96,
   "metadata": {},
   "outputs": [
    {
     "data": {
      "text/html": [
       "<div>\n",
       "<style scoped>\n",
       "    .dataframe tbody tr th:only-of-type {\n",
       "        vertical-align: middle;\n",
       "    }\n",
       "\n",
       "    .dataframe tbody tr th {\n",
       "        vertical-align: top;\n",
       "    }\n",
       "\n",
       "    .dataframe thead th {\n",
       "        text-align: right;\n",
       "    }\n",
       "</style>\n",
       "<table border=\"1\" class=\"dataframe\">\n",
       "  <thead>\n",
       "    <tr style=\"text-align: right;\">\n",
       "      <th></th>\n",
       "      <th></th>\n",
       "      <th>Author</th>\n",
       "      <th>Title</th>\n",
       "      <th>Edition</th>\n",
       "      <th>Cost</th>\n",
       "    </tr>\n",
       "    <tr>\n",
       "      <th>Topic</th>\n",
       "      <th>Sub-Topic</th>\n",
       "      <th></th>\n",
       "      <th></th>\n",
       "      <th></th>\n",
       "      <th></th>\n",
       "    </tr>\n",
       "  </thead>\n",
       "  <tbody>\n",
       "    <tr>\n",
       "      <td rowspan=\"4\" valign=\"top\">Machine Learning</td>\n",
       "      <td>DL</td>\n",
       "      <td>Bengio</td>\n",
       "      <td>Deep Learning</td>\n",
       "      <td>1.0</td>\n",
       "      <td>30.0</td>\n",
       "    </tr>\n",
       "    <tr>\n",
       "      <td>ML</td>\n",
       "      <td>Witten</td>\n",
       "      <td>ML Beginner</td>\n",
       "      <td>2.0</td>\n",
       "      <td>NaN</td>\n",
       "    </tr>\n",
       "    <tr>\n",
       "      <td>ML</td>\n",
       "      <td>Bishop</td>\n",
       "      <td>ML Advanced</td>\n",
       "      <td>NaN</td>\n",
       "      <td>40.0</td>\n",
       "    </tr>\n",
       "    <tr>\n",
       "      <td>RL</td>\n",
       "      <td>Sutton</td>\n",
       "      <td>Reinforcement Learning - An Introduction</td>\n",
       "      <td>2.0</td>\n",
       "      <td>25.0</td>\n",
       "    </tr>\n",
       "    <tr>\n",
       "      <td rowspan=\"2\" valign=\"top\">Maths</td>\n",
       "      <td>LA</td>\n",
       "      <td>Strang</td>\n",
       "      <td>Introduction to Linear Algebra</td>\n",
       "      <td>1.0</td>\n",
       "      <td>NaN</td>\n",
       "    </tr>\n",
       "    <tr>\n",
       "      <td>Prob</td>\n",
       "      <td>Blitzstein</td>\n",
       "      <td>Introduction to Probability</td>\n",
       "      <td>NaN</td>\n",
       "      <td>20.0</td>\n",
       "    </tr>\n",
       "  </tbody>\n",
       "</table>\n",
       "</div>"
      ],
      "text/plain": [
       "                                Author  \\\n",
       "Topic            Sub-Topic               \n",
       "Machine Learning DL             Bengio   \n",
       "                 ML             Witten   \n",
       "                 ML             Bishop   \n",
       "                 RL             Sutton   \n",
       "Maths            LA             Strang   \n",
       "                 Prob       Blitzstein   \n",
       "\n",
       "                                                               Title  Edition  \\\n",
       "Topic            Sub-Topic                                                      \n",
       "Machine Learning DL                                    Deep Learning      1.0   \n",
       "                 ML                                      ML Beginner      2.0   \n",
       "                 ML                                      ML Advanced      NaN   \n",
       "                 RL         Reinforcement Learning - An Introduction      2.0   \n",
       "Maths            LA                   Introduction to Linear Algebra      1.0   \n",
       "                 Prob                    Introduction to Probability      NaN   \n",
       "\n",
       "                            Cost  \n",
       "Topic            Sub-Topic        \n",
       "Machine Learning DL         30.0  \n",
       "                 ML          NaN  \n",
       "                 ML         40.0  \n",
       "                 RL         25.0  \n",
       "Maths            LA          NaN  \n",
       "                 Prob       20.0  "
      ]
     },
     "execution_count": 96,
     "metadata": {},
     "output_type": "execute_result"
    }
   ],
   "source": [
    "cost_indexed = [30, np.NaN, 40, 25, np.NaN, 20]\n",
    "df_books ['Cost'] = pd.Series (cost_indexed, index = df_books.index)\n",
    "df_books"
   ]
  },
  {
   "cell_type": "markdown",
   "metadata": {},
   "source": [
    "### Using <font color = magenta><b>.loc</b></font>"
   ]
  },
  {
   "cell_type": "code",
   "execution_count": 97,
   "metadata": {},
   "outputs": [
    {
     "data": {
      "text/html": [
       "<div>\n",
       "<style scoped>\n",
       "    .dataframe tbody tr th:only-of-type {\n",
       "        vertical-align: middle;\n",
       "    }\n",
       "\n",
       "    .dataframe tbody tr th {\n",
       "        vertical-align: top;\n",
       "    }\n",
       "\n",
       "    .dataframe thead th {\n",
       "        text-align: right;\n",
       "    }\n",
       "</style>\n",
       "<table border=\"1\" class=\"dataframe\">\n",
       "  <thead>\n",
       "    <tr style=\"text-align: right;\">\n",
       "      <th></th>\n",
       "      <th></th>\n",
       "      <th>Author</th>\n",
       "      <th>Title</th>\n",
       "      <th>Edition</th>\n",
       "      <th>Cost</th>\n",
       "    </tr>\n",
       "    <tr>\n",
       "      <th>Topic</th>\n",
       "      <th>Sub-Topic</th>\n",
       "      <th></th>\n",
       "      <th></th>\n",
       "      <th></th>\n",
       "      <th></th>\n",
       "    </tr>\n",
       "  </thead>\n",
       "  <tbody>\n",
       "    <tr>\n",
       "      <td rowspan=\"4\" valign=\"top\">Machine Learning</td>\n",
       "      <td>DL</td>\n",
       "      <td>Bengio</td>\n",
       "      <td>Deep Reinforcement Learning</td>\n",
       "      <td>1.0</td>\n",
       "      <td>30.0</td>\n",
       "    </tr>\n",
       "    <tr>\n",
       "      <td>ML</td>\n",
       "      <td>Witten</td>\n",
       "      <td>ML Beginner</td>\n",
       "      <td>2.0</td>\n",
       "      <td>NaN</td>\n",
       "    </tr>\n",
       "    <tr>\n",
       "      <td>ML</td>\n",
       "      <td>Bishop</td>\n",
       "      <td>ML Advanced</td>\n",
       "      <td>NaN</td>\n",
       "      <td>40.0</td>\n",
       "    </tr>\n",
       "    <tr>\n",
       "      <td>RL</td>\n",
       "      <td>Sutton</td>\n",
       "      <td>Reinforcement Learning - An Introduction</td>\n",
       "      <td>2.0</td>\n",
       "      <td>25.0</td>\n",
       "    </tr>\n",
       "    <tr>\n",
       "      <td rowspan=\"2\" valign=\"top\">Maths</td>\n",
       "      <td>LA</td>\n",
       "      <td>Strang</td>\n",
       "      <td>Introduction to Linear Algebra</td>\n",
       "      <td>1.0</td>\n",
       "      <td>NaN</td>\n",
       "    </tr>\n",
       "    <tr>\n",
       "      <td>Prob</td>\n",
       "      <td>Blitzstein</td>\n",
       "      <td>Introduction to Probability</td>\n",
       "      <td>NaN</td>\n",
       "      <td>20.0</td>\n",
       "    </tr>\n",
       "  </tbody>\n",
       "</table>\n",
       "</div>"
      ],
      "text/plain": [
       "                                Author  \\\n",
       "Topic            Sub-Topic               \n",
       "Machine Learning DL             Bengio   \n",
       "                 ML             Witten   \n",
       "                 ML             Bishop   \n",
       "                 RL             Sutton   \n",
       "Maths            LA             Strang   \n",
       "                 Prob       Blitzstein   \n",
       "\n",
       "                                                               Title  Edition  \\\n",
       "Topic            Sub-Topic                                                      \n",
       "Machine Learning DL                      Deep Reinforcement Learning      1.0   \n",
       "                 ML                                      ML Beginner      2.0   \n",
       "                 ML                                      ML Advanced      NaN   \n",
       "                 RL         Reinforcement Learning - An Introduction      2.0   \n",
       "Maths            LA                   Introduction to Linear Algebra      1.0   \n",
       "                 Prob                    Introduction to Probability      NaN   \n",
       "\n",
       "                            Cost  \n",
       "Topic            Sub-Topic        \n",
       "Machine Learning DL         30.0  \n",
       "                 ML          NaN  \n",
       "                 ML         40.0  \n",
       "                 RL         25.0  \n",
       "Maths            LA          NaN  \n",
       "                 Prob       20.0  "
      ]
     },
     "execution_count": 97,
     "metadata": {},
     "output_type": "execute_result"
    }
   ],
   "source": [
    "df_books.loc [('Machine Learning', ['DL']), ['Title']]\\\n",
    "= 'Deep Reinforcement Learning'\n",
    "df_books"
   ]
  },
  {
   "cell_type": "markdown",
   "metadata": {},
   "source": [
    "### <font color = magenta><b>fill missing values</b></font>"
   ]
  },
  {
   "cell_type": "markdown",
   "metadata": {},
   "source": [
    "#### fill with a <font color = magenta><b>default</b></font> value"
   ]
  },
  {
   "cell_type": "markdown",
   "metadata": {},
   "source": [
    "Note:\n",
    "- df[col].<font color = magenta><b>fillna ()</b></font> updates a column (not inplace) and returns it as a <font color = magenta><b>series</b></font>. Pandas Philosophy: single row/column returned as series.\n",
    "- The returned series is assigned to a dataframe column in the LHS"
   ]
  },
  {
   "cell_type": "code",
   "execution_count": 98,
   "metadata": {},
   "outputs": [
    {
     "data": {
      "text/html": [
       "<div>\n",
       "<style scoped>\n",
       "    .dataframe tbody tr th:only-of-type {\n",
       "        vertical-align: middle;\n",
       "    }\n",
       "\n",
       "    .dataframe tbody tr th {\n",
       "        vertical-align: top;\n",
       "    }\n",
       "\n",
       "    .dataframe thead th {\n",
       "        text-align: right;\n",
       "    }\n",
       "</style>\n",
       "<table border=\"1\" class=\"dataframe\">\n",
       "  <thead>\n",
       "    <tr style=\"text-align: right;\">\n",
       "      <th></th>\n",
       "      <th></th>\n",
       "      <th>Author</th>\n",
       "      <th>Title</th>\n",
       "      <th>Edition</th>\n",
       "      <th>Cost</th>\n",
       "    </tr>\n",
       "    <tr>\n",
       "      <th>Topic</th>\n",
       "      <th>Sub-Topic</th>\n",
       "      <th></th>\n",
       "      <th></th>\n",
       "      <th></th>\n",
       "      <th></th>\n",
       "    </tr>\n",
       "  </thead>\n",
       "  <tbody>\n",
       "    <tr>\n",
       "      <td rowspan=\"4\" valign=\"top\">Machine Learning</td>\n",
       "      <td>DL</td>\n",
       "      <td>Bengio</td>\n",
       "      <td>Deep Reinforcement Learning</td>\n",
       "      <td>1</td>\n",
       "      <td>30.0</td>\n",
       "    </tr>\n",
       "    <tr>\n",
       "      <td>ML</td>\n",
       "      <td>Witten</td>\n",
       "      <td>ML Beginner</td>\n",
       "      <td>2</td>\n",
       "      <td>NaN</td>\n",
       "    </tr>\n",
       "    <tr>\n",
       "      <td>ML</td>\n",
       "      <td>Bishop</td>\n",
       "      <td>ML Advanced</td>\n",
       "      <td>0.0</td>\n",
       "      <td>40.0</td>\n",
       "    </tr>\n",
       "    <tr>\n",
       "      <td>RL</td>\n",
       "      <td>Sutton</td>\n",
       "      <td>Reinforcement Learning - An Introduction</td>\n",
       "      <td>2</td>\n",
       "      <td>25.0</td>\n",
       "    </tr>\n",
       "    <tr>\n",
       "      <td rowspan=\"2\" valign=\"top\">Maths</td>\n",
       "      <td>LA</td>\n",
       "      <td>Strang</td>\n",
       "      <td>Introduction to Linear Algebra</td>\n",
       "      <td>1</td>\n",
       "      <td>NaN</td>\n",
       "    </tr>\n",
       "    <tr>\n",
       "      <td>Prob</td>\n",
       "      <td>Blitzstein</td>\n",
       "      <td>Introduction to Probability</td>\n",
       "      <td>0.0</td>\n",
       "      <td>20.0</td>\n",
       "    </tr>\n",
       "  </tbody>\n",
       "</table>\n",
       "</div>"
      ],
      "text/plain": [
       "                                Author  \\\n",
       "Topic            Sub-Topic               \n",
       "Machine Learning DL             Bengio   \n",
       "                 ML             Witten   \n",
       "                 ML             Bishop   \n",
       "                 RL             Sutton   \n",
       "Maths            LA             Strang   \n",
       "                 Prob       Blitzstein   \n",
       "\n",
       "                                                               Title Edition  \\\n",
       "Topic            Sub-Topic                                                     \n",
       "Machine Learning DL                      Deep Reinforcement Learning       1   \n",
       "                 ML                                      ML Beginner       2   \n",
       "                 ML                                      ML Advanced     0.0   \n",
       "                 RL         Reinforcement Learning - An Introduction       2   \n",
       "Maths            LA                   Introduction to Linear Algebra       1   \n",
       "                 Prob                    Introduction to Probability     0.0   \n",
       "\n",
       "                            Cost  \n",
       "Topic            Sub-Topic        \n",
       "Machine Learning DL         30.0  \n",
       "                 ML          NaN  \n",
       "                 ML         40.0  \n",
       "                 RL         25.0  \n",
       "Maths            LA          NaN  \n",
       "                 Prob       20.0  "
      ]
     },
     "execution_count": 98,
     "metadata": {},
     "output_type": "execute_result"
    }
   ],
   "source": [
    "df_books ['Edition'] = df_books ['Edition'].fillna ('0.0')\n",
    "df_books"
   ]
  },
  {
   "cell_type": "markdown",
   "metadata": {},
   "source": [
    "#### fill with a <font color = magenta><b>stats</b></font> value"
   ]
  },
  {
   "cell_type": "markdown",
   "metadata": {},
   "source": [
    "> <font color = magenta><b>groupby based on index</b></font> - <font color = magenta><b>level =</b></font> [l1, l2, ..]"
   ]
  },
  {
   "cell_type": "code",
   "execution_count": 99,
   "metadata": {},
   "outputs": [
    {
     "data": {
      "text/plain": [
       "Topic\n",
       "Machine Learning    95.0\n",
       "Maths               20.0\n",
       "Name: Cost, dtype: float64"
      ]
     },
     "execution_count": 99,
     "metadata": {},
     "output_type": "execute_result"
    }
   ],
   "source": [
    "df_books.groupby (level = [0])['Cost'].sum ()"
   ]
  },
  {
   "cell_type": "markdown",
   "metadata": {},
   "source": [
    "> <font color = magenta><b>median value</b></font> of the group"
   ]
  },
  {
   "cell_type": "code",
   "execution_count": 100,
   "metadata": {},
   "outputs": [
    {
     "data": {
      "text/plain": [
       "Topic             Sub-Topic\n",
       "Machine Learning  DL           30.0\n",
       "                  ML           30.0\n",
       "                  ML           30.0\n",
       "                  RL           30.0\n",
       "Maths             LA           20.0\n",
       "                  Prob         20.0\n",
       "Name: Cost, dtype: float64"
      ]
     },
     "execution_count": 100,
     "metadata": {},
     "output_type": "execute_result"
    }
   ],
   "source": [
    "df_books.groupby (level = [0])['Cost'].transform ('median')"
   ]
  },
  {
   "cell_type": "markdown",
   "metadata": {},
   "source": [
    "> missing values filled with median value of the group\n",
    "NOTE:\n",
    "- values updated for '<font color = magenta><b>ML Beginner</b></font>' and '<font color = magenta><b>Introduction to Linear Algebra</b></font>'"
   ]
  },
  {
   "cell_type": "code",
   "execution_count": 101,
   "metadata": {},
   "outputs": [
    {
     "data": {
      "text/html": [
       "<div>\n",
       "<style scoped>\n",
       "    .dataframe tbody tr th:only-of-type {\n",
       "        vertical-align: middle;\n",
       "    }\n",
       "\n",
       "    .dataframe tbody tr th {\n",
       "        vertical-align: top;\n",
       "    }\n",
       "\n",
       "    .dataframe thead th {\n",
       "        text-align: right;\n",
       "    }\n",
       "</style>\n",
       "<table border=\"1\" class=\"dataframe\">\n",
       "  <thead>\n",
       "    <tr style=\"text-align: right;\">\n",
       "      <th></th>\n",
       "      <th></th>\n",
       "      <th>Author</th>\n",
       "      <th>Title</th>\n",
       "      <th>Edition</th>\n",
       "      <th>Cost</th>\n",
       "    </tr>\n",
       "    <tr>\n",
       "      <th>Topic</th>\n",
       "      <th>Sub-Topic</th>\n",
       "      <th></th>\n",
       "      <th></th>\n",
       "      <th></th>\n",
       "      <th></th>\n",
       "    </tr>\n",
       "  </thead>\n",
       "  <tbody>\n",
       "    <tr>\n",
       "      <td rowspan=\"4\" valign=\"top\">Machine Learning</td>\n",
       "      <td>DL</td>\n",
       "      <td>Bengio</td>\n",
       "      <td>Deep Reinforcement Learning</td>\n",
       "      <td>1</td>\n",
       "      <td>30.0</td>\n",
       "    </tr>\n",
       "    <tr>\n",
       "      <td>ML</td>\n",
       "      <td>Witten</td>\n",
       "      <td>ML Beginner</td>\n",
       "      <td>2</td>\n",
       "      <td>30.0</td>\n",
       "    </tr>\n",
       "    <tr>\n",
       "      <td>ML</td>\n",
       "      <td>Bishop</td>\n",
       "      <td>ML Advanced</td>\n",
       "      <td>0.0</td>\n",
       "      <td>40.0</td>\n",
       "    </tr>\n",
       "    <tr>\n",
       "      <td>RL</td>\n",
       "      <td>Sutton</td>\n",
       "      <td>Reinforcement Learning - An Introduction</td>\n",
       "      <td>2</td>\n",
       "      <td>25.0</td>\n",
       "    </tr>\n",
       "    <tr>\n",
       "      <td rowspan=\"2\" valign=\"top\">Maths</td>\n",
       "      <td>LA</td>\n",
       "      <td>Strang</td>\n",
       "      <td>Introduction to Linear Algebra</td>\n",
       "      <td>1</td>\n",
       "      <td>20.0</td>\n",
       "    </tr>\n",
       "    <tr>\n",
       "      <td>Prob</td>\n",
       "      <td>Blitzstein</td>\n",
       "      <td>Introduction to Probability</td>\n",
       "      <td>0.0</td>\n",
       "      <td>20.0</td>\n",
       "    </tr>\n",
       "  </tbody>\n",
       "</table>\n",
       "</div>"
      ],
      "text/plain": [
       "                                Author  \\\n",
       "Topic            Sub-Topic               \n",
       "Machine Learning DL             Bengio   \n",
       "                 ML             Witten   \n",
       "                 ML             Bishop   \n",
       "                 RL             Sutton   \n",
       "Maths            LA             Strang   \n",
       "                 Prob       Blitzstein   \n",
       "\n",
       "                                                               Title Edition  \\\n",
       "Topic            Sub-Topic                                                     \n",
       "Machine Learning DL                      Deep Reinforcement Learning       1   \n",
       "                 ML                                      ML Beginner       2   \n",
       "                 ML                                      ML Advanced     0.0   \n",
       "                 RL         Reinforcement Learning - An Introduction       2   \n",
       "Maths            LA                   Introduction to Linear Algebra       1   \n",
       "                 Prob                    Introduction to Probability     0.0   \n",
       "\n",
       "                            Cost  \n",
       "Topic            Sub-Topic        \n",
       "Machine Learning DL         30.0  \n",
       "                 ML         30.0  \n",
       "                 ML         40.0  \n",
       "                 RL         25.0  \n",
       "Maths            LA         20.0  \n",
       "                 Prob       20.0  "
      ]
     },
     "execution_count": 101,
     "metadata": {},
     "output_type": "execute_result"
    }
   ],
   "source": [
    "#series of median cost grouped by index level 0 ('Topic')\n",
    "s_cost_median_by_group = df_books.groupby (level = [0])\\\n",
    "['Cost'].transform ('median')\n",
    "#update the empty cells of 'Cost'\n",
    "df_books ['Cost'].fillna (s_cost_median_by_group, inplace = True)\n",
    "df_books"
   ]
  },
  {
   "cell_type": "markdown",
   "metadata": {},
   "source": [
    "### Using <font color = magenta><b>columns</b></font>"
   ]
  },
  {
   "cell_type": "code",
   "execution_count": 102,
   "metadata": {},
   "outputs": [
    {
     "data": {
      "text/html": [
       "<div>\n",
       "<style scoped>\n",
       "    .dataframe tbody tr th:only-of-type {\n",
       "        vertical-align: middle;\n",
       "    }\n",
       "\n",
       "    .dataframe tbody tr th {\n",
       "        vertical-align: top;\n",
       "    }\n",
       "\n",
       "    .dataframe thead th {\n",
       "        text-align: right;\n",
       "    }\n",
       "</style>\n",
       "<table border=\"1\" class=\"dataframe\">\n",
       "  <thead>\n",
       "    <tr style=\"text-align: right;\">\n",
       "      <th></th>\n",
       "      <th></th>\n",
       "      <th>Author</th>\n",
       "      <th>Title</th>\n",
       "      <th>Edition</th>\n",
       "      <th>Cost</th>\n",
       "      <th>Description</th>\n",
       "    </tr>\n",
       "    <tr>\n",
       "      <th>Topic</th>\n",
       "      <th>Sub-Topic</th>\n",
       "      <th></th>\n",
       "      <th></th>\n",
       "      <th></th>\n",
       "      <th></th>\n",
       "      <th></th>\n",
       "    </tr>\n",
       "  </thead>\n",
       "  <tbody>\n",
       "    <tr>\n",
       "      <td rowspan=\"4\" valign=\"top\">Machine Learning</td>\n",
       "      <td>DL</td>\n",
       "      <td>Bengio</td>\n",
       "      <td>Deep Reinforcement Learning</td>\n",
       "      <td>1</td>\n",
       "      <td>30.0</td>\n",
       "      <td>Deep Reinforcement Learning - by - Bengio</td>\n",
       "    </tr>\n",
       "    <tr>\n",
       "      <td>ML</td>\n",
       "      <td>Witten</td>\n",
       "      <td>ML Beginner</td>\n",
       "      <td>2</td>\n",
       "      <td>30.0</td>\n",
       "      <td>ML Beginner - by - Witten</td>\n",
       "    </tr>\n",
       "    <tr>\n",
       "      <td>ML</td>\n",
       "      <td>Bishop</td>\n",
       "      <td>ML Advanced</td>\n",
       "      <td>0.0</td>\n",
       "      <td>40.0</td>\n",
       "      <td>ML Advanced - by - Bishop</td>\n",
       "    </tr>\n",
       "    <tr>\n",
       "      <td>RL</td>\n",
       "      <td>Sutton</td>\n",
       "      <td>Reinforcement Learning - An Introduction</td>\n",
       "      <td>2</td>\n",
       "      <td>25.0</td>\n",
       "      <td>Reinforcement Learning - An Introduction - by ...</td>\n",
       "    </tr>\n",
       "    <tr>\n",
       "      <td rowspan=\"2\" valign=\"top\">Maths</td>\n",
       "      <td>LA</td>\n",
       "      <td>Strang</td>\n",
       "      <td>Introduction to Linear Algebra</td>\n",
       "      <td>1</td>\n",
       "      <td>20.0</td>\n",
       "      <td>Introduction to Linear Algebra - by - Strang</td>\n",
       "    </tr>\n",
       "    <tr>\n",
       "      <td>Prob</td>\n",
       "      <td>Blitzstein</td>\n",
       "      <td>Introduction to Probability</td>\n",
       "      <td>0.0</td>\n",
       "      <td>20.0</td>\n",
       "      <td>Introduction to Probability - by - Blitzstein</td>\n",
       "    </tr>\n",
       "  </tbody>\n",
       "</table>\n",
       "</div>"
      ],
      "text/plain": [
       "                                Author  \\\n",
       "Topic            Sub-Topic               \n",
       "Machine Learning DL             Bengio   \n",
       "                 ML             Witten   \n",
       "                 ML             Bishop   \n",
       "                 RL             Sutton   \n",
       "Maths            LA             Strang   \n",
       "                 Prob       Blitzstein   \n",
       "\n",
       "                                                               Title Edition  \\\n",
       "Topic            Sub-Topic                                                     \n",
       "Machine Learning DL                      Deep Reinforcement Learning       1   \n",
       "                 ML                                      ML Beginner       2   \n",
       "                 ML                                      ML Advanced     0.0   \n",
       "                 RL         Reinforcement Learning - An Introduction       2   \n",
       "Maths            LA                   Introduction to Linear Algebra       1   \n",
       "                 Prob                    Introduction to Probability     0.0   \n",
       "\n",
       "                            Cost  \\\n",
       "Topic            Sub-Topic         \n",
       "Machine Learning DL         30.0   \n",
       "                 ML         30.0   \n",
       "                 ML         40.0   \n",
       "                 RL         25.0   \n",
       "Maths            LA         20.0   \n",
       "                 Prob       20.0   \n",
       "\n",
       "                                                                  Description  \n",
       "Topic            Sub-Topic                                                     \n",
       "Machine Learning DL                 Deep Reinforcement Learning - by - Bengio  \n",
       "                 ML                                 ML Beginner - by - Witten  \n",
       "                 ML                                 ML Advanced - by - Bishop  \n",
       "                 RL         Reinforcement Learning - An Introduction - by ...  \n",
       "Maths            LA              Introduction to Linear Algebra - by - Strang  \n",
       "                 Prob           Introduction to Probability - by - Blitzstein  "
      ]
     },
     "execution_count": 102,
     "metadata": {},
     "output_type": "execute_result"
    }
   ],
   "source": [
    "df_books ['Description'] = df_books ['Title'] + ' - by - '\\\n",
    "+ df_books ['Author']\n",
    "df_books"
   ]
  },
  {
   "cell_type": "markdown",
   "metadata": {},
   "source": [
    "### <font color = magenta><b>binning</b></font> using <font color = magenta><b>pd.cut ()</b></font>"
   ]
  },
  {
   "cell_type": "markdown",
   "metadata": {},
   "source": [
    "binning - **numeric to categorical**"
   ]
  },
  {
   "cell_type": "code",
   "execution_count": 103,
   "metadata": {},
   "outputs": [
    {
     "data": {
      "text/html": [
       "<div>\n",
       "<style scoped>\n",
       "    .dataframe tbody tr th:only-of-type {\n",
       "        vertical-align: middle;\n",
       "    }\n",
       "\n",
       "    .dataframe tbody tr th {\n",
       "        vertical-align: top;\n",
       "    }\n",
       "\n",
       "    .dataframe thead th {\n",
       "        text-align: right;\n",
       "    }\n",
       "</style>\n",
       "<table border=\"1\" class=\"dataframe\">\n",
       "  <thead>\n",
       "    <tr style=\"text-align: right;\">\n",
       "      <th></th>\n",
       "      <th></th>\n",
       "      <th>Author</th>\n",
       "      <th>Title</th>\n",
       "      <th>Edition</th>\n",
       "      <th>Cost</th>\n",
       "      <th>Description</th>\n",
       "      <th>Cost Range</th>\n",
       "    </tr>\n",
       "    <tr>\n",
       "      <th>Topic</th>\n",
       "      <th>Sub-Topic</th>\n",
       "      <th></th>\n",
       "      <th></th>\n",
       "      <th></th>\n",
       "      <th></th>\n",
       "      <th></th>\n",
       "      <th></th>\n",
       "    </tr>\n",
       "  </thead>\n",
       "  <tbody>\n",
       "    <tr>\n",
       "      <td rowspan=\"4\" valign=\"top\">Machine Learning</td>\n",
       "      <td>DL</td>\n",
       "      <td>Bengio</td>\n",
       "      <td>Deep Reinforcement Learning</td>\n",
       "      <td>1</td>\n",
       "      <td>30.0</td>\n",
       "      <td>Deep Reinforcement Learning - by - Bengio</td>\n",
       "      <td>Affordable</td>\n",
       "    </tr>\n",
       "    <tr>\n",
       "      <td>ML</td>\n",
       "      <td>Witten</td>\n",
       "      <td>ML Beginner</td>\n",
       "      <td>2</td>\n",
       "      <td>30.0</td>\n",
       "      <td>ML Beginner - by - Witten</td>\n",
       "      <td>Affordable</td>\n",
       "    </tr>\n",
       "    <tr>\n",
       "      <td>ML</td>\n",
       "      <td>Bishop</td>\n",
       "      <td>ML Advanced</td>\n",
       "      <td>0.0</td>\n",
       "      <td>40.0</td>\n",
       "      <td>ML Advanced - by - Bishop</td>\n",
       "      <td>Costly</td>\n",
       "    </tr>\n",
       "    <tr>\n",
       "      <td>RL</td>\n",
       "      <td>Sutton</td>\n",
       "      <td>Reinforcement Learning - An Introduction</td>\n",
       "      <td>2</td>\n",
       "      <td>25.0</td>\n",
       "      <td>Reinforcement Learning - An Introduction - by ...</td>\n",
       "      <td>Affordable</td>\n",
       "    </tr>\n",
       "    <tr>\n",
       "      <td rowspan=\"2\" valign=\"top\">Maths</td>\n",
       "      <td>LA</td>\n",
       "      <td>Strang</td>\n",
       "      <td>Introduction to Linear Algebra</td>\n",
       "      <td>1</td>\n",
       "      <td>20.0</td>\n",
       "      <td>Introduction to Linear Algebra - by - Strang</td>\n",
       "      <td>Cheap</td>\n",
       "    </tr>\n",
       "    <tr>\n",
       "      <td>Prob</td>\n",
       "      <td>Blitzstein</td>\n",
       "      <td>Introduction to Probability</td>\n",
       "      <td>0.0</td>\n",
       "      <td>20.0</td>\n",
       "      <td>Introduction to Probability - by - Blitzstein</td>\n",
       "      <td>Cheap</td>\n",
       "    </tr>\n",
       "  </tbody>\n",
       "</table>\n",
       "</div>"
      ],
      "text/plain": [
       "                                Author  \\\n",
       "Topic            Sub-Topic               \n",
       "Machine Learning DL             Bengio   \n",
       "                 ML             Witten   \n",
       "                 ML             Bishop   \n",
       "                 RL             Sutton   \n",
       "Maths            LA             Strang   \n",
       "                 Prob       Blitzstein   \n",
       "\n",
       "                                                               Title Edition  \\\n",
       "Topic            Sub-Topic                                                     \n",
       "Machine Learning DL                      Deep Reinforcement Learning       1   \n",
       "                 ML                                      ML Beginner       2   \n",
       "                 ML                                      ML Advanced     0.0   \n",
       "                 RL         Reinforcement Learning - An Introduction       2   \n",
       "Maths            LA                   Introduction to Linear Algebra       1   \n",
       "                 Prob                    Introduction to Probability     0.0   \n",
       "\n",
       "                            Cost  \\\n",
       "Topic            Sub-Topic         \n",
       "Machine Learning DL         30.0   \n",
       "                 ML         30.0   \n",
       "                 ML         40.0   \n",
       "                 RL         25.0   \n",
       "Maths            LA         20.0   \n",
       "                 Prob       20.0   \n",
       "\n",
       "                                                                  Description  \\\n",
       "Topic            Sub-Topic                                                      \n",
       "Machine Learning DL                 Deep Reinforcement Learning - by - Bengio   \n",
       "                 ML                                 ML Beginner - by - Witten   \n",
       "                 ML                                 ML Advanced - by - Bishop   \n",
       "                 RL         Reinforcement Learning - An Introduction - by ...   \n",
       "Maths            LA              Introduction to Linear Algebra - by - Strang   \n",
       "                 Prob           Introduction to Probability - by - Blitzstein   \n",
       "\n",
       "                            Cost Range  \n",
       "Topic            Sub-Topic              \n",
       "Machine Learning DL         Affordable  \n",
       "                 ML         Affordable  \n",
       "                 ML             Costly  \n",
       "                 RL         Affordable  \n",
       "Maths            LA              Cheap  \n",
       "                 Prob            Cheap  "
      ]
     },
     "execution_count": 103,
     "metadata": {},
     "output_type": "execute_result"
    }
   ],
   "source": [
    "cost_boundaries = [0, 11, 21, 31, 41, np.inf]\n",
    "cost_range = ['Free', 'Cheap', 'Affordable', \\\n",
    "              'Costly', 'Exorbitant']\n",
    "df_books ['Cost Range'] = pd.cut \\\n",
    "(df_books ['Cost'], cost_boundaries, labels = cost_range)\n",
    "df_books"
   ]
  }
 ],
 "metadata": {
  "kernelspec": {
   "display_name": "Python 3",
   "language": "python",
   "name": "python3"
  },
  "language_info": {
   "codemirror_mode": {
    "name": "ipython",
    "version": 3
   },
   "file_extension": ".py",
   "mimetype": "text/x-python",
   "name": "python",
   "nbconvert_exporter": "python",
   "pygments_lexer": "ipython3",
   "version": "3.7.4"
  }
 },
 "nbformat": 4,
 "nbformat_minor": 2
}
