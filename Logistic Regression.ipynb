{
 "cells": [
  {
   "cell_type": "markdown",
   "metadata": {},
   "source": [
    "### Imports"
   ]
  },
  {
   "cell_type": "code",
   "execution_count": 56,
   "metadata": {},
   "outputs": [],
   "source": [
    "import numpy as np\n",
    "from numpy.random import normal\n",
    "import scipy\n",
    "import pandas as pd\n",
    "import seaborn as sns\n",
    "import sys #sys.maxsize"
   ]
  },
  {
   "cell_type": "markdown",
   "metadata": {},
   "source": [
    "### Data Generation"
   ]
  },
  {
   "cell_type": "markdown",
   "metadata": {},
   "source": [
    "#### Helper Functions"
   ]
  },
  {
   "cell_type": "code",
   "execution_count": 57,
   "metadata": {},
   "outputs": [],
   "source": [
    "def gen_points(n_points, x_center, y_center, spread, cluster_id):\n",
    "    x0 = [1] * n_points\n",
    "    x = normal(loc = x_center, scale = spread, size = n_points)\n",
    "    y = normal(loc = y_center, scale = spread, size = n_points)\n",
    "    c = [cluster_id] * n_points\n",
    "    return list(zip(x0, x, y, c))"
   ]
  },
  {
   "cell_type": "markdown",
   "metadata": {},
   "source": [
    "#### Configuration"
   ]
  },
  {
   "cell_type": "code",
   "execution_count": 58,
   "metadata": {},
   "outputs": [],
   "source": [
    "cl_size = 50\n",
    "cl_spread = 1\n",
    "cl_centers = [(5, 5), (10, 10)]"
   ]
  },
  {
   "cell_type": "markdown",
   "metadata": {},
   "source": [
    "#### DataFrame Generation"
   ]
  },
  {
   "cell_type": "code",
   "execution_count": 59,
   "metadata": {},
   "outputs": [],
   "source": [
    "df = None\n",
    "cols = ['x0', 'x', 'y', 'cluster_id']\n",
    "for i, (c_x, c_y) in enumerate(cl_centers):\n",
    "    points = gen_points(cl_size, c_x, c_y, cl_spread, i)                          \n",
    "    if df is None:\n",
    "        df = pd.DataFrame(points, columns = cols)\n",
    "    else:\n",
    "        df2 = pd.DataFrame(points, columns = cols)\n",
    "        df = df.append(df2, ignore_index = True)"
   ]
  },
  {
   "cell_type": "code",
   "execution_count": 60,
   "metadata": {},
   "outputs": [
    {
     "data": {
      "text/plain": [
       "<matplotlib.axes._subplots.AxesSubplot at 0x1a23882910>"
      ]
     },
     "execution_count": 60,
     "metadata": {},
     "output_type": "execute_result"
    },
    {
     "data": {
      "image/png": "[encoded data removed]",
      "text/plain": [
       "<Figure size 432x288 with 1 Axes>"
      ]
     },
     "metadata": {
      "needs_background": "light"
     },
     "output_type": "display_data"
    }
   ],
   "source": [
    "sns.scatterplot(\"x\", \"y\", \"cluster_id\", data = df)"
   ]
  },
  {
   "cell_type": "markdown",
   "metadata": {},
   "source": [
    "### Program"
   ]
  },
  {
   "cell_type": "markdown",
   "metadata": {},
   "source": [
    "#### Prepare X, y from input; Initialize weights and bias"
   ]
  },
  {
   "cell_type": "code",
   "execution_count": 61,
   "metadata": {},
   "outputs": [
    {
     "name": "stdout",
     "output_type": "stream",
     "text": [
      "X: (100, 3) y: (100, 1) W: (3, 1)\n"
     ]
    }
   ],
   "source": [
    "#inputs\n",
    "X = df.loc[:, ['x0', 'x', 'y']].values\n",
    "y = df.loc[:, 'cluster_id'].values\n",
    "y = np.reshape(y, (2*cl_size, 1))\n",
    "#initialize weights and biases to random values\n",
    "#W[0] is the bias\n",
    "W = normal(loc = 0, scale = 1, size = (3, 1))\n",
    "print('X:', X.shape, 'y:', y.shape, 'W:', W.shape)"
   ]
  },
  {
   "cell_type": "markdown",
   "metadata": {},
   "source": [
    "#### Learning and Cost Functions Definition"
   ]
  },
  {
   "cell_type": "code",
   "execution_count": 62,
   "metadata": {},
   "outputs": [],
   "source": [
    "def cost_and_gradient(X, y, W):\n",
    "    Z = np.dot(X, W) #input to the activation function\n",
    "    a = scipy.special.expit(Z) #activation\n",
    "    gradient = np.dot(np.transpose(X), (a-y))\n",
    "    #RuntimeWarning: divide by zero encountered in log\n",
    "    #RuntimeWarning: invalid value encountered in multiply\n",
    "    #use scipy.special to avoid divide-by-zero error - didn't work\n",
    "    #try adding an infinitesimal number\n",
    "    inf_small = 0.0000001\n",
    "    #cost L\n",
    "    L = (-1/(X.shape[0]))*np.sum((y*np.log(a+inf_small) + \\\n",
    "                        (1-y)*np.log(1-a+inf_small)))\n",
    "    return L, gradient"
   ]
  },
  {
   "cell_type": "code",
   "execution_count": 63,
   "metadata": {},
   "outputs": [],
   "source": [
    "#learning based on gradient descent\n",
    "def gradient_descent(X, y, W, lrate = 0.01):\n",
    "    W_new = W.copy()\n",
    "    old_loss = sys.maxsize\n",
    "    new_loss, grads = cost_and_gradient(X, y, W_new)\n",
    "    #while the loss is reducing by a good enough margin\n",
    "    i = 0 #for controlled printing\n",
    "    while abs(old_loss - new_loss) > 0.0001:\n",
    "        #update the weights and bias in the direction of the gradient\n",
    "        W_new = W_new - (lrate*grads)\n",
    "        #calculate the new loss\n",
    "        old_loss = new_loss\n",
    "        new_loss, grads = cost_and_gradient(X, y, W_new)\n",
    "        if (i%75 == 0):\n",
    "            print ('Loss:', new_loss)\n",
    "        i += 1\n",
    "        #print ('Loss:', new_loss)\n",
    "    return W_new"
   ]
  },
  {
   "cell_type": "markdown",
   "metadata": {},
   "source": [
    "#### Invocation"
   ]
  },
  {
   "cell_type": "code",
   "execution_count": 64,
   "metadata": {},
   "outputs": [
    {
     "name": "stdout",
     "output_type": "stream",
     "text": [
      "Loss: 1.537314662937035\n",
      "Loss: 0.5482945933466139\n",
      "Loss: 0.5146666795413897\n",
      "Loss: 0.4863231411435341\n",
      "Loss: 0.46250142457019877\n",
      "Loss: 0.4424334125768787\n",
      "Loss: 0.4254058870587027\n",
      "Loss: 0.41079726566904323\n",
      "Loss: 0.39809157709467585\n",
      "Loss: 0.3868758448277086\n",
      "Loss: 0.3768281019591677\n",
      "Loss: 0.3677018103377712\n",
      "Loss: 0.35931030972526934\n",
      "Loss: 0.35151310334185476\n",
      "Old Weights:\n",
      " [[-1.29773899]\n",
      " [-0.88396623]\n",
      " [ 0.65477913]]\n",
      "New Weights:\n",
      " [[-2.33434131]\n",
      " [ 0.10803132]\n",
      " [ 0.27578097]]\n",
      "Done\n"
     ]
    }
   ],
   "source": [
    "#call gradient descent to learn the new weights\n",
    "W_new = gradient_descent(X, y, W, 0.0001)\n",
    "print ('Old Weights:\\n', W)\n",
    "print ('New Weights:\\n', W_new)\n",
    "print ('Done')"
   ]
  },
  {
   "cell_type": "markdown",
   "metadata": {},
   "source": [
    "#### Verification"
   ]
  },
  {
   "cell_type": "code",
   "execution_count": 65,
   "metadata": {},
   "outputs": [
    {
     "name": "stdout",
     "output_type": "stream",
     "text": [
      "[[0.44039713]\n",
      " [0.41692515]\n",
      " [0.42090993]\n",
      " [0.43393964]\n",
      " [0.53406075]\n",
      " [0.47816669]\n",
      " [0.31557299]\n",
      " [0.2443543 ]\n",
      " [0.36382157]\n",
      " [0.35625363]\n",
      " [0.23835471]\n",
      " [0.42361522]\n",
      " [0.38946204]\n",
      " [0.33165415]\n",
      " [0.41292025]\n",
      " [0.28933196]\n",
      " [0.34773318]\n",
      " [0.4211918 ]\n",
      " [0.27733732]\n",
      " [0.33207188]\n",
      " [0.42667392]\n",
      " [0.45808345]\n",
      " [0.37346837]\n",
      " [0.35828494]\n",
      " [0.39820562]\n",
      " [0.27657787]\n",
      " [0.42672769]\n",
      " [0.42331764]\n",
      " [0.32833143]\n",
      " [0.39242457]\n",
      " [0.43775818]\n",
      " [0.41365939]\n",
      " [0.4713018 ]\n",
      " [0.34191777]\n",
      " [0.37023475]\n",
      " [0.35046073]\n",
      " [0.29410315]\n",
      " [0.37213223]\n",
      " [0.31901149]\n",
      " [0.30624266]\n",
      " [0.39985586]\n",
      " [0.43045073]\n",
      " [0.32044644]\n",
      " [0.38162892]\n",
      " [0.35487809]\n",
      " [0.41300951]\n",
      " [0.38868747]\n",
      " [0.608564  ]\n",
      " [0.39981329]\n",
      " [0.35509647]\n",
      " [0.84268577]\n",
      " [0.85734737]\n",
      " [0.80283528]\n",
      " [0.81649941]\n",
      " [0.82898335]\n",
      " [0.81278353]\n",
      " [0.83168064]\n",
      " [0.8070104 ]\n",
      " [0.77541638]\n",
      " [0.81584322]\n",
      " [0.80924937]\n",
      " [0.82224057]\n",
      " [0.75380983]\n",
      " [0.75881232]\n",
      " [0.76455127]\n",
      " [0.81223806]\n",
      " [0.80963162]\n",
      " [0.81125071]\n",
      " [0.82613079]\n",
      " [0.789143  ]\n",
      " [0.82361001]\n",
      " [0.89346305]\n",
      " [0.79057189]\n",
      " [0.80993706]\n",
      " [0.84283058]\n",
      " [0.8615471 ]\n",
      " [0.81796124]\n",
      " [0.82515543]\n",
      " [0.76132922]\n",
      " [0.78037359]\n",
      " [0.84907217]\n",
      " [0.78545146]\n",
      " [0.75781554]\n",
      " [0.85354855]\n",
      " [0.88715367]\n",
      " [0.86807717]\n",
      " [0.84384559]\n",
      " [0.86653615]\n",
      " [0.79999038]\n",
      " [0.82089658]\n",
      " [0.80442009]\n",
      " [0.73774882]\n",
      " [0.84321776]\n",
      " [0.70361076]\n",
      " [0.72634913]\n",
      " [0.7302607 ]\n",
      " [0.78852788]\n",
      " [0.77692491]\n",
      " [0.79578482]\n",
      " [0.78093752]]\n"
     ]
    }
   ],
   "source": [
    "def pred(X, W):\n",
    "    return scipy.special.expit(np.dot(X, W))\n",
    "\n",
    "y_pred = pred(X, W_new)\n",
    "print(y_pred)\n",
    "#print('Cluster 0:\\n', y_pred[:10])\n",
    "#print('Cluster 1:\\n', y_pred[90:])"
   ]
  },
  {
   "cell_type": "markdown",
   "metadata": {},
   "source": [
    "#### Visualize Prediction"
   ]
  },
  {
   "cell_type": "code",
   "execution_count": 66,
   "metadata": {},
   "outputs": [
    {
     "data": {
      "image/png": "[encoded data removed]",
      "text/plain": [
       "<Figure size 432x288 with 1 Axes>"
      ]
     },
     "metadata": {
      "needs_background": "light"
     },
     "output_type": "display_data"
    }
   ],
   "source": [
    "from mpl_toolkits.mplot3d import Axes3D\n",
    "import matplotlib.pyplot as plt\n",
    "\n",
    "\n",
    "\n",
    "fig = plt.figure()\n",
    "ax = fig.add_subplot(111, projection='3d')\n",
    "\n",
    "x = X[:,1]  #[1,2,3,4,5,6,7,8,9,10]\n",
    "y = X[:,2]  #[5,6,2,3,13,4,1,2,4,8]\n",
    "z = pred(X, W_new)       #[2,3,3,3,5,7,9,11,9,10]\n",
    "\n",
    "\n",
    "\n",
    "ax.scatter(x, y, z, c='r', marker='o')\n",
    "\n",
    "ax.set_xlabel('X Label')\n",
    "ax.set_ylabel('Y Label')\n",
    "ax.set_zlabel('Z Label')\n",
    "\n",
    "plt.show()"
   ]
  },
  {
   "cell_type": "code",
   "execution_count": null,
   "metadata": {},
   "outputs": [],
   "source": []
  }
 ],
 "metadata": {
  "kernelspec": {
   "display_name": "Python 3",
   "language": "python",
   "name": "python3"
  },
  "language_info": {
   "codemirror_mode": {
    "name": "ipython",
    "version": 3
   },
   "file_extension": ".py",
   "mimetype": "text/x-python",
   "name": "python",
   "nbconvert_exporter": "python",
   "pygments_lexer": "ipython3",
   "version": "3.7.4"
  }
 },
 "nbformat": 4,
 "nbformat_minor": 2
}
