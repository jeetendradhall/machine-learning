{
 "cells": [
  {
   "cell_type": "markdown",
   "metadata": {},
   "source": [
    "### Imports"
   ]
  },
  {
   "cell_type": "code",
   "execution_count": 5,
   "metadata": {},
   "outputs": [],
   "source": [
    "import numpy as np\n",
    "from numpy.random import normal\n",
    "import scipy\n",
    "import pandas as pd\n",
    "import seaborn as sns\n",
    "import sys #sys.maxsize"
   ]
  },
  {
   "cell_type": "markdown",
   "metadata": {},
   "source": [
    "### Data Generation"
   ]
  },
  {
   "cell_type": "markdown",
   "metadata": {},
   "source": [
    "#### Helper Functions"
   ]
  },
  {
   "cell_type": "code",
   "execution_count": 6,
   "metadata": {},
   "outputs": [],
   "source": [
    "def gen_points(n_points, x_center, y_center, spread, cluster_id):\n",
    "    x0 = [1] * n_points\n",
    "    x = normal(loc = x_center, scale = spread, size = n_points)\n",
    "    y = normal(loc = y_center, scale = spread, size = n_points)\n",
    "    c = [cluster_id] * n_points\n",
    "    return list(zip(x0, x, y, c))"
   ]
  },
  {
   "cell_type": "markdown",
   "metadata": {},
   "source": [
    "#### Configuration"
   ]
  },
  {
   "cell_type": "code",
   "execution_count": 7,
   "metadata": {},
   "outputs": [],
   "source": [
    "cl_size = 50\n",
    "cl_spread = 1\n",
    "cl_centers = [(5, 5), (10, 10)]"
   ]
  },
  {
   "cell_type": "markdown",
   "metadata": {},
   "source": [
    "#### DataFrame Generation"
   ]
  },
  {
   "cell_type": "code",
   "execution_count": 8,
   "metadata": {},
   "outputs": [],
   "source": [
    "df = None\n",
    "cols = ['x0', 'x', 'y', 'cluster_id']\n",
    "for i, (c_x, c_y) in enumerate(cl_centers):\n",
    "    points = gen_points(cl_size, c_x, c_y, cl_spread, i)                          \n",
    "    if df is None:\n",
    "        df = pd.DataFrame(points, columns = cols)\n",
    "    else:\n",
    "        df2 = pd.DataFrame(points, columns = cols)\n",
    "        df = df.append(df2, ignore_index = True)"
   ]
  },
  {
   "cell_type": "code",
   "execution_count": 9,
   "metadata": {},
   "outputs": [
    {
     "name": "stderr",
     "output_type": "stream",
     "text": [
      "C:\\Users\\jeete\\.conda\\envs\\Python37Env\\lib\\site-packages\\seaborn\\_decorators.py:43: FutureWarning: Pass the following variables as keyword args: x, y, hue. From version 0.12, the only valid positional argument will be `data`, and passing other arguments without an explicit keyword will result in an error or misinterpretation.\n",
      "  FutureWarning\n"
     ]
    },
    {
     "data": {
      "text/plain": [
       "<AxesSubplot:xlabel='x', ylabel='y'>"
      ]
     },
     "execution_count": 9,
     "metadata": {},
     "output_type": "execute_result"
    },
    {
     "data": {
      "image/png": "[encoded data removed]",
      "text/plain": [
       "<Figure size 432x288 with 1 Axes>"
      ]
     },
     "metadata": {
      "needs_background": "light"
     },
     "output_type": "display_data"
    }
   ],
   "source": [
    "sns.scatterplot(\"x\", \"y\", \"cluster_id\", data = df)"
   ]
  },
  {
   "cell_type": "markdown",
   "metadata": {},
   "source": [
    "### Program"
   ]
  },
  {
   "cell_type": "markdown",
   "metadata": {},
   "source": [
    "#### Prepare X, y from input; Initialize weights and bias"
   ]
  },
  {
   "cell_type": "code",
   "execution_count": 10,
   "metadata": {},
   "outputs": [
    {
     "name": "stdout",
     "output_type": "stream",
     "text": [
      "X: (100, 3) y: (100, 1) W: (3, 1)\n"
     ]
    }
   ],
   "source": [
    "#inputs\n",
    "X = df.loc[:, ['x0', 'x', 'y']].values\n",
    "y = df.loc[:, 'cluster_id'].values\n",
    "y = np.reshape(y, (2*cl_size, 1))\n",
    "#initialize weights and biases to random values\n",
    "#W[0] is the bias\n",
    "W = normal(loc = 0, scale = 1, size = (3, 1))\n",
    "print('X:', X.shape, 'y:', y.shape, 'W:', W.shape)"
   ]
  },
  {
   "cell_type": "markdown",
   "metadata": {},
   "source": [
    "#### Learning and Cost Functions Definition"
   ]
  },
  {
   "cell_type": "code",
   "execution_count": 11,
   "metadata": {},
   "outputs": [],
   "source": [
    "def cost_and_gradient(X, y, W):\n",
    "    Z = np.dot(X, W) #input to the activation function\n",
    "    a = scipy.special.expit(Z) #activation\n",
    "    gradient = np.dot(np.transpose(X), (a-y))\n",
    "    #RuntimeWarning: divide by zero encountered in log\n",
    "    #RuntimeWarning: invalid value encountered in multiply\n",
    "    #use scipy.special to avoid divide-by-zero error - didn't work\n",
    "    #try adding an infinitesimal number\n",
    "    inf_small = 0.0000001\n",
    "    #cost L\n",
    "    L = (-1/(X.shape[0]))*np.sum((y*np.log(a+inf_small) + \\\n",
    "                        (1-y)*np.log(1-a+inf_small)))\n",
    "    return L, gradient"
   ]
  },
  {
   "cell_type": "code",
   "execution_count": 12,
   "metadata": {},
   "outputs": [],
   "source": [
    "#learning based on gradient descent\n",
    "def gradient_descent(X, y, W, lrate = 0.01):\n",
    "    W_new = W.copy()\n",
    "    old_loss = sys.maxsize\n",
    "    new_loss, grads = cost_and_gradient(X, y, W_new)\n",
    "    #while the loss is reducing by a good enough margin\n",
    "    i = 0 #for controlled printing\n",
    "    while abs(old_loss - new_loss) > 0.0001:\n",
    "        #update the weights and bias in the direction of the gradient\n",
    "        W_new = W_new - (lrate*grads)\n",
    "        #calculate the new loss\n",
    "        old_loss = new_loss\n",
    "        new_loss, grads = cost_and_gradient(X, y, W_new)\n",
    "        if (i%75 == 0):\n",
    "            print ('Loss:', new_loss)\n",
    "        i += 1\n",
    "        #print ('Loss:', new_loss)\n",
    "    return W_new"
   ]
  },
  {
   "cell_type": "markdown",
   "metadata": {},
   "source": [
    "#### Invocation"
   ]
  },
  {
   "cell_type": "code",
   "execution_count": 13,
   "metadata": {},
   "outputs": [
    {
     "name": "stdout",
     "output_type": "stream",
     "text": [
      "Loss: 7.7131893055403\n",
      "Loss: 0.8145896581259626\n",
      "Loss: 0.7893308117084652\n",
      "Loss: 0.7656709331042987\n",
      "Loss: 0.7432733863825634\n",
      "Loss: 0.7219843916979417\n",
      "Loss: 0.7016831926580147\n",
      "Loss: 0.6822744486920478\n",
      "Loss: 0.6636822127224901\n",
      "Loss: 0.6458452345189986\n",
      "Loss: 0.6287133404059502\n",
      "Loss: 0.6122446695371763\n",
      "Loss: 0.5964035822071907\n",
      "Loss: 0.5811590898384905\n",
      "Loss: 0.5664836864603556\n",
      "Loss: 0.5523524868373025\n",
      "Loss: 0.5387425970744538\n",
      "Loss: 0.5256326600899491\n",
      "Loss: 0.5130025314746355\n",
      "Loss: 0.5008330515972501\n",
      "Loss: 0.48910588791399917\n",
      "Loss: 0.4778034277633273\n",
      "Loss: 0.46690870683969765\n",
      "Loss: 0.4564053623396515\n",
      "Loss: 0.446277602694257\n",
      "Loss: 0.43651018803136254\n",
      "Loss: 0.42708841719813045\n",
      "Loss: 0.4179981184383197\n",
      "Loss: 0.40922564175491305\n",
      "Loss: 0.40075785167268363\n",
      "Loss: 0.39258211960723827\n",
      "Loss: 0.38468631539417275\n",
      "Loss: 0.37705879777114343\n",
      "Old Weights:\n",
      " [[1.45731923]\n",
      " [1.68088148]\n",
      " [1.51110881]]\n",
      "New Weights:\n",
      " [[-2.00252688]\n",
      " [ 0.38451123]\n",
      " [-0.05344295]]\n",
      "Done\n"
     ]
    }
   ],
   "source": [
    "#call gradient descent to learn the new weights\n",
    "W_new = gradient_descent(X, y, W, 0.0001)\n",
    "print ('Old Weights:\\n', W)\n",
    "print ('New Weights:\\n', W_new)\n",
    "print ('Done')"
   ]
  },
  {
   "cell_type": "markdown",
   "metadata": {},
   "source": [
    "#### Verification"
   ]
  },
  {
   "cell_type": "code",
   "execution_count": 14,
   "metadata": {},
   "outputs": [
    {
     "name": "stdout",
     "output_type": "stream",
     "text": [
      "[[0.41621066]\n",
      " [0.39134372]\n",
      " [0.38681782]\n",
      " [0.48901387]\n",
      " [0.46051193]\n",
      " [0.45801881]\n",
      " [0.39446464]\n",
      " [0.38056587]\n",
      " [0.44985954]\n",
      " [0.5365519 ]\n",
      " [0.48464343]\n",
      " [0.42249199]\n",
      " [0.39288337]\n",
      " [0.4068463 ]\n",
      " [0.42220549]\n",
      " [0.27213564]\n",
      " [0.48031499]\n",
      " [0.28311983]\n",
      " [0.51521133]\n",
      " [0.4886173 ]\n",
      " [0.36636992]\n",
      " [0.33662596]\n",
      " [0.38927395]\n",
      " [0.354054  ]\n",
      " [0.52404009]\n",
      " [0.34031327]\n",
      " [0.47316224]\n",
      " [0.264033  ]\n",
      " [0.32599518]\n",
      " [0.49119494]\n",
      " [0.37143411]\n",
      " [0.36956821]\n",
      " [0.3631767 ]\n",
      " [0.35187829]\n",
      " [0.36629905]\n",
      " [0.36424999]\n",
      " [0.27906433]\n",
      " [0.37165572]\n",
      " [0.48837661]\n",
      " [0.25589133]\n",
      " [0.36809213]\n",
      " [0.49758677]\n",
      " [0.31456313]\n",
      " [0.43519638]\n",
      " [0.55966518]\n",
      " [0.4869334 ]\n",
      " [0.30635585]\n",
      " [0.32150821]\n",
      " [0.35573661]\n",
      " [0.50567501]\n",
      " [0.83783782]\n",
      " [0.85501422]\n",
      " [0.80470589]\n",
      " [0.86565181]\n",
      " [0.86779322]\n",
      " [0.73058663]\n",
      " [0.83268782]\n",
      " [0.82237314]\n",
      " [0.73450864]\n",
      " [0.83313063]\n",
      " [0.86839152]\n",
      " [0.84174797]\n",
      " [0.87530672]\n",
      " [0.75488452]\n",
      " [0.7297596 ]\n",
      " [0.82862282]\n",
      " [0.68586428]\n",
      " [0.73822229]\n",
      " [0.89420026]\n",
      " [0.80414767]\n",
      " [0.86016956]\n",
      " [0.73479626]\n",
      " [0.80964971]\n",
      " [0.87165585]\n",
      " [0.86941862]\n",
      " [0.76536282]\n",
      " [0.80418958]\n",
      " [0.75084101]\n",
      " [0.78039489]\n",
      " [0.7201668 ]\n",
      " [0.76875193]\n",
      " [0.86238167]\n",
      " [0.80320311]\n",
      " [0.83042019]\n",
      " [0.84618158]\n",
      " [0.69584794]\n",
      " [0.8109887 ]\n",
      " [0.84379166]\n",
      " [0.73424336]\n",
      " [0.8136306 ]\n",
      " [0.76339372]\n",
      " [0.72156765]\n",
      " [0.72289477]\n",
      " [0.78171105]\n",
      " [0.70754527]\n",
      " [0.79935063]\n",
      " [0.8351279 ]\n",
      " [0.86201526]\n",
      " [0.81353262]\n",
      " [0.63702087]]\n"
     ]
    }
   ],
   "source": [
    "def pred(X, W):\n",
    "    return scipy.special.expit(np.dot(X, W))\n",
    "\n",
    "y_pred = pred(X, W_new)\n",
    "print(y_pred)\n",
    "#print('Cluster 0:\\n', y_pred[:10])\n",
    "#print('Cluster 1:\\n', y_pred[90:])"
   ]
  },
  {
   "cell_type": "markdown",
   "metadata": {},
   "source": [
    "#### Visualize Prediction"
   ]
  },
  {
   "cell_type": "code",
   "execution_count": 15,
   "metadata": {},
   "outputs": [
    {
     "data": {
      "image/png": "[encoded data removed]",
      "text/plain": [
       "<Figure size 432x288 with 1 Axes>"
      ]
     },
     "metadata": {
      "needs_background": "light"
     },
     "output_type": "display_data"
    }
   ],
   "source": [
    "from mpl_toolkits.mplot3d import Axes3D\n",
    "import matplotlib.pyplot as plt\n",
    "\n",
    "\n",
    "\n",
    "fig = plt.figure()\n",
    "ax = fig.add_subplot(111, projection='3d')\n",
    "\n",
    "x = X[:,1]  #[1,2,3,4,5,6,7,8,9,10]\n",
    "y = X[:,2]  #[5,6,2,3,13,4,1,2,4,8]\n",
    "z = pred(X, W_new)       #[2,3,3,3,5,7,9,11,9,10]\n",
    "\n",
    "\n",
    "\n",
    "ax.scatter(x, y, z, c='r', marker='o')\n",
    "\n",
    "ax.set_xlabel('X Label')\n",
    "ax.set_ylabel('Y Label')\n",
    "ax.set_zlabel('Z Label')\n",
    "\n",
    "plt.show()"
   ]
  },
  {
   "cell_type": "code",
   "execution_count": 16,
   "metadata": {},
   "outputs": [
    {
     "name": "stdout",
     "output_type": "stream",
     "text": [
      "Python version is 3.7.9 (default, Aug 31 2020, 17:10:11) [MSC v.1916 64 bit (AMD64)]\n"
     ]
    }
   ],
   "source": [
    "import sys\n",
    "print ('Python version is', sys.version)"
   ]
  },
  {
   "cell_type": "code",
   "execution_count": null,
   "metadata": {},
   "outputs": [],
   "source": []
  }
 ],
 "metadata": {
  "kernelspec": {
   "display_name": "Python 3",
   "language": "python",
   "name": "python3"
  },
  "language_info": {
   "codemirror_mode": {
    "name": "ipython",
    "version": 3
   },
   "file_extension": ".py",
   "mimetype": "text/x-python",
   "name": "python",
   "nbconvert_exporter": "python",
   "pygments_lexer": "ipython3",
   "version": "3.7.9"
  }
 },
 "nbformat": 4,
 "nbformat_minor": 2
}
