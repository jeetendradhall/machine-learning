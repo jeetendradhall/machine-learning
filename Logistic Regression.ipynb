{
 "cells": [
  {
   "cell_type": "markdown",
   "metadata": {},
   "source": [
    "### Imports"
   ]
  },
  {
   "cell_type": "code",
   "execution_count": null,
   "metadata": {},
   "outputs": [],
   "source": [
    "import numpy as np\n",
    "from numpy.random import normal\n",
    "import scipy\n",
    "import pandas as pd\n",
    "import seaborn as sns\n",
    "import sys #sys.maxsize"
   ]
  },
  {
   "cell_type": "markdown",
   "metadata": {},
   "source": [
    "### Data Generation"
   ]
  },
  {
   "cell_type": "markdown",
   "metadata": {},
   "source": [
    "#### Helper Functions"
   ]
  },
  {
   "cell_type": "code",
   "execution_count": null,
   "metadata": {},
   "outputs": [],
   "source": [
    "def gen_points(n_points, x_center, y_center, spread, cluster_id):\n",
    "    x0 = [1] * n_points\n",
    "    x = normal(loc = x_center, scale = spread, size = n_points)\n",
    "    y = normal(loc = y_center, scale = spread, size = n_points)\n",
    "    c = [cluster_id] * n_points\n",
    "    return list(zip(x0, x, y, c))"
   ]
  },
  {
   "cell_type": "markdown",
   "metadata": {},
   "source": [
    "#### Configuration"
   ]
  },
  {
   "cell_type": "code",
   "execution_count": null,
   "metadata": {},
   "outputs": [],
   "source": [
    "cl_size = 50\n",
    "cl_spread = 1\n",
    "cl_centers = [(5, 5), (10, 10)]"
   ]
  },
  {
   "cell_type": "markdown",
   "metadata": {},
   "source": [
    "#### DataFrame Generation"
   ]
  },
  {
   "cell_type": "code",
   "execution_count": null,
   "metadata": {},
   "outputs": [],
   "source": [
    "df = None\n",
    "cols = ['x0', 'x', 'y', 'cluster_id']\n",
    "for i, (c_x, c_y) in enumerate(cl_centers):\n",
    "    points = gen_points(cl_size, c_x, c_y, cl_spread, i)                          \n",
    "    if df is None:\n",
    "        df = pd.DataFrame(points, columns = cols)\n",
    "    else:\n",
    "        df2 = pd.DataFrame(points, columns = cols)\n",
    "        df = df.append(df2, ignore_index = True)"
   ]
  },
  {
   "cell_type": "code",
   "execution_count": null,
   "metadata": {},
   "outputs": [],
   "source": [
    "sns.scatterplot(\"x\", \"y\", \"cluster_id\", data = df)"
   ]
  },
  {
   "cell_type": "markdown",
   "metadata": {},
   "source": [
    "### Program"
   ]
  },
  {
   "cell_type": "code",
   "execution_count": null,
   "metadata": {},
   "outputs": [],
   "source": [
    "#inputs\n",
    "X = df.loc[:, ['x0', 'x', 'y']].values\n",
    "y = df.loc[:, 'cluster_id'].values\n",
    "y = np.reshape(y, (2*cl_size, 1))\n",
    "#initialize weights and biases to random values\n",
    "#W[0] is the bias\n",
    "W = normal(loc = 0, scale = 1, size = (3, 1))\n",
    "print('X:', X.shape, 'y:', y.shape, 'W:', W.shape)"
   ]
  },
  {
   "cell_type": "code",
   "execution_count": null,
   "metadata": {},
   "outputs": [],
   "source": [
    "def cost_and_gradient(X, y, W):\n",
    "    Z = np.dot(X, W)\n",
    "    a = scipy.special.expit(Z)\n",
    "    gradient = np.dot(np.transpose(a-y), X)\n",
    "    #RuntimeWarning: divide by zero encountered in log\n",
    "    #RuntimeWarning: invalid value encountered in multiply\n",
    "    #use scipy.special to avoid divide-by-zero error - didn't work\n",
    "    #try adding an infinitesimal number\n",
    "    inf_small = 0.0000001\n",
    "    L = (-1/(X.shape[0]))*np.sum((y*np.log(a+inf_small) + \\\n",
    "                        (1-y)*np.log(1-a+inf_small)))\n",
    "    return L, gradient"
   ]
  },
  {
   "cell_type": "code",
   "execution_count": null,
   "metadata": {},
   "outputs": [],
   "source": [
    "#learning based on gradient descent\n",
    "def gradient_descent(X, y, W, lrate = 0.01):\n",
    "    old_loss = sys.maxsize\n",
    "    new_loss, grads = cost_and_gradient(X, y, W)\n",
    "    while abs(old_loss - new_loss) > 0.0001:\n",
    "        #update the weights and bias in the direction of the gradient\n",
    "        W = W - np.transpose(lrate*grads)\n",
    "        #calculate the new loss\n",
    "        old_loss = new_loss\n",
    "        new_loss, grads = cost_and_gradient(X, y, W)\n",
    "        print ('Loss:', new_loss)\n",
    "    return W"
   ]
  },
  {
   "cell_type": "code",
   "execution_count": null,
   "metadata": {},
   "outputs": [],
   "source": [
    "W_new = gradient_descent(X, y, W, 0.0001)"
   ]
  },
  {
   "cell_type": "code",
   "execution_count": null,
   "metadata": {},
   "outputs": [],
   "source": [
    "print (W)\n",
    "print (W_new)"
   ]
  },
  {
   "cell_type": "code",
   "execution_count": null,
   "metadata": {},
   "outputs": [],
   "source": [
    "for i, (x0, x1, x2) in enumerate(X):\n",
    "    pred = W_new[0]*x0 + W_new[1]*x1 + W_new[2]*x2 #predicted value\n",
    "    pred_y = lambda x: 1 if x >= 0.5 else 0 #predicted label\n",
    "    print (pred, y[i], pred_y(pred))"
   ]
  }
 ],
 "metadata": {
  "kernelspec": {
   "display_name": "Python 3",
   "language": "python",
   "name": "python3"
  },
  "language_info": {
   "codemirror_mode": {
    "name": "ipython",
    "version": 3
   },
   "file_extension": ".py",
   "mimetype": "text/x-python",
   "name": "python",
   "nbconvert_exporter": "python",
   "pygments_lexer": "ipython3",
   "version": "3.7.4"
  }
 },
 "nbformat": 4,
 "nbformat_minor": 2
}
