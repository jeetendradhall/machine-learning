{
 "cells": [
  {
   "cell_type": "markdown",
   "metadata": {},
   "source": [
    "NumPy provides some functions for Linear Algebra, Fourier Transforms and Random Number Generation, but not with the generality of the equivalent functions in SciPy."
   ]
  },
  {
   "cell_type": "markdown",
   "metadata": {},
   "source": [
    "# <font color = orange><b>Imports</b></font>"
   ]
  },
  {
   "cell_type": "code",
   "execution_count": 1,
   "metadata": {},
   "outputs": [],
   "source": [
    "#multi-dimensional array\n",
    "import numpy as np\n",
    "from numpy import vstack #vertical stacking of arrays\n",
    "\n",
    "#random sampling from distributions\n",
    "from numpy.random import rand, randn, normal, standard_normal\n",
    "\n",
    "#data normalization\n",
    "from scipy.cluster.vq import whiten\n",
    "\n",
    "#clustering\n",
    "from scipy.cluster.vq import kmeans #clustering algorithm\n",
    "#optimization\n",
    "from scipy import optimize\n",
    "\n",
    "#classification\n",
    "#vector quantization - quantizing (labeling) vectors by\n",
    "# comparing them with centroids\n",
    "from scipy.cluster.vq import vq\n",
    "\n",
    "#put ndarrays into a dataframe for plotting\n",
    "import pandas as pd\n",
    "\n",
    "#visualizations\n",
    "import matplotlib\n",
    "import matplotlib.pyplot as plt\n",
    "%matplotlib inline\n",
    "#sns - Samuel Norman “Sam” Seaborn - \n",
    "# on the television serial drama The West Wing\n",
    "import seaborn as sns\n",
    "\n",
    "#representing sparse martices\n",
    "from scipy.sparse import csr_matrix # 'compressed sparse row' matrix\n",
    "from scipy.sparse import dok_matrix # 'dictionary of keys' matrix\n",
    "\n",
    "#integration\n",
    "from scipy.integrate import quad, dblquad\n",
    "\n",
    "#interpolation\n",
    "from scipy import interpolate\n",
    "from scipy.interpolate import interp1d\n",
    "\n",
    "#generated data\n",
    "import generate_data as gd"
   ]
  },
  {
   "cell_type": "markdown",
   "metadata": {},
   "source": [
    "# scipy.<font color = orange><b>interpolate</b></font>"
   ]
  },
  {
   "cell_type": "markdown",
   "metadata": {},
   "source": [
    "https://www.tutorialspoint.com/scipy/scipy_interpolate.htm"
   ]
  },
  {
   "cell_type": "markdown",
   "metadata": {},
   "source": [
    "#### plot a function of x"
   ]
  },
  {
   "cell_type": "markdown",
   "metadata": {},
   "source": [
    "cos (  (x_square/3) + 4)"
   ]
  },
  {
   "cell_type": "code",
   "execution_count": null,
   "metadata": {},
   "outputs": [],
   "source": [
    "#a set of equidistant points within an interval\n",
    "x = np.linspace (0, 4, 12)\n",
    "\n",
    "#a function of x\n",
    "#cos ( (x_square/3) + 4)\n",
    "y = np.cos (((x**2)/3) + 4)\n",
    "\n",
    "#plot\n",
    "sns.scatterplot (x, y)\n",
    "plt.show ()"
   ]
  },
  {
   "cell_type": "markdown",
   "metadata": {},
   "source": [
    "#### using interpolation, fit a function to the points"
   ]
  },
  {
   "cell_type": "code",
   "execution_count": null,
   "metadata": {},
   "outputs": [],
   "source": [
    "f1d_lin = interp1d (x, y, kind = 'linear')\n",
    "f1d_cub = interp1d (x, y, kind = 'cubic')\n",
    "x_val = 2\n",
    "print ('1D Linear interpolation estimate for x =', x_val,\\\n",
    "       ':', f1d_lin (x_val))\n",
    "print ('1D Cubic interpolation estimate for x =', x_val,\\\n",
    "       ':', f1d_cub (x_val))"
   ]
  },
  {
   "cell_type": "markdown",
   "metadata": {},
   "source": [
    "Note\n",
    "- if we reduce the number of points on which interpolation was performed, we see the effect of cubic interpolation error <font color = red><b>due to overfitting</b></font>\n",
    "- for x = np.linspace (0, 4**, 6)**\n",
    "    - 1D Linear interpolation estimate for x = 2 : 0.5376240708619846\n",
    "    - 1D Cubic interpolation estimate for x = 2 : 0.6162970299094371"
   ]
  },
  {
   "cell_type": "markdown",
   "metadata": {},
   "source": [
    "#### plot the interpolation output"
   ]
  },
  {
   "cell_type": "code",
   "execution_count": null,
   "metadata": {},
   "outputs": [],
   "source": [
    "x_vals = np.linspace (0, 4, 30) #input x to the learnt functions\n",
    "y_vals_lin = f1d_lin (x_vals) #output y from the learnt linear function\n",
    "y_vals_cub = f1d_cub (x_vals) #output y from the learnt cubic function\n",
    "plt.plot (x, y, 'o',\\\n",
    "         x_vals, y_vals_lin, '-',\\\n",
    "         x_vals, y_vals_cub, '--')\n",
    "plt.show ()"
   ]
  },
  {
   "cell_type": "markdown",
   "metadata": {},
   "source": [
    "# scipy.<font color = orange><b>integrate</b></font>"
   ]
  },
  {
   "cell_type": "markdown",
   "metadata": {},
   "source": [
    "http://kitchingroup.cheme.cmu.edu/blog/2013/02/02/Integrating-functions-in-python/"
   ]
  },
  {
   "cell_type": "markdown",
   "metadata": {},
   "source": [
    "## integrands"
   ]
  },
  {
   "cell_type": "code",
   "execution_count": null,
   "metadata": {},
   "outputs": [],
   "source": [
    "#x_square\n",
    "def integrand_single (x):\n",
    "    return x**2\n",
    "\n",
    "# $x$y y.sin(x) + x.cos(y)\n",
    "#inner-most integral variable should be the first parameter\n",
    "def integrand_double (y, x):\n",
    "    return y * np.sin (x) + x * np.cos (y)"
   ]
  },
  {
   "cell_type": "markdown",
   "metadata": {},
   "source": [
    "## evaluate"
   ]
  },
  {
   "cell_type": "code",
   "execution_count": null,
   "metadata": {},
   "outputs": [],
   "source": [
    "# integrate x_square \n",
    "# x = 0..1\n",
    "ans, err = quad (integrand_single, 0, 1)\n",
    "print ('\\nintegrate x_square from x = 0..1:', ans, err)\n",
    "\n",
    "# $x$y y.sin(x) + x.cos(y)\n",
    "# π<=x<=2π\n",
    "# 0<=y<=π\n",
    "#We have to provide callable functions for the range of the y-variable.\n",
    "#Here they are constants, so we create lambda functions\n",
    "# that return the constants.\n",
    "ans, err = dblquad (integrand_double, np.pi, 2 * np.pi,\\\n",
    "                   lambda x: 0, lambda x: np.pi)\n",
    "print ('\\nintegrate $x$y y.sin(x) + x.cos(y) from\\n π<=x<=2π and 0<=y<=π:',\\\n",
    "       ans, err)"
   ]
  },
  {
   "cell_type": "markdown",
   "metadata": {},
   "source": [
    "# scipy.<font color = orange><b>optimize</b></font>"
   ]
  },
  {
   "cell_type": "markdown",
   "metadata": {},
   "source": [
    "https://towardsdatascience.com/optimization-with-scipy-and-application-ideas-to-machine-learning-81d39c7938b8"
   ]
  },
  {
   "cell_type": "markdown",
   "metadata": {},
   "source": [
    "Using SciPy **gives you deep insight** into the actual working of the algorithm as you have to **construct the loss metric yourself** and not depend on some ready-made, out-of-the-box function."
   ]
  },
  {
   "cell_type": "markdown",
   "metadata": {},
   "source": [
    "## Single-Variate Objective Functions"
   ]
  },
  {
   "cell_type": "markdown",
   "metadata": {},
   "source": [
    "### Plot and Definition"
   ]
  },
  {
   "cell_type": "code",
   "execution_count": null,
   "metadata": {},
   "outputs": [],
   "source": [
    "#parabola\n",
    "def parabola (x):\n",
    "    return x**2\n",
    "\n",
    "#exotic - sin (x) * exp [-0.1 (x - 0.6)^2]\n",
    "def sinx_exp  (x):\n",
    "    return np.sin (x) * np.exp (-0.1 * ((x - 0.6) ** 2))"
   ]
  },
  {
   "cell_type": "markdown",
   "metadata": {},
   "source": [
    "<font color = blue><b>parabola</b></font> <br>\n",
    "![alt text](parabola.png \"Parabola\")"
   ]
  },
  {
   "cell_type": "markdown",
   "metadata": {},
   "source": [
    "<font color = blue><b>sinx_exp</b></font>\n",
    "<img src = \"sinx.exp.png\"> <br>\n",
    "<img src = \"sinx.exp-2.png\">"
   ]
  },
  {
   "cell_type": "markdown",
   "metadata": {},
   "source": [
    "### Optimization"
   ]
  },
  {
   "cell_type": "markdown",
   "metadata": {},
   "source": [
    "#### 1. without constraints, without bounds"
   ]
  },
  {
   "cell_type": "markdown",
   "metadata": {},
   "source": [
    "##### optimize.<font color = magenta><b>minimize_scalar</b></font> (objfn)"
   ]
  },
  {
   "cell_type": "code",
   "execution_count": null,
   "metadata": {},
   "outputs": [],
   "source": [
    "result = optimize.minimize_scalar (parabola)\n",
    "print ('minimum of parabola:\\n', result)\n",
    "result = optimize.minimize_scalar (sinx_exp)\n",
    "print ('\\nminimum of sinx_exp:\\n', result)"
   ]
  },
  {
   "cell_type": "markdown",
   "metadata": {},
   "source": [
    "#### 2. with bounds (constraints)"
   ]
  },
  {
   "cell_type": "markdown",
   "metadata": {},
   "source": [
    "- For sinx-exp, mention **bounds on x** so as to favor local minimum"
   ]
  },
  {
   "cell_type": "markdown",
   "metadata": {},
   "source": [
    "##### optimize.<font color = magenta><b>minimize_scalar</b></font> (objfn, **bounds** = , **method** = '<font color = magenta><b>Bounded</b></font>')"
   ]
  },
  {
   "cell_type": "code",
   "execution_count": null,
   "metadata": {},
   "outputs": [],
   "source": [
    "result = optimize.minimize_scalar (sinx_exp, bounds = (0, 10), \\\n",
    "                                  method = 'Bounded')\n",
    "print ('\\nminimum of sinx_exp:\\n', result)"
   ]
  },
  {
   "cell_type": "markdown",
   "metadata": {},
   "source": [
    "#### 3. with other functional constraints"
   ]
  },
  {
   "cell_type": "markdown",
   "metadata": {},
   "source": [
    "<font color = blue><b>sinx_exp constraints</b></font>\n",
    "![alt text](sinx.exp.constraints.png \"sinx_exp constraints\")\n",
    "![alt text](sinx.exp.constraints.plot.png \"sinx_exp constraints plot\")"
   ]
  },
  {
   "cell_type": "code",
   "execution_count": null,
   "metadata": {},
   "outputs": [],
   "source": [
    "def constraint1 (x):\n",
    "    return (0.5 - np.log10 (x**2 + 2))\n",
    "def constraint2 (x):\n",
    "    return (np.log10 (x**2 + 2) - 1.5)\n",
    "def constraint3 (x):\n",
    "    return (np.sin (x) + (0.3 * (x**2)) - 1)\n",
    "\n",
    "print ('Graphically, constraints met at x = -2.3757.')\n",
    "print ('Passing x = -2.3757 in constraint functions:\\n')\n",
    "print ('Constraint #1 < 0:', constraint1 (-2.3757))\n",
    "print ('Constraint #2 < 0:', constraint2 (-2.3757))\n",
    "print ('Constraint #3 = 0 (almost equal to 0):', constraint3 (-2.3757))\n",
    "\n",
    "#prepare a dictionary for each constraint\n",
    "con1 = {'type': 'ineq', 'fun': constraint1} #Inequality\n",
    "con2 = {'type': 'ineq', 'fun': constraint2} #Inequality\n",
    "con3 = {'type': 'eq', 'fun': constraint3} #Equality\n",
    "\n",
    "#prepare a tuple of constraints\n",
    "cons = (con1, con2, con3)\n",
    "\n",
    "print (type(con1))\n",
    "print (type(con2))\n",
    "print (type(con3))\n",
    "print (type(con))\n",
    "#for ic, con in cons:\n",
    "    #print (ic, con)"
   ]
  },
  {
   "cell_type": "markdown",
   "metadata": {},
   "source": [
    "##### optimize.<font color = magenta><b>minimize</b></font> (objfn, **bounds** = , **method** = '<font color = magenta><b>Bounded</b></font>')"
   ]
  },
  {
   "cell_type": "markdown",
   "metadata": {},
   "source": [
    "SciPy allows handling **arbitrary constraints** through the **more generalized** method optimize.<font color = magenta><b>minimize</b></font>."
   ]
  },
  {
   "cell_type": "markdown",
   "metadata": {},
   "source": [
    "Note:\n",
    "- not all methods in the minimize function support constraint and bounds).\n",
    "- Here we chose **SLSQP** method which stands for <font color = magenta><b>sequential least-square quadratic programming</b></font>\n",
    "- to use minimize we need to pass on an **initial guess** in the form of <font color = magenta><b>x0</b></font> argument"
   ]
  },
  {
   "cell_type": "markdown",
   "metadata": {},
   "source": [
    "This code <font color = red><b>fails to optimize</b></font>"
   ]
  },
  {
   "cell_type": "code",
   "execution_count": null,
   "metadata": {},
   "outputs": [],
   "source": [
    "result = optimize.minimize (sinx_exp, x0 = 0, method = 'SLSQP', \\\n",
    "                                  constraints = cons,\\\n",
    "                           options = {'maxiter': 100})\n",
    "print ('\\nminimum of sinx_exp:\\n', result)\n",
    "print ('\\nNote the ERROR!!!: success: False')"
   ]
  },
  {
   "cell_type": "markdown",
   "metadata": {},
   "source": [
    "provide a suitable **initial guess** of x0 = -2"
   ]
  },
  {
   "cell_type": "code",
   "execution_count": null,
   "metadata": {},
   "outputs": [],
   "source": [
    "result = optimize.minimize (sinx_exp, x0 = -2, method = 'SLSQP', \\\n",
    "                                  constraints = cons,\\\n",
    "                           options = {'maxiter': 100})\n",
    "print ('\\nminimum of sinx_exp:\\n', result)\n",
    "print ('\\nNote the SUCCESS!!!: success: True')"
   ]
  },
  {
   "cell_type": "markdown",
   "metadata": {},
   "source": [
    "reduce the number of **iterations** from 100 down to 3"
   ]
  },
  {
   "cell_type": "markdown",
   "metadata": {},
   "source": [
    "This code <font color = orange><b>fails with iteration limit</b></font>, but succeeds to get <font color = green><b>good enough optimization</b></font>"
   ]
  },
  {
   "cell_type": "code",
   "execution_count": null,
   "metadata": {},
   "outputs": [],
   "source": [
    "result = optimize.minimize (sinx_exp, x0 = -2, method = 'SLSQP', \\\n",
    "                                  constraints = cons,\\\n",
    "                           options = {'maxiter': 3})\n",
    "print ('\\nminimum of sinx_exp:\\n', result)\n",
    "print ('\\nNote the FAILURE!!!: success: False')\n",
    "print ('But, the resultant x is close to the success case.')"
   ]
  },
  {
   "cell_type": "markdown",
   "metadata": {},
   "source": [
    "## Multi-variate Objective Functions"
   ]
  },
  {
   "cell_type": "markdown",
   "metadata": {},
   "source": [
    "### Plot and Definition"
   ]
  },
  {
   "cell_type": "markdown",
   "metadata": {},
   "source": [
    "#### Gaussian Mixture"
   ]
  },
  {
   "cell_type": "markdown",
   "metadata": {},
   "source": [
    "- gauss 1: mean = -1, sd = 2.1\n",
    "- gauss 2: mean = 0.3, sd = 0.8\n",
    "- gauss 1: mean = 2.1, sd = 1.7"
   ]
  },
  {
   "cell_type": "markdown",
   "metadata": {},
   "source": [
    "<font color = magenta><b>Gaussian Mixture</b></font>\n",
    "![alt text](gauss-mix.png \"Gaussian Mixture\")\n",
    "![alt text](gaussian-formula.png \"Gaussian Formula\")"
   ]
  },
  {
   "cell_type": "code",
   "execution_count": null,
   "metadata": {},
   "outputs": [],
   "source": [
    "#expects a vetor x\n",
    "def gaussian_mixture (x):\n",
    "    \n",
    "    gausses = []\n",
    "    for i in range (len(x)):\n",
    "        gauss = np.exp (-((x[i]-means[i])**2)/(stds[i]**2))\n",
    "        gausses.append (gauss)\n",
    "\n",
    "    #objective function is formulated as a function to be minimized\n",
    "    #maximizing the gaussians is minimizing their negative\n",
    "    return -1 * sum(gausses)"
   ]
  },
  {
   "cell_type": "markdown",
   "metadata": {},
   "source": [
    "### Optimization"
   ]
  },
  {
   "cell_type": "markdown",
   "metadata": {},
   "source": [
    "##### Unbounded Inputs - optimize.<font color = magenta><b>minimize</b></font> (objfn, **method** = '<font color = magenta><b>SLSQP</b></font>')"
   ]
  },
  {
   "cell_type": "markdown",
   "metadata": {},
   "source": [
    "- gauss 1: mean = -1, sd = 2.1\n",
    "- gauss 2: mean = 0.3, sd = 0.8\n",
    "- gauss 1: mean = 2.1, sd = 1.7"
   ]
  },
  {
   "cell_type": "markdown",
   "metadata": {},
   "source": [
    "Note:\n",
    "- we get back a **vector** instead of a scalar\n",
    "- the code below returns an **array of means** of the respective distributuions."
   ]
  },
  {
   "cell_type": "code",
   "execution_count": null,
   "metadata": {},
   "outputs": [],
   "source": [
    "means = [-1, 0.3, 2.1]\n",
    "stds = [2.1, 0.8, 1.7]\n",
    "initial_guess = np.zeros ((3))\n",
    "result = optimize.minimize (gaussian_mixture, x0 = initial_guess,\\\n",
    "                           method = 'SLSQP',\\\n",
    "                           options = {'maxiter': 100})\n",
    "print (result)\n",
    "print ('\\nObserve that x is the means of the respective distributuions')"
   ]
  },
  {
   "cell_type": "markdown",
   "metadata": {},
   "source": [
    "##### Bounded Inputs - optimize.<font color = magenta><b>minimize</b></font> (objfn, <font color = magenta><b>bounds</b></font> = , **method** = 'SLSQP')"
   ]
  },
  {
   "cell_type": "markdown",
   "metadata": {},
   "source": [
    "If the sub-process settings can occupy only a certain range of values (some must be positive, some must be negative, etc.) then the solution will be slightly different — it may not be the global optimum."
   ]
  },
  {
   "cell_type": "code",
   "execution_count": null,
   "metadata": {},
   "outputs": [],
   "source": [
    "means = [-1, 0.3, 2.1]\n",
    "stds = [2.1, 0.8, 1.7]\n",
    "initial_guess = np.zeros ((3))\n",
    "\n",
    "x1_bound = (-2,2)\n",
    "x2_bound = (0,5)\n",
    "x3_bound = (-3,0)\n",
    "bounds = (x1_bound, x2_bound, x3_bound)\n",
    "\n",
    "result = optimize.minimize (gaussian_mixture, x0 = initial_guess,\\\n",
    "                           method = 'SLSQP',\\\n",
    "                           options = {'maxiter': 100},\\\n",
    "                           bounds = bounds)\n",
    "print (result)\n",
    "print ('\\nObserve that x1 and x2 are still the means, \\\n",
    "while x3 has reduced to almost 0 due to the constraint.')"
   ]
  },
  {
   "cell_type": "markdown",
   "metadata": {},
   "source": [
    "# scipy.<font color = orange><b>cluster</b></font>"
   ]
  },
  {
   "cell_type": "markdown",
   "metadata": {},
   "source": [
    "**cluster settings**"
   ]
  },
  {
   "cell_type": "code",
   "execution_count": 2,
   "metadata": {},
   "outputs": [],
   "source": [
    "num_points = 100\n",
    "num_dim = 2\n",
    "num_clusters = 5\n",
    "cluster_distance = 1\n",
    "normalize = True"
   ]
  },
  {
   "cell_type": "markdown",
   "metadata": {},
   "source": [
    "**plot the data**"
   ]
  },
  {
   "cell_type": "code",
   "execution_count": 3,
   "metadata": {},
   "outputs": [
    {
     "data": {
      "image/png": "[encoded data removed]",
      "text/plain": [
       "<Figure size 432x288 with 2 Axes>"
      ]
     },
     "metadata": {
      "needs_background": "light"
     },
     "output_type": "display_data"
    }
   ],
   "source": [
    "#generate cluster data\n",
    "df = gd.generate_cluster_data (num_points, \\\n",
    "                              num_dim, num_clusters, cluster_distance, \\\n",
    "                  normalize)\n",
    "\n",
    "#plot the prepared data and its normalized form\n",
    "fig, ax = plt.subplots (1, 2)#, figsize = (8, 8))\n",
    "#parameters are created from column names using *[list]\n",
    "sns.scatterplot (*(list(df.columns [:num_dim])), 'label_train',\\\n",
    "                 data = df, ax = ax [0])\n",
    "#from col# num_dim to col# 2*num_dim, say, from col 2 to col 4 (excluding)\n",
    "sns.scatterplot (*(list(df.columns [num_dim:2*num_dim])), 'label_train',\\\n",
    "                 data = df, ax = ax [1])\n",
    "\n",
    "plt.show ()"
   ]
  },
  {
   "cell_type": "markdown",
   "metadata": {},
   "source": [
    "**cluster the data**"
   ]
  },
  {
   "cell_type": "markdown",
   "metadata": {},
   "source": [
    "> centroids = <font color = magenta><b>kmeans</b></font> (data, n_clusters) <br>\n",
    "> labels = <font color = magenta><b>vq</b></font> (data, centroids)"
   ]
  },
  {
   "cell_type": "code",
   "execution_count": 4,
   "metadata": {},
   "outputs": [
    {
     "data": {
      "image/png": "[encoded data removed]",
      "text/plain": [
       "<Figure size 432x288 with 1 Axes>"
      ]
     },
     "metadata": {
      "needs_background": "light"
     },
     "output_type": "display_data"
    }
   ],
   "source": [
    "# algorithm\n",
    "data_norm = df [df.columns [num_dim:-1]].to_numpy ()\n",
    "centroids, _ = kmeans (data_norm, num_clusters)\n",
    "# classification\n",
    "label_test, _ = vq (data_norm, centroids)\n",
    "\n",
    "# plot\n",
    "\n",
    "#plot the points\n",
    "sns.scatterplot (*(list(df.columns [num_dim:2*num_dim])), 'label_train',\\\n",
    "                 data = df)\n",
    "\n",
    "#plot the centroids\n",
    "sns.scatterplot (centroids [:, 0], centroids [:, 1],\\\n",
    "                 marker = '*', s = 200)\n",
    "\n",
    "plt.show ()"
   ]
  },
  {
   "cell_type": "markdown",
   "metadata": {},
   "source": [
    "# scipy.<font color = orange><b>sparse</b></font>, Sparse Matrix"
   ]
  },
  {
   "cell_type": "markdown",
   "metadata": {},
   "source": [
    "## Data Structures"
   ]
  },
  {
   "cell_type": "markdown",
   "metadata": {},
   "source": [
    "### Data"
   ]
  },
  {
   "cell_type": "code",
   "execution_count": null,
   "metadata": {},
   "outputs": [],
   "source": [
    "mat = np.array ([[1, 0, 0, 1, 0, 0], [0, 0, 2, 0, 0, 1],\\\n",
    "                    [0, 0, 0, 2, 0, 0]])\n",
    "print ('2D array:\\n', mat)"
   ]
  },
  {
   "cell_type": "markdown",
   "metadata": {},
   "source": [
    "### <font color = magenta><b>CSR</b></font> (compressed sparse row) form"
   ]
  },
  {
   "cell_type": "code",
   "execution_count": null,
   "metadata": {},
   "outputs": [],
   "source": [
    "mat_csr = csr_matrix (mat)\n",
    "print ('Compressed Sparse Row (CSR) form of 2D array:\\n', mat_csr)\n",
    "print ('CSR internals:\\n', 'data: ', mat_csr.data,\\\n",
    "       'index pointer: ', mat_csr.indptr, 'indices: ', mat_csr.indices)\n",
    "mat_dense_from_csr = mat_csr.todense ()\n",
    "print ('Dense array got back from CSR form:\\n', mat_dense_from_csr)"
   ]
  },
  {
   "cell_type": "markdown",
   "metadata": {},
   "source": [
    "NOTE on CSR internals:\n",
    "- **indices** [0, 3] are for row_0, [2, 5] are for row_1, [3] is for row_2\n",
    "- **indptr** 0 points to start of row_0 indices, and 2 points to start of row_1 indices, etc"
   ]
  },
  {
   "cell_type": "markdown",
   "metadata": {},
   "source": [
    "### <font color = magenta><b>DoK</b></font> (dictionary of keys) form"
   ]
  },
  {
   "cell_type": "code",
   "execution_count": null,
   "metadata": {},
   "outputs": [],
   "source": [
    "mat_dok = dok_matrix (mat)\n",
    "print ('Dictionary of Keys (DoK) form of 2D array:\\n',\\\n",
    "       list (mat_dok.items()))\n",
    "mat_dense_from_dok = mat_dok.todense ()\n",
    "print ('Dense array got back from DoK form:\\n', mat_dense_from_dok)"
   ]
  },
  {
   "cell_type": "markdown",
   "metadata": {},
   "source": [
    "### Calculate <font color = magenta><b>Sparsity</b></font>"
   ]
  },
  {
   "cell_type": "markdown",
   "metadata": {},
   "source": [
    "np.**count_nonzero**(ndarray) and np.ndarray.**size**"
   ]
  },
  {
   "cell_type": "code",
   "execution_count": null,
   "metadata": {},
   "outputs": [],
   "source": [
    "print ('Non-Zero count: ', np.count_nonzero (mat))\n",
    "print ('Size: ', mat.size)"
   ]
  },
  {
   "cell_type": "markdown",
   "metadata": {},
   "source": [
    "> density = nonzero_count / size\n",
    "> sparcity = 1 - density"
   ]
  },
  {
   "cell_type": "code",
   "execution_count": null,
   "metadata": {},
   "outputs": [],
   "source": [
    "print ('Sparsity: ', 1 - (np.count_nonzero (mat) / mat.size))"
   ]
  }
 ],
 "metadata": {
  "kernelspec": {
   "display_name": "Python 3",
   "language": "python",
   "name": "python3"
  },
  "language_info": {
   "codemirror_mode": {
    "name": "ipython",
    "version": 3
   },
   "file_extension": ".py",
   "mimetype": "text/x-python",
   "name": "python",
   "nbconvert_exporter": "python",
   "pygments_lexer": "ipython3",
   "version": "3.7.4"
  }
 },
 "nbformat": 4,
 "nbformat_minor": 2
}
