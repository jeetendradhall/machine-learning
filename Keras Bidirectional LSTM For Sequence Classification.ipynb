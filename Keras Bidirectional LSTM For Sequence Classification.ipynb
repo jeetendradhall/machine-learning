{
 "cells": [
  {
   "cell_type": "markdown",
   "metadata": {},
   "source": [
    "### Imports"
   ]
  },
  {
   "cell_type": "code",
   "execution_count": 50,
   "metadata": {},
   "outputs": [],
   "source": [
    "from numpy import array\n",
    "from numpy.random import rand\n",
    "from numpy import cumsum\n",
    "from keras.models import Sequential\n",
    "from keras.layers import LSTM, TimeDistributed, Dense, Bidirectional"
   ]
  },
  {
   "cell_type": "markdown",
   "metadata": {},
   "source": [
    "### Data"
   ]
  },
  {
   "cell_type": "code",
   "execution_count": 7,
   "metadata": {},
   "outputs": [],
   "source": [
    "def get_sequence(n_timesteps):\n",
    "    X = array([rand() for i in range(n_timesteps)])\n",
    "    limit = len(X)/4.0\n",
    "    y = array([0 if s < limit else 1 for s in cumsum(X)])\n",
    "    #1 sample, n_timesteps timesteps, 1 feature per timestamp\n",
    "    X = X.reshape(1, n_timesteps, 1)\n",
    "    y = y.reshape(1, n_timesteps, 1)\n",
    "    return X, y"
   ]
  },
  {
   "cell_type": "markdown",
   "metadata": {},
   "source": [
    "### Model"
   ]
  },
  {
   "cell_type": "code",
   "execution_count": 64,
   "metadata": {},
   "outputs": [],
   "source": [
    "n_timesteps=20"
   ]
  },
  {
   "cell_type": "markdown",
   "metadata": {},
   "source": [
    "#### Architecture"
   ]
  },
  {
   "cell_type": "code",
   "execution_count": 46,
   "metadata": {},
   "outputs": [],
   "source": [
    "def get_model(bidirectional=False):\n",
    "    model = Sequential()\n",
    "    if (bidirectional==True):\n",
    "        model.add(Bidirectional(LSTM(20, input_shape=(n_timesteps, 1), \\\n",
    "                       return_sequences=True)))\n",
    "    else:\n",
    "        model.add(LSTM(20, input_shape=(n_timesteps, 1), \\\n",
    "                       return_sequences=True))\n",
    "    model.add(TimeDistributed(Dense(1, activation='sigmoid')))\n",
    "    model.compile(loss='binary_crossentropy', optimizer='adam', \\\n",
    "              metrics=['accuracy'])\n",
    "    return model"
   ]
  },
  {
   "cell_type": "markdown",
   "metadata": {},
   "source": [
    "#### Train"
   ]
  },
  {
   "cell_type": "code",
   "execution_count": 54,
   "metadata": {},
   "outputs": [],
   "source": [
    "def train(model, verbose=0):\n",
    "    for epoch in range(1000):\n",
    "        X, y = get_sequence(n_timesteps)\n",
    "        model.fit(X, y, epochs=1, batch_size=1, verbose=verbose)\n",
    "    return model"
   ]
  },
  {
   "cell_type": "markdown",
   "metadata": {},
   "source": [
    "#### Evaluate"
   ]
  },
  {
   "cell_type": "code",
   "execution_count": 55,
   "metadata": {},
   "outputs": [],
   "source": [
    "def evaluate(model, verbose=0):\n",
    "    X, y = get_sequence(n_timesteps)\n",
    "    yhat = model.predict_classes(X, verbose=verbose)\n",
    "    for i in range(n_timesteps):\n",
    "        print ('Expected:', y[0, i], 'Got:', yhat[0, i])"
   ]
  },
  {
   "cell_type": "markdown",
   "metadata": {},
   "source": [
    "#### Pipeline"
   ]
  },
  {
   "cell_type": "code",
   "execution_count": 60,
   "metadata": {},
   "outputs": [],
   "source": [
    "def pipeline(bidirectional=False):\n",
    "    model = get_model(bidirectional)\n",
    "    print('Training...')\n",
    "    model = train(model)\n",
    "    print('Evaluating:')\n",
    "    evaluate(model)\n",
    "    print('Summary:\\n', model.summary())"
   ]
  },
  {
   "cell_type": "markdown",
   "metadata": {},
   "source": [
    "#### LSTM"
   ]
  },
  {
   "cell_type": "code",
   "execution_count": 65,
   "metadata": {
    "scrolled": true
   },
   "outputs": [
    {
     "name": "stdout",
     "output_type": "stream",
     "text": [
      "Training...\n",
      "Evaluating:\n",
      "Expected: [0] Got: [0]\n",
      "Expected: [0] Got: [0]\n",
      "Expected: [0] Got: [0]\n",
      "Expected: [0] Got: [0]\n",
      "Expected: [0] Got: [0]\n",
      "Expected: [0] Got: [0]\n",
      "Expected: [0] Got: [0]\n",
      "Expected: [1] Got: [0]\n",
      "Expected: [1] Got: [1]\n",
      "Expected: [1] Got: [1]\n",
      "Expected: [1] Got: [1]\n",
      "Expected: [1] Got: [1]\n",
      "Expected: [1] Got: [1]\n",
      "Expected: [1] Got: [1]\n",
      "Expected: [1] Got: [1]\n",
      "Expected: [1] Got: [1]\n",
      "Expected: [1] Got: [1]\n",
      "Expected: [1] Got: [1]\n",
      "Expected: [1] Got: [1]\n",
      "Expected: [1] Got: [1]\n",
      "Model: \"sequential_17\"\n",
      "_________________________________________________________________\n",
      "Layer (type)                 Output Shape              Param #   \n",
      "=================================================================\n",
      "lstm_16 (LSTM)               (None, 20, 20)            1760      \n",
      "_________________________________________________________________\n",
      "time_distributed_14 (TimeDis (None, 20, 1)             21        \n",
      "=================================================================\n",
      "Total params: 1,781\n",
      "Trainable params: 1,781\n",
      "Non-trainable params: 0\n",
      "_________________________________________________________________\n",
      "Summary:\n",
      " None\n"
     ]
    }
   ],
   "source": [
    "pipeline()"
   ]
  },
  {
   "cell_type": "markdown",
   "metadata": {},
   "source": [
    "#### Bidirectional LSTM"
   ]
  },
  {
   "cell_type": "code",
   "execution_count": 67,
   "metadata": {
    "scrolled": true
   },
   "outputs": [
    {
     "name": "stdout",
     "output_type": "stream",
     "text": [
      "Training...\n",
      "Evaluating:\n",
      "Expected: [0] Got: [0]\n",
      "Expected: [0] Got: [0]\n",
      "Expected: [0] Got: [0]\n",
      "Expected: [0] Got: [0]\n",
      "Expected: [0] Got: [0]\n",
      "Expected: [0] Got: [0]\n",
      "Expected: [0] Got: [0]\n",
      "Expected: [1] Got: [0]\n",
      "Expected: [1] Got: [0]\n",
      "Expected: [1] Got: [1]\n",
      "Expected: [1] Got: [1]\n",
      "Expected: [1] Got: [1]\n",
      "Expected: [1] Got: [1]\n",
      "Expected: [1] Got: [1]\n",
      "Expected: [1] Got: [1]\n",
      "Expected: [1] Got: [1]\n",
      "Expected: [1] Got: [1]\n",
      "Expected: [1] Got: [1]\n",
      "Expected: [1] Got: [1]\n",
      "Expected: [1] Got: [1]\n",
      "Model: \"sequential_19\"\n",
      "_________________________________________________________________\n",
      "Layer (type)                 Output Shape              Param #   \n",
      "=================================================================\n",
      "bidirectional_5 (Bidirection (None, 20, 40)            3520      \n",
      "_________________________________________________________________\n",
      "time_distributed_16 (TimeDis (None, 20, 1)             41        \n",
      "=================================================================\n",
      "Total params: 3,561\n",
      "Trainable params: 3,561\n",
      "Non-trainable params: 0\n",
      "_________________________________________________________________\n",
      "Summary:\n",
      " None\n"
     ]
    }
   ],
   "source": [
    "pipeline(True)"
   ]
  },
  {
   "cell_type": "code",
   "execution_count": null,
   "metadata": {},
   "outputs": [],
   "source": []
  }
 ],
 "metadata": {
  "kernelspec": {
   "display_name": "Python 3",
   "language": "python",
   "name": "python3"
  },
  "language_info": {
   "codemirror_mode": {
    "name": "ipython",
    "version": 3
   },
   "file_extension": ".py",
   "mimetype": "text/x-python",
   "name": "python",
   "nbconvert_exporter": "python",
   "pygments_lexer": "ipython3",
   "version": "3.7.9"
  }
 },
 "nbformat": 4,
 "nbformat_minor": 4
}
