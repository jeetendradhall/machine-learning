{
 "cells": [
  {
   "cell_type": "markdown",
   "metadata": {},
   "source": [
    "NumPy or <font color = magenta><b>Numeric Python</b></font> is a package for computation on **homogenous** n-dimensional arrays."
   ]
  },
  {
   "cell_type": "markdown",
   "metadata": {},
   "source": [
    "Uses:\n",
    "- perform **operations on all the elements** of two list **directly**."
   ]
  },
  {
   "cell_type": "markdown",
   "metadata": {},
   "source": [
    "# A. <font color = orange><b>Imports</b></font>"
   ]
  },
  {
   "cell_type": "code",
   "execution_count": 1,
   "metadata": {},
   "outputs": [],
   "source": [
    "#array handling\n",
    "import numpy as np\n",
    "\n",
    "#random sampling from distributions\n",
    "from numpy.random import randn, normal, standard_normal\n",
    "\n",
    "#plotting\n",
    "from matplotlib import pyplot as plt\n",
    "import seaborn as sns"
   ]
  },
  {
   "cell_type": "markdown",
   "metadata": {},
   "source": [
    "# B. <font color = orange><b>Preliminaries</b></font>"
   ]
  },
  {
   "cell_type": "markdown",
   "metadata": {},
   "source": [
    "## 1. row vector, column vector, and matrix"
   ]
  },
  {
   "cell_type": "markdown",
   "metadata": {},
   "source": [
    "All are of type numpy.<font color = magenta><b>ndarray</b></font>"
   ]
  },
  {
   "cell_type": "code",
   "execution_count": 118,
   "metadata": {},
   "outputs": [
    {
     "name": "stdout",
     "output_type": "stream",
     "text": [
      "row_v shape: (10,) \n",
      " [0 1 2 3 4 5 6 7 8 9] \n",
      " element (1) of 1D array: 1 \n",
      "\n",
      "col_v shape: (10, 1) \n",
      " [[0]\n",
      " [1]\n",
      " [2]\n",
      " [3]\n",
      " [4]\n",
      " [5]\n",
      " [6]\n",
      " [7]\n",
      " [8]\n",
      " [9]] \n",
      " element (2,0) of 2D array: 2 \n",
      "\n",
      "mat_2d shape: (3, 2) \n",
      " [['1' 'a']\n",
      " ['2' 'b']\n",
      " ['3' 'c']] \n",
      " element (2,1) of 2D array: c \n",
      "\n",
      "mat_3d shape: (3, 3, 2) \n",
      " [[['1' 'a']\n",
      "  ['2' 'b']\n",
      "  ['3' 'c']]\n",
      "\n",
      " [['4' 'd']\n",
      "  ['5' 'e']\n",
      "  ['6' 'f']]\n",
      "\n",
      " [['7' 'g']\n",
      "  ['8' 'h']\n",
      "  ['9' 'i']]] \n",
      " element (2,1,0) of 3D array: 8 element (2,2,1) of 3D array: i \n",
      "\n"
     ]
    }
   ],
   "source": [
    "row_v = np.array ([0, 1, 2, 3, 4, 5, 6, 7, 8, 9]) # row vector (1-D)\n",
    "# column vector (2-D)\n",
    "col_v = np.array ([[0], [1], [2], [3], [4], [5], [6], [7], [8], [9]])\n",
    "mat_2d = np.array ([[1, 'a'], [2, 'b'], [3, 'c']]) # 2-D matrix\n",
    "mat_3d = np.array ([[[1, 'a'], [2, 'b'], [3, 'c']], \\\n",
    "                   [[4, 'd'], [5, 'e'], [6, 'f']], \\\n",
    "                   [[7, 'g'], [8, 'h'], [9, 'i']]]) # 3-D matrix\n",
    "\n",
    "print ('row_v shape:', row_v.shape, '\\n', row_v, '\\n',\\\n",
    "       'element (1) of 1D array:', row_v[1], '\\n')\n",
    "print ('col_v shape:', col_v.shape, '\\n', col_v, '\\n',\\\n",
    "       'element (2,0) of 2D array:', col_v[2][0], '\\n')\n",
    "print ('mat_2d shape:', mat_2d.shape, '\\n', mat_2d, '\\n',\\\n",
    "       'element (2,1) of 2D array:', mat_2d[2][1], '\\n')\n",
    "print ('mat_3d shape:', mat_3d.shape, '\\n', mat_3d, '\\n',\\\n",
    "       'element (2,1,0) of 3D array:', mat_3d[2][1][0],\\\n",
    "       'element (2,2,1) of 3D array:', mat_3d[2][2][1],'\\n')"
   ]
  },
  {
   "cell_type": "markdown",
   "metadata": {},
   "source": [
    "## 2. np.<font color = magenta><b>zeros</b></font>, np.<font color = magenta><b>ones</b></font>,  and np.<font color = magenta><b>full</b></font>"
   ]
  },
  {
   "cell_type": "markdown",
   "metadata": {},
   "source": [
    "### <font color = magenta><b>numerical</b></font> arrays"
   ]
  },
  {
   "cell_type": "markdown",
   "metadata": {},
   "source": [
    "np.**zeros** (**shape**, **dtype** = int/float) <br>\n",
    "np.**ones** (**shape**, **dtype** = int/float)"
   ]
  },
  {
   "cell_type": "code",
   "execution_count": 119,
   "metadata": {},
   "outputs": [
    {
     "name": "stdout",
     "output_type": "stream",
     "text": [
      "<class 'numpy.ndarray'>\n",
      "integer 1D ndarray:\n",
      " [0 0 0] \n",
      "\n",
      "integer 2D ndarray:\n",
      " [[1 1]] \n",
      "\n",
      "float 2D ndarray:\n",
      " [[0. 0.]] \n",
      "\n",
      "float 3D ndarray:\n",
      " [[[1. 1.]\n",
      "  [1. 1.]\n",
      "  [1. 1.]]\n",
      "\n",
      " [[1. 1.]\n",
      "  [1. 1.]\n",
      "  [1. 1.]]] \n",
      "\n"
     ]
    }
   ],
   "source": [
    "print (type (np.zeros ((1, 2), dtype = int))) #type\n",
    "print ('integer 1D ndarray:\\n',\\\n",
    "       np.zeros ((3), dtype = int), '\\n') #integer 1D ndarray\n",
    "print ('integer 2D ndarray:\\n',\\\n",
    "       np.ones ((1, 2), dtype = int), '\\n') #integer 2D ndarray\n",
    "print ('float 2D ndarray:\\n',\\\n",
    "       np.zeros ((1, 2), dtype = float), '\\n') #float 2D ndarray\n",
    "print ('float 3D ndarray:\\n',\\\n",
    "       np.ones ((2, 3, 2), dtype = float), '\\n') #float 3D ndarray"
   ]
  },
  {
   "cell_type": "markdown",
   "metadata": {},
   "source": [
    "### <font color = magenta><b>boolean</b></font> arrays"
   ]
  },
  {
   "cell_type": "markdown",
   "metadata": {},
   "source": [
    "np.<font color = red><b>zeros</b></font> (shape, dtype = <font color = red><b>bool</b></font>)"
   ]
  },
  {
   "cell_type": "code",
   "execution_count": 120,
   "metadata": {},
   "outputs": [
    {
     "name": "stdout",
     "output_type": "stream",
     "text": [
      "boolean 2D ndarray:\n",
      " [[ True  True]] \n",
      "\n",
      "boolean 3D ndarray:\n",
      " [[[ True  True]\n",
      "  [ True  True]\n",
      "  [ True  True]]\n",
      "\n",
      " [[ True  True]\n",
      "  [ True  True]\n",
      "  [ True  True]]] \n",
      "\n"
     ]
    }
   ],
   "source": [
    "print ('boolean 2D ndarray:\\n',\\\n",
    "       np.ones ((1, 2), dtype = bool), '\\n')\n",
    "print ('boolean 3D ndarray:\\n',\\\n",
    "       np.ones ((2, 3, 2), dtype = bool), '\\n')"
   ]
  },
  {
   "cell_type": "markdown",
   "metadata": {},
   "source": [
    "### <font color = magenta><b>any-type</b></font> arrays"
   ]
  },
  {
   "cell_type": "markdown",
   "metadata": {},
   "source": [
    "np.<font color = magenta><b>full</b></font> (shape, **value**)"
   ]
  },
  {
   "cell_type": "markdown",
   "metadata": {},
   "source": [
    "> **Deduce type** from value"
   ]
  },
  {
   "cell_type": "markdown",
   "metadata": {},
   "source": [
    "2D **boolean** array"
   ]
  },
  {
   "cell_type": "code",
   "execution_count": 121,
   "metadata": {},
   "outputs": [
    {
     "data": {
      "text/plain": [
       "array([[False, False, False],\n",
       "       [False, False, False]])"
      ]
     },
     "execution_count": 121,
     "metadata": {},
     "output_type": "execute_result"
    }
   ],
   "source": [
    "np.full ((2,3), False)"
   ]
  },
  {
   "cell_type": "markdown",
   "metadata": {},
   "source": [
    "2D **integer** array"
   ]
  },
  {
   "cell_type": "code",
   "execution_count": 122,
   "metadata": {},
   "outputs": [
    {
     "data": {
      "text/plain": [
       "array([[7, 7, 7],\n",
       "       [7, 7, 7]])"
      ]
     },
     "execution_count": 122,
     "metadata": {},
     "output_type": "execute_result"
    }
   ],
   "source": [
    "np.full ((2,3), 7)"
   ]
  },
  {
   "cell_type": "markdown",
   "metadata": {},
   "source": [
    "## 3. np.<font color = magenta><b>arange</b></font>, and np.<font color = magenta><b>linspace</b></font>"
   ]
  },
  {
   "cell_type": "markdown",
   "metadata": {},
   "source": [
    "The essential difference between NumPy linspace and NumPy arange is that linspace enables you to <font color = magenta><b>control the precise end value</b></font>, whereas arange gives you <font color = magenta><b>more direct control over the increments between values</b></font> in the sequence."
   ]
  },
  {
   "cell_type": "markdown",
   "metadata": {},
   "source": [
    "np.<font color = magenta><b>arange</b></font> (**start** = , **stop** = , **step** = )"
   ]
  },
  {
   "cell_type": "markdown",
   "metadata": {},
   "source": [
    "- only '**stop**' is **mandatory**"
   ]
  },
  {
   "cell_type": "code",
   "execution_count": 140,
   "metadata": {},
   "outputs": [
    {
     "name": "stdout",
     "output_type": "stream",
     "text": [
      "arange (10): stop at 10 [0 1 2 3 4 5 6 7 8 9]\n",
      "arange (-1, 10, 2): start at -1,\n",
      " stop at 10, step size = 2: [-1  1  3  5  7  9]\n"
     ]
    }
   ],
   "source": [
    "print ('arange (10): stop at 10', np.arange (10))\n",
    "print ('arange (-1, 10, 2): start at -1,\\n \\\n",
    "stop at 10, step size = 2:', np.arange (-1, 10, 2))"
   ]
  },
  {
   "cell_type": "markdown",
   "metadata": {},
   "source": [
    "np.<font color = magenta><b>linspace</b></font> (**start** = , **stop** = , **num** = )"
   ]
  },
  {
   "cell_type": "markdown",
   "metadata": {},
   "source": [
    "- creates sequences of **evenly spaced** values within a defined interval\n",
    "- num **includes the endpoints**"
   ]
  },
  {
   "cell_type": "code",
   "execution_count": 132,
   "metadata": {},
   "outputs": [
    {
     "data": {
      "text/plain": [
       "array([  0.,  25.,  50.,  75., 100.])"
      ]
     },
     "execution_count": 132,
     "metadata": {},
     "output_type": "execute_result"
    }
   ],
   "source": [
    "np.linspace (0, 100, 5)"
   ]
  },
  {
   "cell_type": "markdown",
   "metadata": {},
   "source": [
    "## 4. <font color = magenta><b>Structured arrays</b></font> and <font color = magenta><b>Field Access</b></font>"
   ]
  },
  {
   "cell_type": "markdown",
   "metadata": {},
   "source": [
    "Structured arrays are ndarrays whose datatype is a <font color = magenta><b>composition of simpler datatypes</b></font> organized as a sequence of named fields."
   ]
  },
  {
   "cell_type": "markdown",
   "metadata": {},
   "source": [
    "If the ndarray object is a structured array the fields of the array can be accessed by <font color = magenta><b>indexing the array with strings, dictionary-like</b></font>."
   ]
  },
  {
   "cell_type": "markdown",
   "metadata": {},
   "source": [
    "Returns a new <font color = magenta><b>view</b></font> to the array"
   ]
  },
  {
   "cell_type": "code",
   "execution_count": 123,
   "metadata": {},
   "outputs": [
    {
     "name": "stdout",
     "output_type": "stream",
     "text": [
      "x:\n",
      " [('Bishop', 1, 44.99) ('Bengio', 2, 39.99) ('Sutton', 2, 24.99)]\n",
      "\n",
      "x.shape:\n",
      " (3,)\n",
      "\n",
      "x [2]:\n",
      " ('Sutton', 2, 24.99)\n",
      "\n",
      "x [\"Author\"]:\n",
      " ['Bishop' 'Bengio' 'Sutton']\n",
      "\n",
      "x [\"Author\"].shape: same as x.shape:\n",
      " (3,)\n",
      "\n",
      "x [\"Price\"] = 19.99\n",
      "\n",
      "x [\"Price\"]:\n",
      " [19.99 19.99 19.99]\n"
     ]
    }
   ],
   "source": [
    "x = np.array ([('Bishop', 1, 44.99), ('Bengio', 2, 39.99),\\\n",
    "               ('Sutton', 2, 24.99)],\\\n",
    "              dtype = [('Author', 'U10'), ('Edition', 'i4'),\\\n",
    "                       ('Price', 'f4')])\n",
    "print ('x:\\n', x)\n",
    "print ('\\nx.shape:\\n', x.shape)\n",
    "print ('\\nx [2]:\\n', x [2])\n",
    "print ('\\nx [\"Author\"]:\\n', x ['Author'])\n",
    "print ('\\nx [\"Author\"].shape: same as x.shape:\\n', x ['Author'].shape)\n",
    "print ('\\nx [\"Price\"] = 19.99')\n",
    "x ['Price'] = 19.99\n",
    "print ('\\nx [\"Price\"]:\\n', x ['Price'])"
   ]
  },
  {
   "cell_type": "markdown",
   "metadata": {},
   "source": [
    "**Structured datatypes** are designed to be able to mimic ‘structs’ in the C language, and share a similar memory layout. They are <font color = blue><b>meant for interfacing with C code</b></font> and for low-level manipulation of structured buffers, for example for interpreting binary blobs. For these purposes they support specialized features such as subarrays, nested datatypes, and unions, and allow control over the memory layout of the structure.\n",
    "\n",
    "Users looking to manipulate tabular data, such as stored in **csv files**, may find other pydata projects more suitable, such as xarray, <font color = magenta><b>pandas</b></font>, or DataArray. These provide a high-level interface for tabular data analysis and are better optimized for that use. For instance, the C-struct-like memory layout of structured arrays in numpy can lead to poor cache behavior in comparison."
   ]
  },
  {
   "cell_type": "code",
   "execution_count": 125,
   "metadata": {},
   "outputs": [
    {
     "name": "stdout",
     "output_type": "stream",
     "text": [
      "x:\n",
      " [[(0, [[0., 0., 0.], [0., 0., 0.], [0., 0., 0.]])\n",
      "  (0, [[0., 0., 0.], [0., 0., 0.], [0., 0., 0.]])]\n",
      " [(0, [[0., 0., 0.], [0., 0., 0.], [0., 0., 0.]])\n",
      "  (0, [[0., 0., 0.], [0., 0., 0.], [0., 0., 0.]])]]\n",
      "\n",
      "x.shape:\n",
      " (2, 2)\n",
      "Indexing x[\"field-name\"] returns a new view to the array,which is of the same shape as x (except when the field is a sub-array) \n",
      "\n",
      "x [\"a\"]:\n",
      " [[0 0]\n",
      " [0 0]]\n",
      "\n",
      "x [\"a\"].shape: same as x.shape:\n",
      " (2, 2)\n",
      "\n",
      "x [\"b\"]:\n",
      " [[[[0. 0. 0.]\n",
      "   [0. 0. 0.]\n",
      "   [0. 0. 0.]]\n",
      "\n",
      "  [[0. 0. 0.]\n",
      "   [0. 0. 0.]\n",
      "   [0. 0. 0.]]]\n",
      "\n",
      "\n",
      " [[[0. 0. 0.]\n",
      "   [0. 0. 0.]\n",
      "   [0. 0. 0.]]\n",
      "\n",
      "  [[0. 0. 0.]\n",
      "   [0. 0. 0.]\n",
      "   [0. 0. 0.]]]]\n",
      "\n",
      "x [\"b\"].shape: NOT same as x.shape:\n",
      " (2, 2, 3, 3)\n"
     ]
    }
   ],
   "source": [
    "x = np.zeros((2,2), dtype=[('a', np.int32), ('b', np.float64, (3,3))])\n",
    "print ('x:\\n', x)\n",
    "print ('\\nx.shape:\\n', x.shape)\n",
    "print ('Indexing x[\"field-name\"] returns a new view to the array,\\\n",
    "which is of the same shape as x (except when the field is a sub-array) ')\n",
    "print ('\\nx [\"a\"]:\\n', x ['a'])\n",
    "print ('\\nx [\"a\"].shape: same as x.shape:\\n', x ['a'].shape)\n",
    "print ('\\nx [\"b\"]:\\n', x ['b'])\n",
    "print ('\\nx [\"b\"].shape: NOT same as x.shape:\\n', x ['b'].shape)"
   ]
  },
  {
   "cell_type": "markdown",
   "metadata": {},
   "source": [
    "# C. <font color = orange><b>Array Properties</b></font>"
   ]
  },
  {
   "cell_type": "markdown",
   "metadata": {},
   "source": [
    "### shape"
   ]
  },
  {
   "cell_type": "markdown",
   "metadata": {},
   "source": [
    "> ndarray.**shape**"
   ]
  },
  {
   "cell_type": "code",
   "execution_count": 126,
   "metadata": {},
   "outputs": [
    {
     "name": "stdout",
     "output_type": "stream",
     "text": [
      "Shape of 2D matrix:  (3, 2)\n",
      "Shape of 3D matrix:  (3, 3, 2)\n"
     ]
    }
   ],
   "source": [
    "print ('Shape of 2D matrix: ', mat_2d.shape)\n",
    "print ('Shape of 3D matrix: ', mat_3d.shape)"
   ]
  },
  {
   "cell_type": "markdown",
   "metadata": {},
   "source": [
    "### size"
   ]
  },
  {
   "cell_type": "markdown",
   "metadata": {},
   "source": [
    "> ndarray.**size**"
   ]
  },
  {
   "cell_type": "code",
   "execution_count": null,
   "metadata": {},
   "outputs": [],
   "source": [
    "print ('Size of 2D matrix: ', mat_2d.size)\n",
    "print ('Size of 3D matrix: ', mat_3d.size) "
   ]
  },
  {
   "cell_type": "markdown",
   "metadata": {},
   "source": [
    "### number of dimensions"
   ]
  },
  {
   "cell_type": "markdown",
   "metadata": {},
   "source": [
    "> ndarray.ndim"
   ]
  },
  {
   "cell_type": "code",
   "execution_count": null,
   "metadata": {},
   "outputs": [],
   "source": [
    "print ('Dimensions of 2D matrix: ', mat_2d.ndim)\n",
    "print ('Dimensions of 3D matrix: ', mat_3d.ndim) "
   ]
  },
  {
   "cell_type": "markdown",
   "metadata": {},
   "source": [
    "- <font color = red><b>TODO TODO TODO</b></font>: ndarray.flags, dtype, itemsize, strides"
   ]
  },
  {
   "cell_type": "markdown",
   "metadata": {},
   "source": [
    "# D. <font color = orange><b>Array Broadcasting</b></font>"
   ]
  },
  {
   "cell_type": "markdown",
   "metadata": {},
   "source": [
    "Operations between **differently sized arrays** is called <font color = magenta><b>broadcasting</b></font>"
   ]
  },
  {
   "cell_type": "markdown",
   "metadata": {},
   "source": [
    "Operations between **same sized arrays** is called <font color = magenta><b>vectorization</b></font>"
   ]
  },
  {
   "cell_type": "markdown",
   "metadata": {},
   "source": [
    "## 1. Introduction"
   ]
  },
  {
   "cell_type": "markdown",
   "metadata": {},
   "source": [
    "NumPy provides a mechanism for performing mathematical <font color = magenta><b>operations</b></font> on arrays of <font color = magenta><b>unequal shapes</b></font>."
   ]
  },
  {
   "cell_type": "markdown",
   "metadata": {},
   "source": [
    "#### an example"
   ]
  },
  {
   "cell_type": "markdown",
   "metadata": {},
   "source": [
    "> an example of a **(3, 4) * (4, )** multiplication"
   ]
  },
  {
   "cell_type": "code",
   "execution_count": null,
   "metadata": {},
   "outputs": [],
   "source": [
    "x_2d = np.array ([[1, 2, 3, 4],\n",
    "                 [5, 6, 7, 8],\n",
    "                 [9, 10, 11, 12]])\n",
    "y_1d = np.array ([1, 2, 3, 4])\n",
    "print ('x.shape:', x_2d.shape)\n",
    "print ('y.shape:', y_1d.shape)\n",
    "print ('(x * y).shape:\\n', (x_2d * y_1d).shape)\n",
    "print ('x * y:\\n', x_2d * y_1d)"
   ]
  },
  {
   "cell_type": "markdown",
   "metadata": {},
   "source": [
    "#### Rules of Broadcasting"
   ]
  },
  {
   "cell_type": "markdown",
   "metadata": {},
   "source": [
    "To determine if two arrays are broadcast-compatible, align the entries of their shapes such that their trailing dimensions are aligned, and then check that each pair of aligned dimensions satisfy either of the following conditions:\n",
    "\n",
    "- the <font color = magenta><b>aligned dimensions</b></font> have the <font color = magenta><b>same size</b></font>\n",
    "- one of the dimensions has a <font color = magenta><b>size of 1</b></font>\n",
    "\n",
    "The two arrays are broadcast-compatible if **either of these conditions** are satisfied for each pair of aligned dimensions."
   ]
  },
  {
   "cell_type": "markdown",
   "metadata": {},
   "source": [
    "Broadcasting is not reserved for operations between 1-D and 2-D arrays, and furthermore **both arrays in an operation may undergo broadcasting**. That being said, not all pairs of arrays are broadcast-compatible."
   ]
  },
  {
   "cell_type": "markdown",
   "metadata": {},
   "source": [
    "#### Intuition"
   ]
  },
  {
   "cell_type": "markdown",
   "metadata": {},
   "source": [
    "- perform broadcasting of an array to a higher dimension <br>\n",
    "- use this intuition of broadcasting to understand how it happens when performing mathemarical operations on multiple arrays <br>\n",
    "- np.<font color = magenta><b>broadcast_to</b></font> (df, dim_tuple)"
   ]
  },
  {
   "cell_type": "code",
   "execution_count": null,
   "metadata": {},
   "outputs": [],
   "source": [
    "y = np.array([[ 0],\n",
    "                [ 1],\n",
    "            [-1]])\n",
    "print (y.shape)\n",
    "np.broadcast_to (y, (3, 3, 2))"
   ]
  },
  {
   "cell_type": "markdown",
   "metadata": {},
   "source": [
    "#### an example"
   ]
  },
  {
   "cell_type": "markdown",
   "metadata": {},
   "source": [
    "> an example of a **(3, 1, 2) * (3, 1)** multiplication <br>\n",
    "> (3, 1, 2) <br>\n",
    "> ....(3, 1) <br>\n",
    "> --------- <br>\n",
    "> (3, 3, 2) <br>\n",
    "> the second rule of broadcasting (one of the dimensions has a size of 1) is applicable"
   ]
  },
  {
   "cell_type": "code",
   "execution_count": null,
   "metadata": {},
   "outputs": [],
   "source": [
    "x = np.array([[[0, 1]],\n",
    "            [[2, 3]],\n",
    "            [[4, 5]]])\n",
    "print ('x.shape:', x.shape)\n",
    "print ('y.shape:', y.shape)\n",
    "print ('(x * y).shape:', (x * y).shape)\n",
    "print ('x * y:\\n', x * y)"
   ]
  },
  {
   "cell_type": "markdown",
   "metadata": {},
   "source": [
    "## 2. Inserting Size-1 Dimensions into An Array"
   ]
  },
  {
   "cell_type": "markdown",
   "metadata": {},
   "source": [
    "To tailor the shape <font color = magenta><b>for broadcasting</b></font>"
   ]
  },
  {
   "cell_type": "markdown",
   "metadata": {},
   "source": [
    "### using <font color = magenta><b>reshape</b></font>"
   ]
  },
  {
   "cell_type": "code",
   "execution_count": null,
   "metadata": {},
   "outputs": [],
   "source": [
    "print ('row_v:', row_v)\n",
    "print ('row_v.shape:', row_v.shape)\n",
    "print ('reshape.shape:', (row_v.reshape (1, row_v.shape[0], 1, 1)).shape)\n",
    "print ('reshaped:\\n', row_v.reshape (1, row_v.shape[0], 1, 1))"
   ]
  },
  {
   "cell_type": "markdown",
   "metadata": {},
   "source": [
    "> <font color = magenta><b>TODO TODO TODO</b></font> np.ravel - numpy.ravel( M[ : , 0] ) -- converts shape from (R, 1) to (R,)"
   ]
  },
  {
   "cell_type": "markdown",
   "metadata": {},
   "source": [
    "### using np.<font color = magenta><b>newaxis</b></font>"
   ]
  },
  {
   "cell_type": "markdown",
   "metadata": {},
   "source": [
    "> ndarray [np.newaxis<font color = magenta><b>, :, </b></font>np.newaxis, np.newaxis]"
   ]
  },
  {
   "cell_type": "code",
   "execution_count": null,
   "metadata": {},
   "outputs": [],
   "source": [
    "print ('row_v:', row_v)\n",
    "print ('row_v.shape:', row_v.shape)\n",
    "print ('newaxis.shape:', row_v [np.newaxis, :,\\\n",
    "                                np.newaxis, np.newaxis].shape)\n",
    "print ('reshaped:\\n', row_v [np.newaxis, :,\\\n",
    "                             np.newaxis, np.newaxis])"
   ]
  },
  {
   "cell_type": "markdown",
   "metadata": {},
   "source": [
    "## 3. Using size-1 dimension to make arrays broadcasting compatible"
   ]
  },
  {
   "cell_type": "code",
   "execution_count": null,
   "metadata": {},
   "outputs": [],
   "source": [
    "x_1d = np.array([1, 2, 3])\n",
    "print ('x_1d.shape:', x_1d.shape)\n",
    "print ('x_1d:\\n', x_1d)\n",
    "x_2d = x_1d.reshape (x_1d.shape[0], 1)\n",
    "print ('\\nx_2d.shape:', x_2d.shape)\n",
    "print ('x_2d:\\n', x_2d)\n",
    "y_1d = np.array ([4, 5, 6, 7])\n",
    "print ('\\ny_1d.shape:', y_1d.shape)\n",
    "print ('y_1d:\\n', y_1d)\n",
    "\n",
    "#ValueError: operands could not be broadcast together \n",
    "# with shapes (3,) (4,)\n",
    "#print (x_1d * y_1d)\n",
    "\n",
    "print ('\\n(x_2d * y_1d).shape:', (x_2d * y_1d).shape)\n",
    "print ('x_2d * y_1d:\\n', x_2d * y_1d)\n",
    "print ('\\ny_1d * x_2d:\\n', y_1d * x_2d)"
   ]
  },
  {
   "cell_type": "markdown",
   "metadata": {},
   "source": [
    "> An interesting application **Pairwise Distances** can be found at https://www.pythonlikeyoumeanit.com/Module3_IntroducingNumpy/Broadcasting.html#Size-1-Axes-&-The-newaxis-Object"
   ]
  },
  {
   "cell_type": "markdown",
   "metadata": {},
   "source": [
    "# E. <font color = orange><b>Indexing</b></font>"
   ]
  },
  {
   "cell_type": "markdown",
   "metadata": {},
   "source": [
    "Note:\n",
    "- The best way to think about **NumPy arrays** is that they consist of **two parts**, a <font color = magenta><b>data buffer</b></font> which is just a block of raw elements, and a <font color = magenta><b>view</b></font> which describes how to interpret the data buffer.\n",
    "- https://stackoverflow.com/questions/22053050/difference-between-numpy-array-shape-r-1-and-r"
   ]
  },
  {
   "cell_type": "markdown",
   "metadata": {},
   "source": [
    "## 1. Selection Object"
   ]
  },
  {
   "cell_type": "markdown",
   "metadata": {},
   "source": [
    "ndarray [<font color = magenta><b>selection_object</b></font>]\n",
    "selection_object can be\n",
    "- <font color = magenta><b>integers</b></font>\n",
    "- a <font color = magenta><b>selection</b></font> tuple\n",
    "- a <font color = magenta><b>slice</b></font> object\n",
    "- a <font color = magenta><b>Ellipsis</b></font> object\n",
    "- a <font color = magenta><b>numpy.newaxis</b></font> object\n",
    "- a <font color = magenta><b>non-tuple sequence</b></font> object"
   ]
  },
  {
   "cell_type": "markdown",
   "metadata": {},
   "source": [
    "## 2. Kinds of indexing"
   ]
  },
  {
   "cell_type": "markdown",
   "metadata": {},
   "source": [
    "There are three kinds of indexing available:\n",
    "- <font color = magenta><b>basic slicing</b></font>\n",
    "    - integers\n",
    "    - slice object\n",
    "- <font color = magenta><b>advanced indexing</b></font>\n",
    "- <font color = magenta><b>field access</b></font> <br>\n",
    "\n",
    "Which one occurs <font color = magenta><b>depends on the selection object</b></font>."
   ]
  },
  {
   "cell_type": "markdown",
   "metadata": {},
   "source": [
    "Note:\n",
    "- the rules of **basic indexing** specifically call for a **tuple of indices**. Supplying a **list of indices** <font color = magenta><b>triggers advanced indexing</b></font> rather than basic indexing!"
   ]
  },
  {
   "cell_type": "code",
   "execution_count": null,
   "metadata": {},
   "outputs": [],
   "source": [
    "print ('2D Array:\\n', mat_2d)\n",
    "print ('Using Basic Indexing [(1, -1)]:\\n',\\\n",
    "       mat_2d [(1, -1)])\n",
    "print ('Using Advanced Indexing [[1, -1]]:\\n',\\\n",
    "       mat_2d [[1, -1]])\n",
    "print ('Using Advanced Indexing [[1, -1], [-1]]:\\n',\\\n",
    "       mat_2d [[1, -1], [-1]])"
   ]
  },
  {
   "cell_type": "markdown",
   "metadata": {},
   "source": [
    "### 2.1 basic slicing"
   ]
  },
  {
   "cell_type": "markdown",
   "metadata": {},
   "source": [
    "Note:\n",
    "- the rules of **basic indexing** specifically call for a **tuple of indices**. Supplying a **list of indices** <font color = magenta><b>triggers advanced indexing</b></font> rather than basic indexing!"
   ]
  },
  {
   "cell_type": "markdown",
   "metadata": {},
   "source": [
    "All arrays generated by basic slicing are always <font color = magenta><b>views</b></font> of the original array.\n",
    "\n",
    "Note: <br>\n",
    "NumPy slicing creates a view **instead of a copy** as in the case of builtin Python sequences such as string, tuple and list. Care must be taken when extracting a small portion from a large array which becomes useless after the extraction, because the small portion extracted contains a reference to the large original array whose memory will not be released until all arrays derived from it are **garbage-collected**. In such cases an explicit **copy() is recommended**."
   ]
  },
  {
   "cell_type": "markdown",
   "metadata": {},
   "source": [
    "#### 2.1.1. selection object is <font color = magenta><b>integers</b></font> or <font color = magenta><b>tuple</b></font>"
   ]
  },
  {
   "cell_type": "markdown",
   "metadata": {},
   "source": [
    "Note:\n",
    "- In Python, x<font color = magenta><b>[(</b></font>exp1, exp2, ..., expN<font color = magenta><b>)]</b></font> is equivalent to x<font color = magenta><b>[</b></font>exp1, exp2, ..., expN<font color = magenta><b>]</b></font>; the latter is just <font color = magenta><b>syntactic sugar</b></font> for the former.\n",
    "- (exp1, exp2, ..., expN) is a <font color = magenta><b>selection tuple</b></font>."
   ]
  },
  {
   "cell_type": "code",
   "execution_count": null,
   "metadata": {},
   "outputs": [],
   "source": [
    "print (mat_2d [(2, 1)])\n",
    "print (mat_2d [2, 1]) #syntactic sugar\n",
    "print (mat_2d [2][1]) #is this too syntactic sugar? TODO\n",
    "print (mat_3d [(0,1,1)])"
   ]
  },
  {
   "cell_type": "markdown",
   "metadata": {},
   "source": [
    "#### 2.1.2. selection object is a <font color = magenta><b>slice object</b></font>"
   ]
  },
  {
   "cell_type": "markdown",
   "metadata": {},
   "source": [
    "> ndarray [<font color = magenta><b>slice object</b></font>] <br>\n",
    "> - ndarray [**start** : **stop** : **step**] <br>\n",
    "> - 'start : stop : step' is a **slice object** <br>\n",
    "> - <font color = magenta><b>class slice</b></font> (start, stop[, step])"
   ]
  },
  {
   "cell_type": "code",
   "execution_count": null,
   "metadata": {},
   "outputs": [],
   "source": [
    "print ('row vector:', row_v)\n",
    "start = 2\n",
    "stop = 8\n",
    "step = 2\n",
    "print ('Elements of row vector starting at ',\\\n",
    "       start, 'with step size of ', step,\\\n",
    "       '\\n ending at', stop, ': ',\\\n",
    "       row_v [start : stop : step])"
   ]
  },
  {
   "cell_type": "markdown",
   "metadata": {},
   "source": [
    "> <font color = magenta><b>slicing syntax forms a slice object</b></font> behind the scenes"
   ]
  },
  {
   "cell_type": "code",
   "execution_count": null,
   "metadata": {},
   "outputs": [],
   "source": [
    "print (row_v [start : stop : step])\n",
    "print (row_v [slice (start, stop, step)])"
   ]
  },
  {
   "cell_type": "markdown",
   "metadata": {},
   "source": [
    "> <font color = magenta><b>negative</b></font> start / stop / step"
   ]
  },
  {
   "cell_type": "markdown",
   "metadata": {},
   "source": [
    "Note:\n",
    "- Negative 'start' and 'stop' are interpreted as **n + start** and **n + stop** where n is the number of elements in the corresponding dimension.\n",
    "- Negative 'step' makes **stepping go towards smaller indices**."
   ]
  },
  {
   "cell_type": "code",
   "execution_count": null,
   "metadata": {},
   "outputs": [],
   "source": [
    "print (row_v)\n",
    "print ('neg_start pos_stop',  row_v [-5 : 8])\n",
    "print ('neg_start neg_stop',  row_v [-5 : -2])\n",
    "print ('neg_start neg_stop neg_step',  row_v [-2 : -5: -2])"
   ]
  },
  {
   "cell_type": "markdown",
   "metadata": {},
   "source": [
    "> <font color = magenta><b>default</b></font> indices"
   ]
  },
  {
   "cell_type": "markdown",
   "metadata": {},
   "source": [
    "Note:\n",
    "- Assume n is the number of elements in the dimension being sliced. Then, if i is not given it defaults to 0 for k > 0 and n - 1 for k < 0 . If j is not given it defaults to n for k > 0 and <font color = red><b>-n-1</b></font> for k < 0 . If k is not given it defaults to 1.\n",
    "- <font color = magenta><b>::</b></font> is the same as <font color = magenta><b>:</b></font> and means select all indices along this axis."
   ]
  },
  {
   "cell_type": "code",
   "execution_count": null,
   "metadata": {},
   "outputs": [],
   "source": [
    "# if i is not given it defaults to 0 for k > 0\n",
    "print ('if i is not given it defaults to 0 for k > 0:',\\\n",
    "       row_v [:8:1])\n",
    "# if i is not given it defaults to n - 1 for k < 0\n",
    "print ('if i is not given it defaults to n - 1 for k < 0:',\\\n",
    "       row_v [:8:-1])\n",
    "# If j is not given it defaults to n for k > 0\n",
    "print ('If j is not given it defaults to n for k > 0:',\\\n",
    "       row_v [0::1])\n",
    "# If j is not given it defaults to -n-1?? (or -1?) for k < 0\n",
    "print ('If j is not given it defaults to -n-1?? (or -1?) for k < 0:',\\\n",
    "       row_v [5::-1])\n",
    "# If k is not given it defaults to 1\n",
    "print ('If k is not given it defaults to 1:',\\\n",
    "       row_v[2:7])\n",
    "print ('ndarray [::]:', row_v [::])\n",
    "print ('ndarray [:]:', row_v [::])"
   ]
  },
  {
   "cell_type": "markdown",
   "metadata": {},
   "source": [
    "#### 2.1.3. selection object is a <font color = magenta><b>tuple of integers and slice objects</b></font>"
   ]
  },
  {
   "cell_type": "code",
   "execution_count": null,
   "metadata": {},
   "outputs": [],
   "source": [
    "print ('mat_2d:\\n', mat_2d)\n",
    "print ('mat_2d.shape:\\n', mat_2d.shape)\n",
    "print ('mat_2d [0:3:2, 1]:', mat_2d [0:3:2, 1])"
   ]
  },
  {
   "cell_type": "markdown",
   "metadata": {},
   "source": [
    "> An integer, i, returns the same values as i:i+1 except the <font color = magenta><b>dimensionality</b></font> of the returned object is <font color = magenta><b>reduced by 1</b></font>."
   ]
  },
  {
   "cell_type": "code",
   "execution_count": null,
   "metadata": {},
   "outputs": [],
   "source": [
    "print ('row_v:', row_v)\n",
    "print ('row_v.shape:', row_v.shape)\n",
    "print ('row_v [2]:', row_v [2])\n",
    "print ('row_v [2].shape:', row_v [2].shape)\n",
    "print ('row_v [2:3]:', row_v [2:3])\n",
    "print ('row_v [2:3].shape:', row_v [2:3].shape)"
   ]
  },
  {
   "cell_type": "markdown",
   "metadata": {},
   "source": [
    "#### 2.1.4. selection object is a <font color = magenta><b>tuple of Ellipsis and slice objects</b></font>"
   ]
  },
  {
   "cell_type": "code",
   "execution_count": null,
   "metadata": {},
   "outputs": [],
   "source": [
    "print ('mat_2d:\\n', mat_2d)\n",
    "print ('mat_2d.shape:\\n', mat_2d.shape)\n",
    "print ('all rows, col_0: mat_2d [..., 0:1:1]:\\n', mat_2d [..., 0:1:1])\n",
    "print ('shape:', mat_2d [..., 0:1:1].shape)"
   ]
  },
  {
   "cell_type": "markdown",
   "metadata": {},
   "source": [
    "#### 2.1.5. selection object is a <font color = magenta><b>tuple of Ellipsis and integers</b></font>"
   ]
  },
  {
   "cell_type": "markdown",
   "metadata": {},
   "source": [
    "Ellipsis **expands to** the number of : objects needed for the **selection tuple to index all dimensions**. In most cases, this means that <font color = magenta><b>length of the expanded selection tuple is x.ndim</b></font>. There may only be a single ellipsis present."
   ]
  },
  {
   "cell_type": "code",
   "execution_count": null,
   "metadata": {},
   "outputs": [],
   "source": [
    "print ('mat_2d:\\n', mat_2d)\n",
    "print ('mat_2d.shape:\\n', mat_2d.shape)\n",
    "print ('all rows, col_1: mat_2d [..., 1]:\\n', mat_2d [..., 1])\n",
    "print ('all rows, col_1: mat_2d [:, 1]:\\n', mat_2d [:, 1])\n",
    "print ('shape:', mat_2d [..., 1].shape)\n",
    "print ('Note that the last dimension unfolded.')\n",
    "print ('Here the shape (3,) means the array is indexed \\\n",
    "by a single index which runs from 0 to 2')\n",
    "\n",
    "print ('\\n\\nmat_3d:\\n', mat_3d)\n",
    "print ('mat_3d.shape:\\n', mat_3d.shape)\n",
    "print ('all rows of rows, col_1: mat_3d [..., 1]:\\n', mat_3d [..., 1])\n",
    "print ('all rows of rows, col_1: mat_3d [:, :, 1]:\\n', mat_3d [:, :, 1])\n",
    "print ('shape:', mat_3d [..., 1].shape)\n",
    "print ('Note that the last dimension unfolded.')\n",
    "\n",
    "print ('\\n\\nmat_3d:\\n', mat_3d)\n",
    "print ('mat_3d.shape:\\n', mat_3d.shape)\n",
    "print ('all rows, col_0 of dim2, col_1 of dim3: mat_3d [..., 0, 1]:\\n',\\\n",
    "       mat_3d [..., 0, 1])\n",
    "print ('all rows, col_0 of dim2, col_1 of dim3: mat_3d [:, 0, 1]:\\n',\\\n",
    "       mat_3d [:, 0, 1])\n",
    "print ('shape:', mat_3d [..., 0, 1].shape)\n",
    "print ('Note that both the second-last and last dimensions unfolded.')"
   ]
  },
  {
   "cell_type": "markdown",
   "metadata": {},
   "source": [
    "#### 2.1.6. selection object is the <font color = magenta><b>newaxis object</b></font>"
   ]
  },
  {
   "cell_type": "markdown",
   "metadata": {},
   "source": [
    "np.<font color = magenta><b>newaxis</b></font>"
   ]
  },
  {
   "cell_type": "markdown",
   "metadata": {},
   "source": [
    "Each newaxis object in the selection tuple serves to <font color = magenta><b>expand the dimensions</b></font> of the resulting selection by one unit-length dimension. The added dimension is the position of the newaxis object in the selection tuple."
   ]
  },
  {
   "cell_type": "code",
   "execution_count": null,
   "metadata": {},
   "outputs": [],
   "source": [
    "print ('mat_2d:\\n', mat_2d)\n",
    "print ('mat_2d.shape:\\n', mat_2d.shape)\n",
    "print ('\\nmat_2d [1]:\\n', mat_2d [1],\\\n",
    "       'shape:', mat_2d [1].shape)\n",
    "print ('Expanded dimension: mat_2d [np.newaxis, 1]:\\n',\\\n",
    "       mat_2d [np.newaxis, 1],\\\n",
    "       'shape:', mat_2d [np.newaxis, 1].shape)\n",
    "\n",
    "print ('\\nmat_2d [:, 1]:\\n', mat_2d [:, 1],\\\n",
    "      'shape:', mat_2d [:, 1].shape)\n",
    "print ('Expanded dimension: mat_2d [:, 1, np.newaxis]:\\n',\\\n",
    "       mat_2d [:, 1, np.newaxis],\\\n",
    "      'shape:', mat_2d [:, 1, np.newaxis].shape)"
   ]
  },
  {
   "cell_type": "markdown",
   "metadata": {},
   "source": [
    "np.newaxis can be used to **add a dimension to an extracted row or column**, <font color = magenta><b>to avoid calling ndarray.reshape()</b></font>, when making matrices size compatible for various operations.\n",
    "-  https://stackoverflow.com/questions/22053050/difference-between-numpy-array-shape-r-1-and-r"
   ]
  },
  {
   "cell_type": "code",
   "execution_count": null,
   "metadata": {},
   "outputs": [],
   "source": [
    "print ('mat_2d:\\n', mat_2d)\n",
    "print ('mat_2d.shape:\\n', mat_2d.shape)\n",
    "\n",
    "print ('\\nfetch a row: mat_2d [1]:\\n', mat_2d [1])\n",
    "print ('Note the trailing \",\" : mat_2d [1].shape:', mat_2d [1].shape)\n",
    "print ('fetch a row: mat_2d [np.newaxis, 1]:\\n', mat_2d [np.newaxis, 1],\\\n",
    "       'shape:', mat_2d [np.newaxis, 1].shape)\n",
    "\n",
    "print ('\\nfetch a column: mat_2d [:, 1]:\\n', mat_2d [:, 1])\n",
    "print ('Note the trailing \",\" : mat_2d [:, 1].shape:',\\\n",
    "       mat_2d [:, 1].shape)\n",
    "print ('fetch a column: mat_2d [:, 1, np.newaxis]:\\n',\\\n",
    "       mat_2d [:, 1, np.newaxis],\\\n",
    "      'shape:', mat_2d [:, 1, np.newaxis].shape)\n"
   ]
  },
  {
   "cell_type": "markdown",
   "metadata": {},
   "source": [
    "#### 2.1.7 Basic slicing <font color = magenta><b>extends</b></font> Python’s basic concept of slicing to <font color = magenta><b>N dimensions</b></font>."
   ]
  },
  {
   "cell_type": "code",
   "execution_count": null,
   "metadata": {},
   "outputs": [],
   "source": [
    "print ('2D array:\\n', mat_2d)\n",
    "print ('first two elements of col_1:\\n', mat_2d [0:2:1, 1:2:1])\n",
    "# 0:2:1 - selects rows [0,1]\n",
    "# 1:2:1 - selects cols [1]\n",
    "print ('all two elements of col_1:\\n', mat_2d [:, 1:2:1])"
   ]
  },
  {
   "cell_type": "markdown",
   "metadata": {},
   "source": [
    "### 2.2 advanced indexing"
   ]
  },
  {
   "cell_type": "markdown",
   "metadata": {},
   "source": [
    "#### 2.2.1 introduction"
   ]
  },
  {
   "cell_type": "markdown",
   "metadata": {},
   "source": [
    "Advanced indexing is triggered when the selection object is:\n",
    "- a non-tuple **sequence** object\n",
    "- an **ndarray** (of data type integer or bool)\n",
    "- **tuple** with at least one\n",
    "    - sequence object, or\n",
    "    - ndarray (of data type integer or bool)."
   ]
  },
  {
   "cell_type": "markdown",
   "metadata": {},
   "source": [
    "Advanced indexing always returns a <font color = magenta><b>copy of the data</b></font> (contrast with basic slicing that returns a view)"
   ]
  },
  {
   "cell_type": "markdown",
   "metadata": {},
   "source": [
    "Note:\n",
    "- the rules of **basic indexing** specifically call for a **tuple of indices**. Supplying a **list of indices** <font color = magenta><b>triggers advanced indexing</b></font> rather than basic indexing!"
   ]
  },
  {
   "cell_type": "code",
   "execution_count": null,
   "metadata": {},
   "outputs": [],
   "source": [
    "print ('2D Array:\\n', mat_2d)\n",
    "print ('Using Basic Indexing [(1, -1)]:\\n',\\\n",
    "       mat_2d [(1, -1)])\n",
    "print ('Using Advanced Indexing [[1, -1]]:\\n',\\\n",
    "       mat_2d [[1, -1]])\n",
    "print ('Using Advanced Indexing [[1, -1], [-1]]:\\n',\\\n",
    "       mat_2d [[1, -1], [-1]])"
   ]
  },
  {
   "cell_type": "markdown",
   "metadata": {},
   "source": [
    "The definition of advanced indexing means that **x[(1,2,3),]** is fundamentally different than **x[(1,2,3)]**. The latter is equivalent to x[1,2,3] which will trigger basic selection while the former will trigger advanced indexing. It is a <font color = magenta><b>sequence</b></font>."
   ]
  },
  {
   "cell_type": "code",
   "execution_count": null,
   "metadata": {},
   "outputs": [],
   "source": [
    "x = np.array ([[0, 1, 2], [3, 4, 5]])\n",
    "print ('x:', x)\n",
    "print ('\\nTuple as a selection object: x[(0, 1)]:\\n', x[(0, 1)])\n",
    "print ('\\nSequence as a selection object: x[(0, 1), ]:\\n', x[(0, 1), ])\n",
    "print ('\\nSequence as a selection object: x[(0, 1), (2), ]:\\n', x[(0, 1), (2), ])"
   ]
  },
  {
   "cell_type": "markdown",
   "metadata": {},
   "source": [
    "#### 2.2.2 integer array indexing"
   ]
  },
  {
   "cell_type": "markdown",
   "metadata": {},
   "source": [
    "**example**"
   ]
  },
  {
   "cell_type": "code",
   "execution_count": null,
   "metadata": {},
   "outputs": [],
   "source": [
    "print ('mat_3d:\\n', mat_3d)\n",
    "print ('\\nmat_3d [[0, 1], [1], [1]]:\\n', mat_3d [[0, 1], [1], [1]])"
   ]
  },
  {
   "cell_type": "markdown",
   "metadata": {},
   "source": [
    "**example** - get corner elements"
   ]
  },
  {
   "cell_type": "code",
   "execution_count": null,
   "metadata": {},
   "outputs": [],
   "source": [
    "x = np.array([[ 0,  1,  2],\n",
    "            [ 3,  4,  5],\n",
    "            [ 6,  7,  8],\n",
    "            [ 9, 10, 11]])\n",
    "print (x, '\\n')\n",
    "rows = [[0, 0], [3, 3]]\n",
    "cols = [[0, 2], [0, 2]]\n",
    "print (x [rows, cols])"
   ]
  },
  {
   "cell_type": "markdown",
   "metadata": {},
   "source": [
    "**example** - get corner elements - using <font color = magenta><b>broadcasting</b></font> - using np.<font color = magenta><b>ix_</b></font>"
   ]
  },
  {
   "cell_type": "code",
   "execution_count": null,
   "metadata": {},
   "outputs": [],
   "source": [
    "rows = np.array ([0, 3])\n",
    "cols = np.array ([0, 2])\n",
    "print ('rows:', rows)\n",
    "print ('cols', cols)\n",
    "print ('\\nindex for broadcasting: rows [:, np.newaxis]:\\n',\\\n",
    "       rows [:, np.newaxis])\n",
    "print ('rows [:, np.newaxis].shape: ', rows [:, np.newaxis].shape)\n",
    "print ('cols.shape:', cols.shape)\n",
    "print ('broadcasting index will be (2, 2)')\n",
    "print ('\\nx [rows [:, np.newaxis], cols]:\\n',\\\n",
    "       x [rows [:, np.newaxis], cols])\n",
    "print ('\\nx [np.ix_ (rows, cols)]:\\n', x [np.ix_ (rows, cols)])"
   ]
  },
  {
   "cell_type": "markdown",
   "metadata": {},
   "source": [
    "#### 2.2.3 boolean array indexing"
   ]
  },
  {
   "cell_type": "markdown",
   "metadata": {},
   "source": [
    "#### ndarray.<font color = magenta><b>nonzero</b></font> ()"
   ]
  },
  {
   "cell_type": "code",
   "execution_count": null,
   "metadata": {},
   "outputs": [],
   "source": [
    "x = np.array ([1, 2, 0, 7, 4, 2, 0, 6, 8])\n",
    "print ('x:\\n', x)\n",
    "print ('x.nonzero () returns a tuple:', x.nonzero ())\n",
    "print ('get non-zero elements:', x[x.nonzero ()])"
   ]
  },
  {
   "cell_type": "markdown",
   "metadata": {},
   "source": [
    "np.<font color = magenta><b>isnan</b></font> (ndarray)"
   ]
  },
  {
   "cell_type": "code",
   "execution_count": null,
   "metadata": {},
   "outputs": [],
   "source": [
    "x = np.array([[1., 2.], [np.nan, 3.], [np.nan, np.nan]])\n",
    "print ('x:\\n', x)\n",
    "print ('\\nnp.isnan (x):\\n', np.isnan (x))\n",
    "#bool_array = np.isnan (x)\n",
    "#print ('bool_array:\\n', bool_array)\n",
    "#idx = bool_array.nonzero ()\n",
    "#print ('idx:\\n', idx)\n",
    "print ('\\nx [~np.isnan (x)]:\\n', x [~np.isnan (x)])"
   ]
  },
  {
   "cell_type": "markdown",
   "metadata": {},
   "source": [
    "#### ndarray [<font color = magenta><b>condition</b></font>]"
   ]
  },
  {
   "cell_type": "code",
   "execution_count": null,
   "metadata": {},
   "outputs": [],
   "source": [
    "x = np.array ([1, 2, 0, 7, 4, 2, 0, 6, 8])\n",
    "print ('x:\\n', x)\n",
    "print ('\\nx [x < 7]:\\n', x [x < 7])"
   ]
  },
  {
   "cell_type": "markdown",
   "metadata": {},
   "source": [
    "In general if an index includes a Boolean array, the result will be **identical to inserting sel_obj.nonzero()** into the same position and using the integer array indexing mechanism"
   ]
  },
  {
   "cell_type": "markdown",
   "metadata": {},
   "source": [
    "x[ind_1, boolean_array, ind_2] is equivalent to x[(ind_1,) + **boolean_array.nonzero()** + (ind_2,)]."
   ]
  },
  {
   "cell_type": "code",
   "execution_count": null,
   "metadata": {},
   "outputs": [],
   "source": [
    "x = np.array ([1, 2, 0, 7, 4, 2, 0, 6, 8])\n",
    "print ('x:\\n', x)\n",
    "print ('\\nx < 5:\\n', x < 5)\n",
    "print ('\\nx < 5:\\n', (x < 5).nonzero ())\n",
    "print ('\\nx [(x < 5).nonzero ()]:\\n', x [(x < 5).nonzero ()])"
   ]
  },
  {
   "cell_type": "markdown",
   "metadata": {},
   "source": [
    "select all **rows** which **sum up to less or equal** two"
   ]
  },
  {
   "cell_type": "code",
   "execution_count": null,
   "metadata": {},
   "outputs": [],
   "source": [
    "x = np.array([[0, 1], [1, 1], [2, 2]])\n",
    "print ('x:\\n', x)\n",
    "print ('\\nx.shape:\\n', x.shape)\n",
    "rowsum = x.sum (-1)\n",
    "print ('\\nrowsum: x.sum (-1): \\n', rowsum)\n",
    "print ('\\nx [rowsum <= 2, :]:\\n', x [rowsum <= 2, :])"
   ]
  },
  {
   "cell_type": "markdown",
   "metadata": {},
   "source": [
    "<font color = red><b>TODO</b></font> if **rowsum** would have **two dimensions** as well - <font color = magenta><b>keepdims</b></font>"
   ]
  },
  {
   "cell_type": "markdown",
   "metadata": {},
   "source": [
    "x = np.array([[0, 1], [1, 1], [2, 2]])\n",
    "print ('x:\\n', x)\n",
    "print ('\\nx.shape:\\n', x.shape)\n",
    "rowsum = x.sum (-1, keepdims = True)\n",
    "print ('\\nrowsum: x.sum (-1): \\n', rowsum)\n",
    "print ('\\nrowsum.shape \\n', rowsum.shape)\n",
    "#print ('\\nrowsum.nonzero() \\n', rowsum.nonzero ())\n",
    "print ('\\nx [rowsum <= 2]: no need of \", :\"\\n')\n",
    "print (x [rowsum <= 2])"
   ]
  },
  {
   "cell_type": "markdown",
   "metadata": {},
   "source": [
    "**x [condition] += n**"
   ]
  },
  {
   "cell_type": "markdown",
   "metadata": {},
   "source": [
    "Note:\n",
    "- x is on LHS, so, the origiinal x gets replaced by the copy that advanced indexing created"
   ]
  },
  {
   "cell_type": "code",
   "execution_count": null,
   "metadata": {},
   "outputs": [],
   "source": [
    "x = np.array ([1, -2, 0, 7, -4, 2, 0, -6, 8])\n",
    "print ('x:\\n', x)\n",
    "print ('\\nx [x < 0] += 20')\n",
    "x [x < 0] += 20\n",
    "print ('\\nx:\\n', x)"
   ]
  },
  {
   "cell_type": "markdown",
   "metadata": {},
   "source": [
    "### 2.3 field access"
   ]
  },
  {
   "cell_type": "markdown",
   "metadata": {},
   "source": [
    "Refer '<font color = magenta><b>Structured arrays and Field Access</b></font>' in the preliminaries section."
   ]
  },
  {
   "cell_type": "markdown",
   "metadata": {},
   "source": [
    "## 3. flat iterator indexing"
   ]
  },
  {
   "cell_type": "markdown",
   "metadata": {},
   "source": [
    "x.flat returns an iterator that will iterate over the entire array. This iterator object can also be indexed using **basic slicing** or **advanced indexing** as long as the **selection object is not a tuple**. This should be clear from the fact that x.flat is a <font color = magenta><b>1-dimensional view</b></font>."
   ]
  },
  {
   "cell_type": "markdown",
   "metadata": {},
   "source": [
    "https://www.geeksforgeeks.org/numpy-indexing/"
   ]
  },
  {
   "cell_type": "code",
   "execution_count": null,
   "metadata": {},
   "outputs": [],
   "source": [
    "x = np.array([[ 0,  1,  2],\n",
    "            [ 3,  4,  5],\n",
    "            [ 6,  7,  8],\n",
    "            [ 9, 10, 11]])\n",
    "\n",
    "print ('x:\\n', x)\n",
    "print ('\\nx [0:2]:\\n', x [0:2])\n",
    "print ('\\nx.flat [0:2]:\\n', x.flat [0:2])"
   ]
  },
  {
   "cell_type": "markdown",
   "metadata": {},
   "source": [
    "# F. <font color = orange><b>Vectorized Operations</b></font>"
   ]
  },
  {
   "cell_type": "markdown",
   "metadata": {},
   "source": [
    "Operations between **differently sized arrays** is called <font color = magenta><b>broadcasting</b></font>"
   ]
  },
  {
   "cell_type": "markdown",
   "metadata": {},
   "source": [
    "Operations between **same sized arrays** is called <font color = magenta><b>vectorization</b></font>"
   ]
  },
  {
   "cell_type": "markdown",
   "metadata": {},
   "source": [
    "## a. Introduction"
   ]
  },
  {
   "cell_type": "markdown",
   "metadata": {},
   "source": [
    "https://www.pythonlikeyoumeanit.com/Module3_IntroducingNumpy/VectorizedOperations.html"
   ]
  },
  {
   "cell_type": "markdown",
   "metadata": {},
   "source": [
    "### 1. data"
   ]
  },
  {
   "cell_type": "code",
   "execution_count": 23,
   "metadata": {},
   "outputs": [],
   "source": [
    "x = np.array([[ 0.,  1.,  2.],\n",
    "            [ 3.,  4.,  5.],\n",
    "            [ 6.,  7.,  8.]])\n",
    "\n",
    "y = np.array([[-4. , -3.5, -3. ],\n",
    "            [-2.5, -2. , -1.5],\n",
    "            [-1. , -0.5, -0. ]])"
   ]
  },
  {
   "cell_type": "markdown",
   "metadata": {},
   "source": [
    "The examples that follow are based on a **taxonomy** of:\n",
    "- operations on elements of a single array\n",
    "- operations on 'corresponding' elements of two arrays\n",
    "- operations on elements of a single array using the same scalar\n",
    "- summary operations on elements of a single array"
   ]
  },
  {
   "cell_type": "markdown",
   "metadata": {},
   "source": [
    "Refer '<font color = blue><b>Taxonomy of Operations</b></font>' further below for another taxonomy."
   ]
  },
  {
   "cell_type": "markdown",
   "metadata": {},
   "source": [
    "### 2. example of <font color = magenta><b>operations on entries</b></font> of a single array"
   ]
  },
  {
   "cell_type": "markdown",
   "metadata": {},
   "source": [
    "> <font color = red><b>unary</b></font> operations? <br>\n",
    "> Operations on a single array are <font color = magenta><b>not necessarily unary</b></font>\n",
    "> > example: the **logical (binary) operation** x < 6"
   ]
  },
  {
   "cell_type": "markdown",
   "metadata": {},
   "source": [
    "Arithmetic operations **with scalars** are as you would expect, **propagating** the value <font color = magenta><b>to each element</b></font>"
   ]
  },
  {
   "cell_type": "markdown",
   "metadata": {},
   "source": [
    "#### square - this is a <font color = magenta><b>binary</b></font> operation : x ** y"
   ]
  },
  {
   "cell_type": "code",
   "execution_count": 24,
   "metadata": {},
   "outputs": [
    {
     "data": {
      "text/plain": [
       "array([[ 0.,  1.,  4.],\n",
       "       [ 9., 16., 25.],\n",
       "       [36., 49., 64.]])"
      ]
     },
     "execution_count": 24,
     "metadata": {},
     "output_type": "execute_result"
    }
   ],
   "source": [
    "x ** 2"
   ]
  },
  {
   "cell_type": "markdown",
   "metadata": {},
   "source": [
    "#### np.<font color = magenta><b>sqrt</b></font> (ndarray)"
   ]
  },
  {
   "cell_type": "code",
   "execution_count": 25,
   "metadata": {},
   "outputs": [
    {
     "data": {
      "text/plain": [
       "array([[0.        , 1.        , 1.41421356],\n",
       "       [1.73205081, 2.        , 2.23606798],\n",
       "       [2.44948974, 2.64575131, 2.82842712]])"
      ]
     },
     "execution_count": 25,
     "metadata": {},
     "output_type": "execute_result"
    }
   ],
   "source": [
    "np.sqrt (x)"
   ]
  },
  {
   "cell_type": "markdown",
   "metadata": {},
   "source": [
    "operations on a <font color = magenta><b>slice of an array</b></font>"
   ]
  },
  {
   "cell_type": "code",
   "execution_count": 26,
   "metadata": {},
   "outputs": [
    {
     "name": "stdout",
     "output_type": "stream",
     "text": [
      "x:\n",
      " [[0. 1. 2.]\n",
      " [3. 4. 5.]\n",
      " [6. 7. 8.]]\n",
      "\n",
      "Add 0.5 to the second column\n",
      "\n",
      "0.5 + x [:, 1]:\n",
      " [1.5 4.5 7.5]\n"
     ]
    }
   ],
   "source": [
    "print ('x:\\n', x)\n",
    "print ('\\nAdd 0.5 to the second column')\n",
    "print ('\\n0.5 + x [:, 1]:\\n', 0.5 + x [:, 1])"
   ]
  },
  {
   "cell_type": "markdown",
   "metadata": {},
   "source": [
    "<font color = magenta><b>logical operation</b></font> - this is a <font color = magenta><b>binary</b></font> operation : x < y"
   ]
  },
  {
   "cell_type": "code",
   "execution_count": 28,
   "metadata": {},
   "outputs": [
    {
     "name": "stdout",
     "output_type": "stream",
     "text": [
      "x < 5:\n",
      " [[ True  True  True]\n",
      " [ True  True False]\n",
      " [False False False]]\n"
     ]
    }
   ],
   "source": [
    "print ('x < 5:\\n', x < 5)"
   ]
  },
  {
   "cell_type": "markdown",
   "metadata": {},
   "source": [
    "### 3. mathematical operations performed between <font color = magenta><b>two arrays</b></font> are designed to act on the <font color = magenta><b>corresponding pairs of entries</b></font> between the two arrays"
   ]
  },
  {
   "cell_type": "markdown",
   "metadata": {},
   "source": [
    "> <font color = magenta><b>binary</b></font> operations?"
   ]
  },
  {
   "cell_type": "markdown",
   "metadata": {},
   "source": [
    "#### <font color = magenta><b>+</b></font> operator"
   ]
  },
  {
   "cell_type": "code",
   "execution_count": 37,
   "metadata": {},
   "outputs": [
    {
     "name": "stdout",
     "output_type": "stream",
     "text": [
      "x:\n",
      " [[0. 1. 2.]\n",
      " [3. 4. 5.]\n",
      " [6. 7. 8.]]\n",
      "\n",
      "y:\n",
      " [[-4.  -3.5 -3. ]\n",
      " [-2.5 -2.  -1.5]\n",
      " [-1.  -0.5 -0. ]]\n",
      "\n",
      "x + y:\n",
      " [[-4.  -2.5 -1. ]\n",
      " [ 0.5  2.   3.5]\n",
      " [ 5.   6.5  8. ]]\n"
     ]
    }
   ],
   "source": [
    "print ('x:\\n', x)\n",
    "print ('\\ny:\\n', y)\n",
    "print ('\\nx + y:\\n', x + y)"
   ]
  },
  {
   "cell_type": "markdown",
   "metadata": {},
   "source": [
    "#### <font color = magenta><b>*</b></font> operator"
   ]
  },
  {
   "cell_type": "code",
   "execution_count": 38,
   "metadata": {},
   "outputs": [
    {
     "name": "stdout",
     "output_type": "stream",
     "text": [
      "x:\n",
      " [[0. 1. 2.]\n",
      " [3. 4. 5.]\n",
      " [6. 7. 8.]]\n",
      "\n",
      "y:\n",
      " [[-4.  -3.5 -3. ]\n",
      " [-2.5 -2.  -1.5]\n",
      " [-1.  -0.5 -0. ]]\n",
      "\n",
      "x * y:\n",
      " [[-0.  -3.5 -6. ]\n",
      " [-7.5 -8.  -7.5]\n",
      " [-6.  -3.5 -0. ]]\n"
     ]
    }
   ],
   "source": [
    "print ('x:\\n', x)\n",
    "print ('\\ny:\\n', y)\n",
    "print ('\\nx * y:\\n', x * y)"
   ]
  },
  {
   "cell_type": "markdown",
   "metadata": {},
   "source": [
    "<font color = red><b>(minus) 0 ?</b></font> in x*y [0][0]"
   ]
  },
  {
   "cell_type": "markdown",
   "metadata": {},
   "source": [
    "np.<font color = magenta><b>dot</b></font> and np.<font color = magenta><b>multiply</b></font>"
   ]
  },
  {
   "cell_type": "markdown",
   "metadata": {},
   "source": [
    "This function returns the dot product of two arrays. For **1-D** arrays, it is the <font color = magenta><b>inner product</b></font> of the vectors."
   ]
  },
  {
   "cell_type": "code",
   "execution_count": 39,
   "metadata": {},
   "outputs": [
    {
     "data": {
      "text/plain": [
       "6"
      ]
     },
     "execution_count": 39,
     "metadata": {},
     "output_type": "execute_result"
    }
   ],
   "source": [
    "np.dot(np.array([1, -3, 4]), np.array([2, 0, 1]))"
   ]
  },
  {
   "cell_type": "markdown",
   "metadata": {},
   "source": [
    "For **2-D** vectors, it is the **equivalent to matrix multiplication**. np.<font color = magenta><b>matmul</b></font>"
   ]
  },
  {
   "cell_type": "code",
   "execution_count": 40,
   "metadata": {},
   "outputs": [
    {
     "name": "stdout",
     "output_type": "stream",
     "text": [
      "x:\n",
      " [[0. 1. 2.]\n",
      " [3. 4. 5.]\n",
      " [6. 7. 8.]]\n",
      "\n",
      "y:\n",
      " [[-4.  -3.5 -3. ]\n",
      " [-2.5 -2.  -1.5]\n",
      " [-1.  -0.5 -0. ]]\n",
      "\n",
      "np.dot (x, y):\n",
      " [[ -4.5  -3.   -1.5]\n",
      " [-27.  -21.  -15. ]\n",
      " [-49.5 -39.  -28.5]]\n",
      "\n",
      "np.matmul (x, y):\n",
      " [[ -4.5  -3.   -1.5]\n",
      " [-27.  -21.  -15. ]\n",
      " [-49.5 -39.  -28.5]]\n"
     ]
    }
   ],
   "source": [
    "print ('x:\\n', x)\n",
    "print ('\\ny:\\n', y)\n",
    "print ('\\nnp.dot (x, y):\\n', np.dot (x, y))\n",
    "print ('\\nnp.matmul (x, y):\\n', np.matmul (x, y))"
   ]
  },
  {
   "cell_type": "markdown",
   "metadata": {},
   "source": [
    "**Is matmul a vectorized operation?**"
   ]
  },
  {
   "cell_type": "markdown",
   "metadata": {},
   "source": [
    "np.<font color = magenta><b>multiply</b></font>"
   ]
  },
  {
   "cell_type": "code",
   "execution_count": 43,
   "metadata": {},
   "outputs": [
    {
     "name": "stdout",
     "output_type": "stream",
     "text": [
      "x:\n",
      " [[0. 1. 2.]\n",
      " [3. 4. 5.]\n",
      " [6. 7. 8.]]\n",
      "\n",
      "y:\n",
      " [[-4.  -3.5 -3. ]\n",
      " [-2.5 -2.  -1.5]\n",
      " [-1.  -0.5 -0. ]]\n",
      "\n",
      "np.multiply (x, y):\n",
      " [[-0.  -3.5 -6. ]\n",
      " [-7.5 -8.  -7.5]\n",
      " [-6.  -3.5 -0. ]]\n"
     ]
    }
   ],
   "source": [
    "print ('x:\\n', x)\n",
    "print ('\\ny:\\n', y)\n",
    "print ('\\nnp.multiply (x, y):\\n', np.multiply (x, y))"
   ]
  },
  {
   "cell_type": "markdown",
   "metadata": {},
   "source": [
    "### 4. Operate on <font color = magenta><b>sequences of numbers</b></font>"
   ]
  },
  {
   "cell_type": "markdown",
   "metadata": {},
   "source": [
    "<font color = magenta><b>Sequential functions</b></font> can act on an array’s entries **as if they form a single sequence**, or act on subsequences of the array’s entries, according to the array’s axes."
   ]
  },
  {
   "cell_type": "markdown",
   "metadata": {},
   "source": [
    "#### <font color = magenta><b>sum</b></font>"
   ]
  },
  {
   "cell_type": "code",
   "execution_count": 6,
   "metadata": {},
   "outputs": [
    {
     "name": "stdout",
     "output_type": "stream",
     "text": [
      "x:\n",
      " [[0. 1. 2.]\n",
      " [3. 4. 5.]\n",
      " [6. 7. 8.]]\n",
      "\n",
      "sum (x):\n",
      " [ 9. 12. 15.]\n",
      "\n",
      "np.sum (x):\n",
      " 36.0\n",
      "\n",
      "np.sum (x, axis = 0):\n",
      " [ 9. 12. 15.]\n",
      "\n",
      "np.sum (x, axis = 1):\n",
      " [ 3. 12. 21.]\n"
     ]
    }
   ],
   "source": [
    "print ('x:\\n', x)\n",
    "print ('\\nsum (x):\\n', sum (x))\n",
    "print ('\\nnp.sum (x):\\n', np.sum (x))\n",
    "print ('\\nnp.sum (x, axis = 0):\\n', np.sum (x, axis = 0))\n",
    "print ('\\nnp.sum (x, axis = 1):\\n', np.sum (x, axis = 1))"
   ]
  },
  {
   "cell_type": "markdown",
   "metadata": {},
   "source": [
    "Why is **python sum** <font color = red><b>summing up columns</b></font>? , and returning ndarray too?"
   ]
  },
  {
   "cell_type": "markdown",
   "metadata": {},
   "source": [
    "## b. Taxonomy of Operations"
   ]
  },
  {
   "cell_type": "markdown",
   "metadata": {},
   "source": [
    "### i. <font color = magenta><b>Mathematical</b></font> Operations"
   ]
  },
  {
   "cell_type": "markdown",
   "metadata": {},
   "source": [
    "#### 1. Unary Functions: <font color = magenta><b>f (x)</b></font>"
   ]
  },
  {
   "cell_type": "markdown",
   "metadata": {},
   "source": [
    "#### np.<font color = magenta><b>sqrt</b></font> (ndarray)"
   ]
  },
  {
   "cell_type": "code",
   "execution_count": 25,
   "metadata": {},
   "outputs": [
    {
     "data": {
      "text/plain": [
       "array([[0.        , 1.        , 1.41421356],\n",
       "       [1.73205081, 2.        , 2.23606798],\n",
       "       [2.44948974, 2.64575131, 2.82842712]])"
      ]
     },
     "execution_count": 25,
     "metadata": {},
     "output_type": "execute_result"
    }
   ],
   "source": [
    "np.sqrt (x)"
   ]
  },
  {
   "cell_type": "markdown",
   "metadata": {},
   "source": [
    "#### np.<font color = magenta><b>log</b></font> (ndarray) - ln (x)"
   ]
  },
  {
   "cell_type": "code",
   "execution_count": 44,
   "metadata": {},
   "outputs": [
    {
     "name": "stderr",
     "output_type": "stream",
     "text": [
      "/opt/anaconda3/lib/python3.7/site-packages/ipykernel_launcher.py:1: RuntimeWarning: divide by zero encountered in log\n",
      "  \"\"\"Entry point for launching an IPython kernel.\n"
     ]
    },
    {
     "data": {
      "text/plain": [
       "array([[      -inf, 0.        , 0.69314718],\n",
       "       [1.09861229, 1.38629436, 1.60943791],\n",
       "       [1.79175947, 1.94591015, 2.07944154]])"
      ]
     },
     "execution_count": 44,
     "metadata": {},
     "output_type": "execute_result"
    }
   ],
   "source": [
    "np.log (x)"
   ]
  },
  {
   "cell_type": "markdown",
   "metadata": {},
   "source": [
    "#### np.<font color = magenta><b>exp</b></font> (ndarray) - e^x"
   ]
  },
  {
   "cell_type": "code",
   "execution_count": 45,
   "metadata": {},
   "outputs": [
    {
     "data": {
      "text/plain": [
       "array([[1.00000000e+00, 2.71828183e+00, 7.38905610e+00],\n",
       "       [2.00855369e+01, 5.45981500e+01, 1.48413159e+02],\n",
       "       [4.03428793e+02, 1.09663316e+03, 2.98095799e+03]])"
      ]
     },
     "execution_count": 45,
     "metadata": {},
     "output_type": "execute_result"
    }
   ],
   "source": [
    "np.exp (x)"
   ]
  },
  {
   "cell_type": "markdown",
   "metadata": {},
   "source": [
    "#### 2. Binary Functions: <font color = magenta><b>f (x, y)</b></font>"
   ]
  },
  {
   "cell_type": "markdown",
   "metadata": {},
   "source": [
    "There are two cases that we must consider when working with binary functions, in the context of NumPy arrays:\n",
    "\n",
    "- When **both operands** of the function are **arrays** (of the same shape).\n",
    "- When one operand of the function is a <font color = magenta><b>scalar</b></font> (i.e. a single number) and the other is an **array**."
   ]
  },
  {
   "cell_type": "markdown",
   "metadata": {},
   "source": [
    "#### <font color = magenta><b>+</b></font> operator"
   ]
  },
  {
   "cell_type": "code",
   "execution_count": 53,
   "metadata": {},
   "outputs": [
    {
     "name": "stdout",
     "output_type": "stream",
     "text": [
      "x:\n",
      " [[0. 1. 2.]\n",
      " [3. 4. 5.]\n",
      " [6. 7. 8.]]\n",
      "\n",
      "y:\n",
      " [[-4.  -3.5 -3. ]\n",
      " [-2.5 -2.  -1.5]\n",
      " [-1.  -0.5 -0. ]]\n",
      "\n",
      "x + y:\n",
      " [[-4.  -2.5 -1. ]\n",
      " [ 0.5  2.   3.5]\n",
      " [ 5.   6.5  8. ]]\n",
      "\n",
      "Scalar operand: x + 5:\n",
      " [[ 5.  6.  7.]\n",
      " [ 8.  9. 10.]\n",
      " [11. 12. 13.]]\n"
     ]
    }
   ],
   "source": [
    "print ('x:\\n', x)\n",
    "print ('\\ny:\\n', y)\n",
    "print ('\\nx + y:\\n', x + y)\n",
    "print ('\\nScalar operand: x + 5:\\n', x + 5)"
   ]
  },
  {
   "cell_type": "markdown",
   "metadata": {},
   "source": [
    "#### square - this is a <font color = magenta><b>binary</b></font> operation : x ** y and np.<font color = magenta><b>power</b></font> - one operand is a <font color = magenta><b>scalar</b></font>"
   ]
  },
  {
   "cell_type": "code",
   "execution_count": 50,
   "metadata": {},
   "outputs": [
    {
     "name": "stdout",
     "output_type": "stream",
     "text": [
      "x:\n",
      " [[0. 1. 2.]\n",
      " [3. 4. 5.]\n",
      " [6. 7. 8.]]\n",
      "\n",
      "x ** 2:\n",
      " [[ 0.  1.  4.]\n",
      " [ 9. 16. 25.]\n",
      " [36. 49. 64.]]\n",
      "\n",
      "np.power (x, 3):\n",
      " [[  0.   1.   8.]\n",
      " [ 27.  64. 125.]\n",
      " [216. 343. 512.]]\n"
     ]
    }
   ],
   "source": [
    "print ('x:\\n', x)\n",
    "print ('\\nx ** 2:\\n', x ** 2)\n",
    "print ('\\nnp.power (x, 3):\\n', np.power (x, 3))"
   ]
  },
  {
   "cell_type": "markdown",
   "metadata": {},
   "source": [
    "np.<font color = magenta><b>maximum</b></font>"
   ]
  },
  {
   "cell_type": "code",
   "execution_count": 51,
   "metadata": {},
   "outputs": [
    {
     "name": "stdout",
     "output_type": "stream",
     "text": [
      "x:\n",
      " [[0. 1. 2.]\n",
      " [3. 4. 5.]\n",
      " [6. 7. 8.]]\n",
      "\n",
      "y:\n",
      " [[-4.  -3.5 -3. ]\n",
      " [-2.5 -2.  -1.5]\n",
      " [-1.  -0.5 -0. ]]\n",
      "\n",
      "np.maximum (x, y):\n",
      " [[0. 1. 2.]\n",
      " [3. 4. 5.]\n",
      " [6. 7. 8.]]\n"
     ]
    }
   ],
   "source": [
    "print ('x:\\n', x)\n",
    "print ('\\ny:\\n', y)\n",
    "print ('\\nnp.maximum (x, y):\\n', np.maximum (x, y))"
   ]
  },
  {
   "cell_type": "markdown",
   "metadata": {},
   "source": [
    "#### 3. functions that operate on sequence of numbers: <font color = magenta><b>f ({x_i} i = 0..n-1)</b></font>"
   ]
  },
  {
   "cell_type": "markdown",
   "metadata": {},
   "source": [
    "#### np.<font color = magenta><b>mean</b></font>\n",
    "#### np.<font color = magenta><b>median</b></font>\n",
    "#### np.<font color = magenta><b>var</b></font> - variance\n",
    "#### np.<font color = magenta><b>std</b></font> - standard deviation\n",
    "#### np.<font color = magenta><b>max</b></font> - see binary function '<font color = blue><b>np.maximum</b></font>' for array of maximum elements among corresponding elements of the two arrays\n",
    "#### np.<font color = magenta><b>min</b></font> - minimum element of the array\n",
    "#### np.<font color = magenta><b>argmax</b></font> - index (sequential) of the maximum element of the array\n",
    "#### np.<font color = magenta><b>argmin</b></font>\n",
    "#### np.<font color = magenta><b>sum</b></font>"
   ]
  },
  {
   "cell_type": "code",
   "execution_count": 55,
   "metadata": {},
   "outputs": [
    {
     "name": "stdout",
     "output_type": "stream",
     "text": [
      "x:\n",
      " [[0. 1. 2.]\n",
      " [3. 4. 5.]\n",
      " [6. 7. 8.]]\n",
      "\n",
      "np.mean (x):\n",
      " 4.0\n",
      "\n",
      "np.median (x):\n",
      " 4.0\n",
      "\n",
      "np.var (x):\n",
      " 6.666666666666667\n",
      "\n",
      "np.std (x):\n",
      " 2.581988897471611\n",
      "\n",
      "np.max (x):\n",
      " 8.0\n",
      "\n",
      "np.min (x):\n",
      " 0.0\n",
      "\n",
      "np.argmax (x):\n",
      " 8\n",
      "\n",
      "np.argmin (x):\n",
      " 0\n",
      "\n",
      "np.sum (x):\n",
      " 36.0\n"
     ]
    }
   ],
   "source": [
    "print ('x:\\n', x)\n",
    "print ('\\nnp.mean (x):\\n', np.mean (x))\n",
    "print ('\\nnp.median (x):\\n', np.median (x))\n",
    "print ('\\nnp.var (x):\\n', np.var (x))\n",
    "print ('\\nnp.std (x):\\n', np.std (x))\n",
    "print ('\\nnp.max (x):\\n', np.max (x))\n",
    "print ('\\nnp.min (x):\\n', np.min (x))\n",
    "print ('\\nnp.argmax (x):\\n', np.argmax (x))\n",
    "print ('\\nnp.argmin (x):\\n', np.argmin (x))\n",
    "print ('\\nnp.sum (x):\\n', np.sum (x))"
   ]
  },
  {
   "cell_type": "markdown",
   "metadata": {},
   "source": [
    "##### 3.1 np.func (ndarray, <font color = magenta><b>axis</b></font> = )"
   ]
  },
  {
   "cell_type": "code",
   "execution_count": 57,
   "metadata": {},
   "outputs": [
    {
     "name": "stdout",
     "output_type": "stream",
     "text": [
      "x:\n",
      " [[0. 1. 2.]\n",
      " [3. 4. 5.]\n",
      " [6. 7. 8.]]\n",
      "\n",
      "np.sum (x, axis = 0):\n",
      " [ 9. 12. 15.]\n",
      "\n",
      "np.sum (x, axis = 1):\n",
      " [ 3. 12. 21.]\n"
     ]
    }
   ],
   "source": [
    "print ('x:\\n', x)\n",
    "print ('\\nnp.sum (x, axis = 0):\\n', np.sum (x, axis = 0))\n",
    "print ('\\nnp.sum (x, axis = 1):\\n', np.sum (x, axis = 1))"
   ]
  },
  {
   "cell_type": "markdown",
   "metadata": {},
   "source": [
    "another **example**"
   ]
  },
  {
   "cell_type": "code",
   "execution_count": 63,
   "metadata": {},
   "outputs": [
    {
     "name": "stdout",
     "output_type": "stream",
     "text": [
      "x:\n",
      " [[[ 0  1  2]\n",
      "  [ 3  4  5]]\n",
      "\n",
      " [[ 6  7  8]\n",
      "  [ 9 10 11]]\n",
      "\n",
      " [[12 13 14]\n",
      "  [15 16 17]]\n",
      "\n",
      " [[18 19 20]\n",
      "  [21 22 23]]]\n",
      "\n",
      "x.shape:\n",
      " (4, 2, 3)\n",
      "\n",
      "np.sum (x, axis = 0):\n",
      " [[36 40 44]\n",
      " [48 52 56]]\n",
      "\n",
      "np.sum (x, axis = 1):\n",
      " [[ 3  5  7]\n",
      " [15 17 19]\n",
      " [27 29 31]\n",
      " [39 41 43]]\n",
      "\n",
      "np.sum (x, axis = 2):\n",
      " [[ 3 12]\n",
      " [21 30]\n",
      " [39 48]\n",
      " [57 66]]\n",
      "\n",
      "np.sum (x, axis = (0, 1)):\n",
      " [ 84  92 100]\n",
      "2+5+8+11+14+17+20+23 = : 100\n"
     ]
    }
   ],
   "source": [
    "x = np.arange(24).reshape(4,2,3)\n",
    "print ('x:\\n', x)\n",
    "print ('\\nx.shape:\\n', x.shape)\n",
    "print ('\\nnp.sum (x, axis = 0):\\n', np.sum (x, axis = 0))\n",
    "print ('\\nnp.sum (x, axis = 1):\\n', np.sum (x, axis = 1))\n",
    "print ('\\nnp.sum (x, axis = 2):\\n', np.sum (x, axis = 2))\n",
    "print ('\\nnp.sum (x, axis = (0, 1)):\\n', np.sum (x, axis = (0,1)))\n",
    "print ('2+5+8+11+14+17+20+23 = :', 2+5+8+11+14+17+20+23)"
   ]
  },
  {
   "cell_type": "markdown",
   "metadata": {},
   "source": [
    "### ii. <font color = magenta><b>Logical</b></font> Operations"
   ]
  },
  {
   "cell_type": "markdown",
   "metadata": {},
   "source": [
    "#### Binary operations"
   ]
  },
  {
   "cell_type": "markdown",
   "metadata": {},
   "source": [
    "**data**"
   ]
  },
  {
   "cell_type": "code",
   "execution_count": 65,
   "metadata": {},
   "outputs": [],
   "source": [
    "x = np.array([[ 0,  1,  2,  3],\n",
    "            [ 4,  5,  6,  7],\n",
    "            [ 8,  9, 10, 11],\n",
    "            [12, 13, 14, 15]])"
   ]
  },
  {
   "cell_type": "markdown",
   "metadata": {},
   "source": [
    "**example**"
   ]
  },
  {
   "cell_type": "code",
   "execution_count": 71,
   "metadata": {},
   "outputs": [
    {
     "name": "stdout",
     "output_type": "stream",
     "text": [
      "x:\n",
      " [[ 0  1  2  3]\n",
      " [ 4  5  6  7]\n",
      " [ 8  9 10 11]\n",
      " [12 13 14 15]]\n",
      "\n",
      "x.shape:\n",
      " (4, 4)\n",
      "\n",
      "x < 6:\n",
      " [[ True  True  True  True]\n",
      " [ True  True False False]\n",
      " [False False False False]\n",
      " [False False False False]]\n"
     ]
    }
   ],
   "source": [
    "print ('x:\\n', x)\n",
    "print ('\\nx.shape:\\n', x.shape)\n",
    "print ('\\nx < 6:\\n', x < 6)"
   ]
  },
  {
   "cell_type": "markdown",
   "metadata": {},
   "source": [
    "#### Sequence operations"
   ]
  },
  {
   "cell_type": "markdown",
   "metadata": {},
   "source": [
    "np.<font color = magenta><b>allclose</b></font>"
   ]
  },
  {
   "cell_type": "markdown",
   "metadata": {},
   "source": [
    "You should **never rely on two floating point numbers being exactly equal**. Rather, you should require that they are sufficiently “close” in value. In this same vein, you ought not check that the entries of two float-type arrays are precisely equal. Towards this end, the function allclose can be used to verify that all corresponding pairs of entries between two arrays are approximately equal in value"
   ]
  },
  {
   "cell_type": "code",
   "execution_count": 73,
   "metadata": {},
   "outputs": [
    {
     "name": "stdout",
     "output_type": "stream",
     "text": [
      "x:\n",
      " [0.1 0.2 0.3]\n",
      "\n",
      "y:\n",
      " [0.1 0.2 0.3]\n",
      "\n",
      "np.allclose(x, y):\n",
      " True\n"
     ]
    }
   ],
   "source": [
    "x = np.array([0.1, 0.2, 0.3])\n",
    "y = np.array([1., 2., 3.]) / 10\n",
    "print ('x:\\n', x)\n",
    "print ('\\ny:\\n', y)\n",
    "print ('\\nnp.allclose(x, y):\\n', np.allclose(x, y))"
   ]
  },
  {
   "cell_type": "markdown",
   "metadata": {},
   "source": [
    "## c. Performance of Vectorized Operations"
   ]
  },
  {
   "cell_type": "markdown",
   "metadata": {},
   "source": [
    "measure time using <font color = magenta><b>timeit</b></font>"
   ]
  },
  {
   "cell_type": "code",
   "execution_count": 20,
   "metadata": {},
   "outputs": [
    {
     "name": "stdout",
     "output_type": "stream",
     "text": [
      "python_sum thread took 21.519882301000052 seconds.\n",
      "python_loop_sum thread took 29.515229176000048 seconds.\n",
      "numpy_sum thread took 0.06145643499985454 seconds.\n"
     ]
    }
   ],
   "source": [
    "import timeit\n",
    "element_count = 10000000 #how many elements in the array\n",
    "thread_invoc_count = 10 #how many times to run the thread\n",
    "\n",
    "#data\n",
    "x = np.random.standard_normal (element_count)\n",
    "\n",
    "#thread callables\n",
    "def python_sum ():\n",
    "    return sum (x)\n",
    "def python_loop_sum ():\n",
    "    sum = 0\n",
    "    for i in x:\n",
    "        sum += i\n",
    "    return sum\n",
    "def numpy_sum ():\n",
    "    return np.sum (x)\n",
    "\n",
    "#threads\n",
    "t1 = timeit.timeit (python_sum, number = thread_invoc_count)\n",
    "t2 = timeit.timeit (python_loop_sum, number = thread_invoc_count)\n",
    "t3 = timeit.timeit (numpy_sum, number = thread_invoc_count)\n",
    "\n",
    "#call threads\n",
    "print ('python_sum thread took', t1, 'seconds.')\n",
    "print ('python_loop_sum thread took', t2, 'seconds.')\n",
    "print ('numpy_sum thread took', t3, 'seconds.')"
   ]
  },
  {
   "cell_type": "markdown",
   "metadata": {},
   "source": [
    "with:\n",
    "element_count = 10000000\n",
    "thread_invoc_count = 10\n",
    "- **python_sum** thread took <font color = red><b>21.53</b></font> seconds.\n",
    "- **python_loop_sum** thread took <font color = red><b>29.51</b></font> seconds.\n",
    "- **numpy_sum** thread took <font color = magenta><b>0.06</b></font> seconds."
   ]
  },
  {
   "cell_type": "markdown",
   "metadata": {},
   "source": [
    "# G. <font color = orange><b>Linear Algebra</b></font>"
   ]
  },
  {
   "cell_type": "markdown",
   "metadata": {},
   "source": [
    "https://becominghuman.ai/an-essential-guide-to-numpy-for-machine-learning-in-python-5615e1758301"
   ]
  },
  {
   "cell_type": "markdown",
   "metadata": {},
   "source": [
    "**multiple linear regression** - http://www2.lawrence.edu/fast/GREGGJ/Python/numpy/numpyLA.html"
   ]
  },
  {
   "cell_type": "markdown",
   "metadata": {},
   "source": [
    "np.<font color = magenta><b>linalg</b></font>"
   ]
  },
  {
   "cell_type": "markdown",
   "metadata": {},
   "source": [
    "**data**"
   ]
  },
  {
   "cell_type": "code",
   "execution_count": 85,
   "metadata": {},
   "outputs": [
    {
     "name": "stdout",
     "output_type": "stream",
     "text": [
      "\n",
      "matrix:\n",
      " [[1 2 3]\n",
      " [4 5 6]\n",
      " [7 8 9]]\n"
     ]
    }
   ],
   "source": [
    "#Create a Matrix\n",
    "matrix = np.array([[1,2,3],[4,5,6],[7,8,9]])\n",
    "print('\\nmatrix:\\n', matrix)"
   ]
  },
  {
   "cell_type": "markdown",
   "metadata": {},
   "source": [
    "ndarray<font color = magenta><b>.T</b></font> - **transpose** - np.<font color = magenta><b>transpose</b></font>"
   ]
  },
  {
   "cell_type": "code",
   "execution_count": 112,
   "metadata": {},
   "outputs": [
    {
     "name": "stdout",
     "output_type": "stream",
     "text": [
      "\n",
      "matrix:\n",
      " [[1 2 3]\n",
      " [4 5 6]\n",
      " [7 8 9]]\n",
      "\n",
      "matrix.T:\n",
      " [[1 4 7]\n",
      " [2 5 8]\n",
      " [3 6 9]]\n",
      "\n",
      "np.transpose:\n",
      " [[1 4 7]\n",
      " [2 5 8]\n",
      " [3 6 9]]\n"
     ]
    }
   ],
   "source": [
    "print('\\nmatrix:\\n', matrix)\n",
    "print('\\nmatrix.T:\\n', matrix.T)\n",
    "print('\\nnp.transpose:\\n', np.transpose (matrix))"
   ]
  },
  {
   "cell_type": "markdown",
   "metadata": {},
   "source": [
    "np.**linalg**.<font color = magenta><b>det</b></font> (ndarray) and np.**linalg**.<font color = magenta><b>matrix_rank</b></font>"
   ]
  },
  {
   "cell_type": "code",
   "execution_count": 94,
   "metadata": {},
   "outputs": [
    {
     "name": "stdout",
     "output_type": "stream",
     "text": [
      "\n",
      "matrix:\n",
      " [[1 2 3]\n",
      " [4 5 6]\n",
      " [7 8 9]]\n",
      "\n",
      "np.linalg.det:\n",
      " -9.51619735392994e-16\n",
      "\n",
      "is determinant zero?:\n",
      " True\n",
      "\n",
      "np.linalg.matrix_rank:\n",
      " 2\n"
     ]
    }
   ],
   "source": [
    "def is_det_zero (det):\n",
    "    return np.allclose ([0], [det])\n",
    "\n",
    "print('\\nmatrix:\\n', matrix)\n",
    "det = np.linalg.det(matrix)\n",
    "print('\\nnp.linalg.det:\\n', det)\n",
    "print ('\\nis determinant zero?:\\n', is_det_zero (det))\n",
    "rank = np.linalg.matrix_rank(matrix)\n",
    "print('\\nnp.linalg.matrix_rank:\\n', rank)"
   ]
  },
  {
   "cell_type": "markdown",
   "metadata": {},
   "source": [
    "ndarray.<font color = magenta><b>diagonal</b></font>"
   ]
  },
  {
   "cell_type": "code",
   "execution_count": 109,
   "metadata": {},
   "outputs": [
    {
     "name": "stdout",
     "output_type": "stream",
     "text": [
      "\n",
      "matrix:\n",
      " [[1 2 3]\n",
      " [4 5 6]\n",
      " [7 8 9]]\n",
      "\n",
      "The Principal diagonal:\n",
      " [1 5 9]\n",
      "\n",
      "The diagonal at offset 1:\n",
      " [2 6]\n",
      "\n",
      "The diagonal at offset -1:\n",
      " [4 8]\n",
      "\n",
      "The diagonal at offset -2:\n",
      " [7]\n"
     ]
    }
   ],
   "source": [
    "print('\\nmatrix:\\n', matrix)\n",
    "print('\\nThe Principal diagonal:\\n', matrix.diagonal())\n",
    "print('\\nThe diagonal at offset 1:\\n', matrix.diagonal(offset=1))\n",
    "print('\\nThe diagonal at offset -1:\\n', matrix.diagonal(offset=-1))\n",
    "print('\\nThe diagonal at offset -2:\\n', matrix.diagonal(offset=-2))"
   ]
  },
  {
   "cell_type": "markdown",
   "metadata": {},
   "source": [
    "ndarray.<font color = magenta><b>trace</b></font>"
   ]
  },
  {
   "cell_type": "markdown",
   "metadata": {},
   "source": [
    "The trace of a matrix is the **sum of its diagonal components**."
   ]
  },
  {
   "cell_type": "code",
   "execution_count": 108,
   "metadata": {},
   "outputs": [
    {
     "name": "stdout",
     "output_type": "stream",
     "text": [
      "\n",
      "matrix:\n",
      " [[1 2 3]\n",
      " [4 5 6]\n",
      " [7 8 9]]\n",
      "\n",
      "trace:\n",
      " 15\n"
     ]
    }
   ],
   "source": [
    "print('\\nmatrix:\\n', matrix)\n",
    "trace = matrix.trace ()\n",
    "print ('\\ntrace:\\n', trace)"
   ]
  },
  {
   "cell_type": "markdown",
   "metadata": {},
   "source": [
    "ndarray.<font color = magenta><b>eig</b></font> - eigenvalues and eigenvectors"
   ]
  },
  {
   "cell_type": "code",
   "execution_count": 104,
   "metadata": {},
   "outputs": [
    {
     "name": "stdout",
     "output_type": "stream",
     "text": [
      "\n",
      "matrix:\n",
      " [[1 2 3]\n",
      " [4 5 6]\n",
      " [7 8 9]]\n",
      "\n",
      "Eigenvalues:\n",
      " [ 1.61168440e+01 -1.11684397e+00 -9.75918483e-16]\n",
      "\n",
      "Eigenvectors:\n",
      " [[-0.23197069 -0.78583024  0.40824829]\n",
      " [-0.52532209 -0.08675134 -0.81649658]\n",
      " [-0.8186735   0.61232756  0.40824829]]\n"
     ]
    }
   ],
   "source": [
    "print('\\nmatrix:\\n', matrix)\n",
    "evalues, evectors = np.linalg.eig (matrix)\n",
    "print ('\\nEigenvalues:\\n', evalues)\n",
    "print ('\\nEigenvectors:\\n', evectors)"
   ]
  },
  {
   "cell_type": "markdown",
   "metadata": {},
   "source": [
    "np.**linalg**.<font color = magenta><b>inv</b></font> - inverse of a matrix"
   ]
  },
  {
   "cell_type": "code",
   "execution_count": 110,
   "metadata": {},
   "outputs": [
    {
     "name": "stdout",
     "output_type": "stream",
     "text": [
      "\n",
      "matrix:\n",
      " [[1 2 3]\n",
      " [4 5 6]\n",
      " [7 8 9]]\n",
      "\n",
      "inverse:\n",
      " [[ 3.15251974e+15 -6.30503948e+15  3.15251974e+15]\n",
      " [-6.30503948e+15  1.26100790e+16 -6.30503948e+15]\n",
      " [ 3.15251974e+15 -6.30503948e+15  3.15251974e+15]]\n"
     ]
    }
   ],
   "source": [
    "print('\\nmatrix:\\n', matrix)\n",
    "inverse = np.linalg.inv (matrix)\n",
    "print ('\\ninverse:\\n', inverse)"
   ]
  },
  {
   "cell_type": "markdown",
   "metadata": {},
   "source": [
    "solving <font color = magenta><b>systems of linear equations</b></font> - Ax = b : solve for x"
   ]
  },
  {
   "cell_type": "code",
   "execution_count": 115,
   "metadata": {},
   "outputs": [
    {
     "name": "stdout",
     "output_type": "stream",
     "text": [
      "\n",
      "A:\n",
      " [[ 2  1 -2]\n",
      " [ 3  0  1]\n",
      " [ 1  1 -1]]\n",
      "\n",
      "b:\n",
      " [[-3]\n",
      " [ 5]\n",
      " [-2]]\n",
      "\n",
      "Ax = b. x =:\n",
      " [[ 1.]\n",
      " [-1.]\n",
      " [ 2.]]\n"
     ]
    }
   ],
   "source": [
    "A = np.array([[2,1,-2],[3,0,1],[1,1,-1]])\n",
    "b = np.transpose(np.array([[-3,5,-2]]))\n",
    "print('\\nA:\\n', A)\n",
    "print('\\nb:\\n', b)\n",
    "x = np.linalg.solve (A, b)\n",
    "print ('\\nAx = b. x =:\\n', x)"
   ]
  },
  {
   "cell_type": "markdown",
   "metadata": {},
   "source": [
    "# H. <font color = orange><b>Random Sampling from Distributions</b></font>"
   ]
  },
  {
   "cell_type": "markdown",
   "metadata": {},
   "source": [
    "**TODO**\n",
    "Note:\n",
    "- randn generates samples from the normal distribution, while numpy. random. **rand from uniform** (in range [0,1)).\n",
    "- np.cumsum (np.random.randn(10,1)) - plot"
   ]
  },
  {
   "cell_type": "markdown",
   "metadata": {},
   "source": [
    "## i. np.random.<font color = magenta><b>randn</b></font> and np.random.<font color = magenta><b>standard_normal</b></font>"
   ]
  },
  {
   "cell_type": "markdown",
   "metadata": {},
   "source": [
    "**Specific** Normal Distribution\n",
    "- <font color = magenta><b>mean = 0</b></font>\n",
    "- <font color = magenta><b>variance = 1</b></font>"
   ]
  },
  {
   "cell_type": "markdown",
   "metadata": {},
   "source": [
    "### randn"
   ]
  },
  {
   "cell_type": "markdown",
   "metadata": {},
   "source": [
    "> backward compatibility with **Matlab**\n",
    "> - takes dimensions as individual parameters"
   ]
  },
  {
   "cell_type": "markdown",
   "metadata": {},
   "source": [
    "randn **(n)** returns a **1D** ndarray"
   ]
  },
  {
   "cell_type": "code",
   "execution_count": 2,
   "metadata": {},
   "outputs": [
    {
     "data": {
      "text/plain": [
       "array([-0.69781929,  0.76250905, -0.00100293])"
      ]
     },
     "execution_count": 2,
     "metadata": {},
     "output_type": "execute_result"
    }
   ],
   "source": [
    "randn (3)"
   ]
  },
  {
   "cell_type": "markdown",
   "metadata": {},
   "source": [
    "randn **(m, n)** returns a **2D** (m x n) ndarray"
   ]
  },
  {
   "cell_type": "code",
   "execution_count": 3,
   "metadata": {},
   "outputs": [
    {
     "data": {
      "text/plain": [
       "array([[ 0.01257397, -1.09267948],\n",
       "       [ 0.43461778, -0.9010176 ],\n",
       "       [ 0.94876503, -0.06544939]])"
      ]
     },
     "execution_count": 3,
     "metadata": {},
     "output_type": "execute_result"
    }
   ],
   "source": [
    "randn (3, 2)"
   ]
  },
  {
   "cell_type": "markdown",
   "metadata": {},
   "source": [
    "randn **(i, j, k)** returns a **3D** (i x j x k) ndarray"
   ]
  },
  {
   "cell_type": "code",
   "execution_count": 4,
   "metadata": {},
   "outputs": [
    {
     "data": {
      "text/plain": [
       "array([[[-0.18420962, -2.80150569, -1.94776301,  0.58616938],\n",
       "        [-0.16765517,  0.0843139 ,  0.88771571,  0.05693744],\n",
       "        [ 0.88764414, -0.92584994,  0.96424221,  2.3480603 ]],\n",
       "\n",
       "       [[-0.14195735, -0.03706071,  0.19416724, -1.05178575],\n",
       "        [-0.66259882, -1.4020511 ,  0.87980418, -0.7594163 ],\n",
       "        [-0.07895493,  0.68616642, -1.58868401,  1.62971673]]])"
      ]
     },
     "execution_count": 4,
     "metadata": {},
     "output_type": "execute_result"
    }
   ],
   "source": [
    "randn (2, 3, 4)"
   ]
  },
  {
   "cell_type": "markdown",
   "metadata": {},
   "source": [
    "**plot**"
   ]
  },
  {
   "cell_type": "code",
   "execution_count": 5,
   "metadata": {},
   "outputs": [
    {
     "data": {
      "image/png": "[encoded data removed]",
      "text/plain": [
       "<Figure size 432x288 with 1 Axes>"
      ]
     },
     "metadata": {
      "needs_background": "light"
     },
     "output_type": "display_data"
    }
   ],
   "source": [
    "sns.kdeplot (randn (500))\n",
    "plt.show ()"
   ]
  },
  {
   "cell_type": "markdown",
   "metadata": {},
   "source": [
    "### standard_normal"
   ]
  },
  {
   "cell_type": "markdown",
   "metadata": {},
   "source": [
    "> **NumPy-centric**\n",
    "> - takes dimensions as a tuple\n",
    "> - This allows other parameters like **dtype** and **order** to be passed to the function as well."
   ]
  },
  {
   "cell_type": "markdown",
   "metadata": {},
   "source": [
    "standard_normal (**(m, n)**) returns a **2D** (m x n) ndarray"
   ]
  },
  {
   "cell_type": "code",
   "execution_count": 6,
   "metadata": {},
   "outputs": [
    {
     "data": {
      "text/plain": [
       "array([[-1.86646271, -0.19924265,  1.13467334, -0.17763385],\n",
       "       [-0.21805904, -0.47804114,  0.5908614 ,  1.49768637]])"
      ]
     },
     "execution_count": 6,
     "metadata": {},
     "output_type": "execute_result"
    }
   ],
   "source": [
    "standard_normal ((2, 4))"
   ]
  },
  {
   "cell_type": "markdown",
   "metadata": {},
   "source": [
    "**plot**"
   ]
  },
  {
   "cell_type": "code",
   "execution_count": 7,
   "metadata": {},
   "outputs": [
    {
     "data": {
      "image/png": "[encoded data removed]",
      "text/plain": [
       "<Figure size 432x288 with 1 Axes>"
      ]
     },
     "metadata": {
      "needs_background": "light"
     },
     "output_type": "display_data"
    }
   ],
   "source": [
    "sns.kdeplot (standard_normal (500))\n",
    "plt.show ()"
   ]
  },
  {
   "cell_type": "markdown",
   "metadata": {},
   "source": [
    "## ii. np.random.<font color = magenta><b>normal</b></font>"
   ]
  },
  {
   "cell_type": "markdown",
   "metadata": {},
   "source": [
    "**Generic** Normal Distribution\n",
    "- mean: <font color = magenta><b>loc = </b></font>\n",
    "- variance: <font color = magenta><b>scale =</b></font>"
   ]
  },
  {
   "cell_type": "markdown",
   "metadata": {},
   "source": [
    "> **NumPy-centric**\n",
    "> - takes dimensions as a tuple\n",
    "> - This allows other parameters like **loc** and **scale** to be passed to the function as well."
   ]
  },
  {
   "cell_type": "markdown",
   "metadata": {},
   "source": [
    "normal (**loc** = , **scale** = , **(m, n)**) returns a **2D** (m x n) ndarray with values having 'loc' as mean, and 'scale' as variance"
   ]
  },
  {
   "cell_type": "code",
   "execution_count": 8,
   "metadata": {},
   "outputs": [
    {
     "data": {
      "text/plain": [
       "array([[ 7.8948123 ,  4.39815973,  9.39660432],\n",
       "       [20.40527397, 19.64774283,  9.2247971 ]])"
      ]
     },
     "execution_count": 8,
     "metadata": {},
     "output_type": "execute_result"
    }
   ],
   "source": [
    "normal (loc=15.0, scale=5.0, size=(2,3))"
   ]
  },
  {
   "cell_type": "markdown",
   "metadata": {},
   "source": [
    "**plot**"
   ]
  },
  {
   "cell_type": "code",
   "execution_count": 9,
   "metadata": {},
   "outputs": [
    {
     "data": {
      "image/png": "[encoded data removed]",
      "text/plain": [
       "<Figure size 432x288 with 1 Axes>"
      ]
     },
     "metadata": {
      "needs_background": "light"
     },
     "output_type": "display_data"
    }
   ],
   "source": [
    "sns.kdeplot (normal (loc = 15.0, scale = 5.0, size = 500))\n",
    "plt.show ()"
   ]
  },
  {
   "cell_type": "markdown",
   "metadata": {},
   "source": [
    "## iii. np.random.<font color = magenta><b>seed</b></font> and np.random.<font color = magenta><b>RandomState</b></font>"
   ]
  },
  {
   "cell_type": "markdown",
   "metadata": {},
   "source": [
    "https://stackoverflow.com/questions/5836335/consistently-create-same-random-numpy-array/5837352#5837352"
   ]
  },
  {
   "cell_type": "code",
   "execution_count": null,
   "metadata": {},
   "outputs": [],
   "source": []
  }
 ],
 "metadata": {
  "kernelspec": {
   "display_name": "Python 3",
   "language": "python",
   "name": "python3"
  },
  "language_info": {
   "codemirror_mode": {
    "name": "ipython",
    "version": 3
   },
   "file_extension": ".py",
   "mimetype": "text/x-python",
   "name": "python",
   "nbconvert_exporter": "python",
   "pygments_lexer": "ipython3",
   "version": "3.7.4"
  }
 },
 "nbformat": 4,
 "nbformat_minor": 2
}
