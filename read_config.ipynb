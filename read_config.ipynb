{
 "cells": [
  {
   "cell_type": "code",
   "execution_count": 1,
   "metadata": {},
   "outputs": [],
   "source": [
    "#usage\n",
    "#config = Config ()\n",
    "#config.set_dataset_id (\"boston-housing\")\n",
    "#config.get_train_df ().head(5)\n",
    "\n",
    "import os\n",
    "import json\n",
    "import pandas as pd\n",
    "class Config:\n",
    "    def __init__ (self, config_file = 'config.json'):\n",
    "        with open (config_file, 'r') as f:\n",
    "            self.config = json.load (f)\n",
    "\n",
    "        self.dataset_id = None\n",
    "        self.train_f = None\n",
    "        self.test_f = None\n",
    "    \n",
    "    def set_dataset_id (self, id):\n",
    "        self.dataset_id = id\n",
    "        datasets_dir = self.config [\"data\"][\"datasets-dir\"]\n",
    "        dataset_dir = self.config [\"data\"][\"datasets\"][id][\"dir\"]\n",
    "        train_f = self.config [\"data\"][\"datasets\"][id][\"files\"][\"train\"]\n",
    "        test_f = self.config [\"data\"][\"datasets\"][id][\"files\"][\"test\"]\n",
    "        self.train_f = os.path.join (datasets_dir, dataset_dir, train_f)\n",
    "        self.test_f = os.path.join (datasets_dir, dataset_dir, test_f)\n",
    "\n",
    "    def is_dataset_id_valid (self):\n",
    "        return self.dataset_id != None\n",
    "    \n",
    "    def get_train_f (self):\n",
    "        if not self.is_dataset_id_valid ():\n",
    "            return None\n",
    "        return self.train_f\n",
    "    \n",
    "    def get_test_f (self):\n",
    "        if not self.is_dataset_id_valid ():\n",
    "            return None\n",
    "        return self.test_f\n",
    "    \n",
    "    def get_train_df (self):\n",
    "        return pd.read_csv (self.train_f)\n",
    "    \n",
    "    def get_test_df (self):\n",
    "        return pd.read_csv (self.test_f)\n"
   ]
  },
  {
   "cell_type": "code",
   "execution_count": null,
   "metadata": {},
   "outputs": [],
   "source": []
  }
 ],
 "metadata": {
  "kernelspec": {
   "display_name": "Python 3",
   "language": "python",
   "name": "python3"
  },
  "language_info": {
   "codemirror_mode": {
    "name": "ipython",
    "version": 3
   },
   "file_extension": ".py",
   "mimetype": "text/x-python",
   "name": "python",
   "nbconvert_exporter": "python",
   "pygments_lexer": "ipython3",
   "version": "3.7.4"
  }
 },
 "nbformat": 4,
 "nbformat_minor": 2
}
